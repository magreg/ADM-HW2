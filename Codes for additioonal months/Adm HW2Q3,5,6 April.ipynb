{
 "cells": [
  {
   "cell_type": "code",
   "execution_count": 1,
   "metadata": {},
   "outputs": [],
   "source": [
    "import numpy as np\n",
    "import pandas as pd\n",
    "import matplotlib.pyplot as plt\n",
    "import matplotlib.ticker as ticker\n",
    "plt.style.use('seaborn-white')\n",
    "\n",
    "from datetime import datetime"
   ]
  },
  {
   "cell_type": "code",
   "execution_count": null,
   "metadata": {},
   "outputs": [],
   "source": [
    "# Import the Dataset\n",
    "selected_month = pd.read_csv('2020-Apr.csv.gz', compression='gzip',\n",
    "                   error_bad_lines=False)\n",
    "selected_month.head()"
   ]
  },
  {
   "cell_type": "code",
   "execution_count": null,
   "metadata": {},
   "outputs": [],
   "source": [
    "selected_month.shape"
   ]
  },
  {
   "cell_type": "code",
   "execution_count": null,
   "metadata": {},
   "outputs": [],
   "source": [
    "selected_month.dtypes"
   ]
  },
  {
   "cell_type": "markdown",
   "metadata": {},
   "source": [
    "QUESTION 3:\n",
    "\n",
    "            What is the brand whose prices are higher on average?"
   ]
  },
  {
   "cell_type": "code",
   "execution_count": null,
   "metadata": {},
   "outputs": [],
   "source": [
    "# Select part of the dataset\n",
    "Month = selected_month.iloc[:,1:7]\n",
    "# drop the excess column\n",
    "Month = Month.drop(columns=['event_type','product_id','category_id']) \n",
    "Month.head()"
   ]
  },
  {
   "cell_type": "code",
   "execution_count": null,
   "metadata": {},
   "outputs": [],
   "source": [
    "# Group the column by category_code and brand and compute the average price\n",
    "table = Month.groupby(['category_code','brand'], as_index=False)['price'].mean()\n",
    "# rename the column\n",
    "table = table.rename(columns={\"price\": \"average_price\"})\n",
    "table"
   ]
  },
  {
   "cell_type": "code",
   "execution_count": null,
   "metadata": {},
   "outputs": [],
   "source": [
    "# Split the \"category_code\" data in category and sub_category\n",
    "table['category'], table['sub_category'] = table['category_code'].str.split('.', 1).str\n",
    "table"
   ]
  },
  {
   "cell_type": "code",
   "execution_count": null,
   "metadata": {},
   "outputs": [],
   "source": [
    "# Rearrange the Dataframe \"table\"\n",
    "cols = table.columns.tolist()\n",
    "cols = cols[-3:] + cols[:-3]\n",
    "table = table[cols]\n",
    "table"
   ]
  },
  {
   "cell_type": "markdown",
   "metadata": {},
   "source": [
    " - write a function that ask at the user a category in inputs"
   ]
  },
  {
   "cell_type": "code",
   "execution_count": null,
   "metadata": {},
   "outputs": [],
   "source": [
    "# Function for plot the category code\n",
    "def category_code_plot_avg_price(word):\n",
    "                  \n",
    "    table2 = table.loc[table['category_code'] == word]\n",
    "    plt.figure(figsize = (15,10))\n",
    "    ax = plt.subplot()\n",
    "    ax.barh(table2['brand'].head(40),\n",
    "               table2['average_price'].head(40), \n",
    "               align = 'center', edgecolor = 'k')\n",
    "    plt.axvline(table2['average_price'].mean(), c='red')\n",
    "    plt.xlabel('Average Price')\n",
    "    plt.ylabel('Brand')\n",
    "    plt.title(f'Plot the April average price of {word}.')\n",
    "    plt.show()\n",
    "    \n",
    "    return ax"
   ]
  },
  {
   "cell_type": "code",
   "execution_count": null,
   "metadata": {},
   "outputs": [],
   "source": [
    "# Function for plot the category\n",
    "def category_plot_avg_price(word):\n",
    "                  \n",
    "    table2 = table.loc[table['category'] == word]\n",
    "    plt.figure(figsize = (15,10))\n",
    "    ax = plt.subplot()\n",
    "    ax.barh(table2['brand'].head(40),\n",
    "               table2['average_price'].head(40), \n",
    "               align = 'center', edgecolor = 'k')\n",
    "    plt.axvline(table2['average_price'].mean(), c='red')\n",
    "    plt.xlabel('Average Price')\n",
    "    plt.ylabel('Brand')\n",
    "    plt.title(f'Plot the April average price of {word}.')\n",
    "    plt.show()\n",
    "    \n",
    "    return ax"
   ]
  },
  {
   "cell_type": "code",
   "execution_count": null,
   "metadata": {},
   "outputs": [],
   "source": [
    "# Function for plot the sub_category\n",
    "def subcategory_plot_avg_price(word):\n",
    "                  \n",
    "    table2 = table.loc[table['sub_category'] == word]\n",
    "    plt.figure(figsize = (15,10))\n",
    "    ax = plt.subplot()\n",
    "    ax.barh(table2['brand'].head(40),\n",
    "               table2['average_price'].head(40), \n",
    "               align = 'center', edgecolor = 'k')\n",
    "    plt.axvline(table2['average_price'].mean(), c='red')\n",
    "    plt.xlabel('Average Price')\n",
    "    plt.ylabel('Brand')\n",
    "    plt.title(f'Plot the April average price of {word}.')\n",
    "    plt.show()\n",
    "    \n",
    "    return ax"
   ]
  },
  {
   "cell_type": "code",
   "execution_count": null,
   "metadata": {},
   "outputs": [],
   "source": [
    "category_code_plot_avg_price('accessories.bag')"
   ]
  },
  {
   "cell_type": "code",
   "execution_count": null,
   "metadata": {},
   "outputs": [],
   "source": [
    "category_plot_avg_price('accessories')"
   ]
  },
  {
   "cell_type": "code",
   "execution_count": null,
   "metadata": {},
   "outputs": [],
   "source": [
    "subcategory_plot_avg_price('bag')"
   ]
  },
  {
   "cell_type": "markdown",
   "metadata": {},
   "source": [
    " - Find, for each categoty, the brand with the highest average price."
   ]
  },
  {
   "cell_type": "code",
   "execution_count": null,
   "metadata": {},
   "outputs": [],
   "source": [
    "# Find the Category Object with the Maximum Price \n",
    "Max_Price = table.groupby(['category'], as_index=False)['average_price'].max()\n",
    "Max_Price"
   ]
  },
  {
   "cell_type": "code",
   "execution_count": null,
   "metadata": {},
   "outputs": [],
   "source": [
    "# Merge the two dataset\n",
    "merge_dataset = Max_Price.merge(table, on='average_price')\n",
    "# Select only conversion rate and sort in decring order\n",
    "Merge_dataset = merge_dataset.drop(columns=['category_y'])\n",
    "# rename the column\n",
    "Merge_dataset = Merge_dataset.rename(columns={\"category_x\": \"category\", \"average_price\":\"Max_price\"})\n",
    "Dataset_ascending = Merge_dataset.sort_values(by='Max_price', ascending=False, inplace=False)\n",
    "Dataset_ascending"
   ]
  },
  {
   "cell_type": "markdown",
   "metadata": {},
   "source": [
    "QUESTION 5:\n",
    "\n",
    "            In what part of the day is your store most visited?"
   ]
  },
  {
   "cell_type": "code",
   "execution_count": null,
   "metadata": {},
   "outputs": [],
   "source": [
    "# Select part of the dataset\n",
    "Month = selected_month.iloc[:,0:5]\n",
    "Month = Month.drop(columns=['product_id','category_id'])\n",
    "Month.head()"
   ]
  },
  {
   "cell_type": "code",
   "execution_count": null,
   "metadata": {},
   "outputs": [],
   "source": [
    "Month.shape"
   ]
  },
  {
   "cell_type": "code",
   "execution_count": null,
   "metadata": {},
   "outputs": [],
   "source": [
    "# Transform the data event_time in datatime\n",
    "Month.event_time = pd.to_datetime(Month.event_time)"
   ]
  },
  {
   "cell_type": "code",
   "execution_count": null,
   "metadata": {},
   "outputs": [],
   "source": [
    "# Hour Visitor\n",
    "Hour = Month.resample('H', on='event_time').event_type.count()\n",
    "print(Hour)"
   ]
  },
  {
   "cell_type": "code",
   "execution_count": null,
   "metadata": {},
   "outputs": [],
   "source": [
    "# Days Visitor\n",
    "Day = Month.resample('D', on='event_time').event_type.count()\n",
    "print(Day)"
   ]
  },
  {
   "cell_type": "code",
   "execution_count": null,
   "metadata": {},
   "outputs": [],
   "source": [
    "# Weak Visitor (starting on monday)\n",
    "Week_Mon = Month.resample('W-MON', on='event_time').event_type.count()\n",
    "print(Week_Mon)"
   ]
  },
  {
   "cell_type": "code",
   "execution_count": null,
   "metadata": {},
   "outputs": [],
   "source": [
    "# group the vistior's view with a range of 3H\n",
    "Hour_6 = Month.resample('6H', on='event_time').event_type.count()\n",
    "Hour_6 = pd.DataFrame(Hour_6)\n",
    "Hour_6"
   ]
  },
  {
   "cell_type": "code",
   "execution_count": null,
   "metadata": {},
   "outputs": [],
   "source": [
    "# show in decresing order the view 3H (head)\n",
    "Hour_6.sort_values(by='event_type', ascending=False, inplace=False).head(15)"
   ]
  },
  {
   "cell_type": "code",
   "execution_count": null,
   "metadata": {},
   "outputs": [],
   "source": [
    "# show in decresing order the view 3H (tail)\n",
    "Hour_6.sort_values(by='event_type', ascending=False, inplace=False).tail(15)"
   ]
  },
  {
   "cell_type": "code",
   "execution_count": null,
   "metadata": {},
   "outputs": [],
   "source": [
    "# Create the daily view with the average hour view\n",
    "Hour_df = pd.DataFrame(Hour)\n",
    "Hour_df.reset_index(inplace=True)\n",
    "Hours = Hour_df.resample('D', on='event_time').event_type.mean()\n",
    "# Create a dataframe \n",
    "Hours_df = pd.DataFrame(Hours)\n",
    "Hours_df.reset_index(inplace=True)\n",
    "# Add the column value\n",
    "Hours_df= Hours_df.rename(columns={'event_type': 'avg_hour_count'})\n",
    "# add a columns with only the numbers of days\n",
    "Hours_df['days'] = [1,2,3,4,5,6,7,8,9,10,\n",
    "               11,12,13,14,15,16,17,18,19,\n",
    "               20,21,22,23,24,25,26,27,28,29,30]\n",
    "Hours_df"
   ]
  },
  {
   "cell_type": "code",
   "execution_count": null,
   "metadata": {},
   "outputs": [],
   "source": [
    "plt.figure()\n",
    "plt.bar(Hours_df['days'],Hours_df['avg_hour_count'])\n",
    "plt.axhline(Hours_df['avg_hour_count'].mean(), c='red')\n",
    "plt.title('April Hourly Average Visitors')\n",
    "plt.xlabel('Days')\n",
    "plt.ylabel('Visitors')\n",
    "plt.show()"
   ]
  },
  {
   "cell_type": "markdown",
   "metadata": {},
   "source": [
    "QUESTION 6:\n",
    "\n",
    "            What is the conversion rate of your store?"
   ]
  },
  {
   "cell_type": "markdown",
   "metadata": {},
   "source": [
    " - Find the overall conversion rate"
   ]
  },
  {
   "cell_type": "code",
   "execution_count": null,
   "metadata": {},
   "outputs": [],
   "source": [
    "# Select part of the dataset\n",
    "Month = selected_month.iloc[:,1:6]\n",
    "Month = Month.drop(columns=['brand'])\n",
    "Month"
   ]
  },
  {
   "cell_type": "code",
   "execution_count": null,
   "metadata": {},
   "outputs": [],
   "source": [
    "# Count the number of the event type in the dataset\n",
    "count = Month['event_type'].value_counts() \n",
    "# Transform the result in array\n",
    "count = np.array(count)\n",
    "# Find the Overall Conversion Rate\n",
    "Overall_cr = count[2] / count[0] * 100\n",
    "Overall_cr"
   ]
  },
  {
   "cell_type": "markdown",
   "metadata": {},
   "source": [
    " - Plot the number of purchase per each category and show the conversion rate"
   ]
  },
  {
   "cell_type": "code",
   "execution_count": null,
   "metadata": {},
   "outputs": [],
   "source": [
    "#Groupby by the event type and the category code\n",
    "table = Month.groupby(['category_code','event_type'], as_index=False).count()\n",
    "# Fix the dataframe\n",
    "table = table.rename(columns={\"product_id\": \"count\"})\n",
    "table = table.iloc[:,0:3]\n",
    "table"
   ]
  },
  {
   "cell_type": "code",
   "execution_count": null,
   "metadata": {},
   "outputs": [],
   "source": [
    "# Selection only purchase value\n",
    "purchase = table[table['event_type'] == 'purchase']\n",
    "# Number of purchase in decresing order\n",
    "purchase_sort = purchase.sort_values(by='count', ascending=False, inplace=False)\n",
    "purchase_sort"
   ]
  },
  {
   "cell_type": "code",
   "execution_count": null,
   "metadata": {},
   "outputs": [],
   "source": [
    "# Selection only view value\n",
    "view = table[table['event_type'] == 'view']\n",
    "# Merge Purchase and View Dataset\n",
    "Merge = purchase.merge(view, on='category_code')\n",
    "Merge = Merge.rename(columns={\"category_x\": \"count\"})\n",
    "Merge"
   ]
  },
  {
   "cell_type": "code",
   "execution_count": null,
   "metadata": {},
   "outputs": [],
   "source": [
    "# Split the \"category_code\" data in category and sub_category\n",
    "Merge['category'], Merge['sub_category'] = Merge['category_code'].str.split('.', 1).str\n",
    "Merge = Merge.drop(columns=['sub_category', 'category_code']) \n",
    "Merge"
   ]
  },
  {
   "cell_type": "code",
   "execution_count": null,
   "metadata": {},
   "outputs": [],
   "source": [
    "Merge = Merge.groupby(['category','event_type_x','event_type_y'], as_index=False).sum()\n",
    "Merge"
   ]
  },
  {
   "cell_type": "code",
   "execution_count": null,
   "metadata": {},
   "outputs": [],
   "source": [
    "# Make a horizontal bar chart \n",
    "plt.figure(figsize = (15, 10))\n",
    "ax = plt.subplot()\n",
    "ax.barh(Merge['category'],\n",
    "        Merge['count_x'], \n",
    "            align = 'center', edgecolor = 'k')\n",
    "plt.xlabel('Number of Purchase')\n",
    "plt.ylabel('Category')\n",
    "plt.title('Plot of the April Purchase')\n",
    "plt.show()"
   ]
  },
  {
   "cell_type": "code",
   "execution_count": null,
   "metadata": {},
   "outputs": [],
   "source": [
    "# Add the column 'conversion_rate'\n",
    "Merge['conversion_rate'] = (Merge['count_x'] / Merge['count_y'])*100\n",
    "Merge"
   ]
  },
  {
   "cell_type": "code",
   "execution_count": null,
   "metadata": {},
   "outputs": [],
   "source": [
    "# Select only conversion rate and sort in decring order\n",
    "Merge = Merge.drop(columns=['event_type_x','count_x','event_type_y','count_y'])\n",
    "Merge_dec = Merge.sort_values(by='conversion_rate', ascending=False, inplace=False)\n",
    "Merge_dec"
   ]
  },
  {
   "cell_type": "code",
   "execution_count": null,
   "metadata": {},
   "outputs": [],
   "source": [
    "# Make a horizontal bar chart for the conversion rate \n",
    "plt.figure(figsize = (15,10))\n",
    "ax = plt.subplot()\n",
    "ax.barh(Merge_dec['category'],\n",
    "        Merge_dec['conversion_rate'], \n",
    "            align = 'center', edgecolor = 'k')\n",
    "plt.axvline(Overall_cr, c='red')\n",
    "plt.axvline(Merge_dec['conversion_rate'].mean(), c='yellow')\n",
    "plt.xlabel('conversion_rate')\n",
    "plt.ylabel('category_code')\n",
    "plt.title('Plot of the April Conversion Rate')\n",
    "plt.show()"
   ]
  },
  {
   "cell_type": "code",
   "execution_count": null,
   "metadata": {},
   "outputs": [],
   "source": [
    "print(Merge_dec['conversion_rate'])"
   ]
  },
  {
   "cell_type": "code",
   "execution_count": null,
   "metadata": {},
   "outputs": [],
   "source": []
  }
 ],
 "metadata": {
  "kernelspec": {
   "display_name": "Python 3",
   "language": "python",
   "name": "python3"
  },
  "language_info": {
   "codemirror_mode": {
    "name": "ipython",
    "version": 3
   },
   "file_extension": ".py",
   "mimetype": "text/x-python",
   "name": "python",
   "nbconvert_exporter": "python",
   "pygments_lexer": "ipython3",
   "version": "3.7.4"
  }
 },
 "nbformat": 4,
 "nbformat_minor": 4
}
