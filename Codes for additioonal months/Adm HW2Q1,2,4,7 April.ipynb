{
 "cells": [
  {
   "cell_type": "markdown",
   "metadata": {},
   "source": [
    "# ADM HW 2. Questions 1,2,4,7"
   ]
  },
  {
   "cell_type": "code",
   "execution_count": 3,
   "metadata": {},
   "outputs": [
    {
     "data": {
      "text/html": [
       "<div>\n",
       "<style scoped>\n",
       "    .dataframe tbody tr th:only-of-type {\n",
       "        vertical-align: middle;\n",
       "    }\n",
       "\n",
       "    .dataframe tbody tr th {\n",
       "        vertical-align: top;\n",
       "    }\n",
       "\n",
       "    .dataframe thead th {\n",
       "        text-align: right;\n",
       "    }\n",
       "</style>\n",
       "<table border=\"1\" class=\"dataframe\">\n",
       "  <thead>\n",
       "    <tr style=\"text-align: right;\">\n",
       "      <th></th>\n",
       "      <th>event_time</th>\n",
       "      <th>event_type</th>\n",
       "      <th>product_id</th>\n",
       "      <th>category_id</th>\n",
       "      <th>category_code</th>\n",
       "      <th>brand</th>\n",
       "      <th>price</th>\n",
       "      <th>user_id</th>\n",
       "      <th>user_session</th>\n",
       "    </tr>\n",
       "  </thead>\n",
       "  <tbody>\n",
       "    <tr>\n",
       "      <th>0</th>\n",
       "      <td>2020-04-01 00:00:00 UTC</td>\n",
       "      <td>view</td>\n",
       "      <td>1201465</td>\n",
       "      <td>2232732101407408685</td>\n",
       "      <td>apparel.shoes.slipons</td>\n",
       "      <td>samsung</td>\n",
       "      <td>230.38</td>\n",
       "      <td>568984877</td>\n",
       "      <td>e2456cef-2d4f-42b9-a53a-8893cb0c6851</td>\n",
       "    </tr>\n",
       "    <tr>\n",
       "      <th>1</th>\n",
       "      <td>2020-04-01 00:00:01 UTC</td>\n",
       "      <td>view</td>\n",
       "      <td>1307156</td>\n",
       "      <td>2053013554658804075</td>\n",
       "      <td>electronics.audio.headphone</td>\n",
       "      <td>apple</td>\n",
       "      <td>1352.67</td>\n",
       "      <td>514955500</td>\n",
       "      <td>38f43134-de83-4710-ae0a-326677d292c6</td>\n",
       "    </tr>\n",
       "    <tr>\n",
       "      <th>2</th>\n",
       "      <td>2020-04-01 00:00:01 UTC</td>\n",
       "      <td>view</td>\n",
       "      <td>1480477</td>\n",
       "      <td>2053013563835941749</td>\n",
       "      <td>appliances.kitchen.refrigerators</td>\n",
       "      <td>apple</td>\n",
       "      <td>1184.05</td>\n",
       "      <td>633645770</td>\n",
       "      <td>16aba270-b3c2-4b23-be0a-b7c80bc9da9e</td>\n",
       "    </tr>\n",
       "    <tr>\n",
       "      <th>3</th>\n",
       "      <td>2020-04-01 00:00:02 UTC</td>\n",
       "      <td>view</td>\n",
       "      <td>1307050</td>\n",
       "      <td>2053013554658804075</td>\n",
       "      <td>electronics.audio.headphone</td>\n",
       "      <td>apple</td>\n",
       "      <td>1724.34</td>\n",
       "      <td>564933778</td>\n",
       "      <td>05b443bd-e68a-4d72-b971-80bd31109cb8</td>\n",
       "    </tr>\n",
       "    <tr>\n",
       "      <th>4</th>\n",
       "      <td>2020-04-01 00:00:03 UTC</td>\n",
       "      <td>view</td>\n",
       "      <td>9500109</td>\n",
       "      <td>2232732104175649385</td>\n",
       "      <td>apparel.scarf</td>\n",
       "      <td>defender</td>\n",
       "      <td>25.05</td>\n",
       "      <td>530206135</td>\n",
       "      <td>e3c1fb4b-0a7e-457d-a0cf-5d1479e9aafc</td>\n",
       "    </tr>\n",
       "  </tbody>\n",
       "</table>\n",
       "</div>"
      ],
      "text/plain": [
       "                event_time event_type  product_id          category_id  \\\n",
       "0  2020-04-01 00:00:00 UTC       view     1201465  2232732101407408685   \n",
       "1  2020-04-01 00:00:01 UTC       view     1307156  2053013554658804075   \n",
       "2  2020-04-01 00:00:01 UTC       view     1480477  2053013563835941749   \n",
       "3  2020-04-01 00:00:02 UTC       view     1307050  2053013554658804075   \n",
       "4  2020-04-01 00:00:03 UTC       view     9500109  2232732104175649385   \n",
       "\n",
       "                      category_code     brand    price    user_id  \\\n",
       "0             apparel.shoes.slipons   samsung   230.38  568984877   \n",
       "1       electronics.audio.headphone     apple  1352.67  514955500   \n",
       "2  appliances.kitchen.refrigerators     apple  1184.05  633645770   \n",
       "3       electronics.audio.headphone     apple  1724.34  564933778   \n",
       "4                     apparel.scarf  defender    25.05  530206135   \n",
       "\n",
       "                           user_session  \n",
       "0  e2456cef-2d4f-42b9-a53a-8893cb0c6851  \n",
       "1  38f43134-de83-4710-ae0a-326677d292c6  \n",
       "2  16aba270-b3c2-4b23-be0a-b7c80bc9da9e  \n",
       "3  05b443bd-e68a-4d72-b971-80bd31109cb8  \n",
       "4  e3c1fb4b-0a7e-457d-a0cf-5d1479e9aafc  "
      ]
     },
     "execution_count": 3,
     "metadata": {},
     "output_type": "execute_result"
    }
   ],
   "source": [
    "#Loading datasets\n",
    "import pandas as pd\n",
    "import numpy as np\n",
    "import matplotlib.pyplot as plt\n",
    "df=pd.read_csv('/home/dias/Desktop/HW/2020-Apr.csv')\n",
    "name ='April'\n",
    "df.head()"
   ]
  },
  {
   "cell_type": "code",
   "execution_count": 4,
   "metadata": {},
   "outputs": [],
   "source": [
    "#Setting numbers to show in float \n",
    "pd.set_option('float_format', '{:f}'.format)"
   ]
  },
  {
   "cell_type": "code",
   "execution_count": 4,
   "metadata": {},
   "outputs": [
    {
     "name": "stdout",
     "output_type": "stream",
     "text": [
      "<class 'pandas.core.frame.DataFrame'>\n",
      "RangeIndex: 66589268 entries, 0 to 66589267\n",
      "Data columns (total 9 columns):\n",
      " #   Column         Dtype  \n",
      "---  ------         -----  \n",
      " 0   event_time     object \n",
      " 1   event_type     object \n",
      " 2   product_id     int64  \n",
      " 3   category_id    int64  \n",
      " 4   category_code  object \n",
      " 5   brand          object \n",
      " 6   price          float64\n",
      " 7   user_id        int64  \n",
      " 8   user_session   object \n",
      "dtypes: float64(1), int64(3), object(5)\n",
      "memory usage: 4.5+ GB\n"
     ]
    }
   ],
   "source": [
    "#Getting information about dataset\n",
    "df.info()"
   ]
  },
  {
   "cell_type": "code",
   "execution_count": 5,
   "metadata": {},
   "outputs": [
    {
     "data": {
      "text/html": [
       "<div>\n",
       "<style scoped>\n",
       "    .dataframe tbody tr th:only-of-type {\n",
       "        vertical-align: middle;\n",
       "    }\n",
       "\n",
       "    .dataframe tbody tr th {\n",
       "        vertical-align: top;\n",
       "    }\n",
       "\n",
       "    .dataframe thead th {\n",
       "        text-align: right;\n",
       "    }\n",
       "</style>\n",
       "<table border=\"1\" class=\"dataframe\">\n",
       "  <thead>\n",
       "    <tr style=\"text-align: right;\">\n",
       "      <th></th>\n",
       "      <th>product_id</th>\n",
       "      <th>category_id</th>\n",
       "      <th>price</th>\n",
       "      <th>user_id</th>\n",
       "    </tr>\n",
       "  </thead>\n",
       "  <tbody>\n",
       "    <tr>\n",
       "      <th>count</th>\n",
       "      <td>66589268.000000</td>\n",
       "      <td>66589268.000000</td>\n",
       "      <td>66589268.000000</td>\n",
       "      <td>66589268.000000</td>\n",
       "    </tr>\n",
       "    <tr>\n",
       "      <th>mean</th>\n",
       "      <td>35190201.407239</td>\n",
       "      <td>2180717230957448960.000000</td>\n",
       "      <td>273.333772</td>\n",
       "      <td>582774378.744593</td>\n",
       "    </tr>\n",
       "    <tr>\n",
       "      <th>std</th>\n",
       "      <td>41935772.020556</td>\n",
       "      <td>81232099676965536.000000</td>\n",
       "      <td>356.078544</td>\n",
       "      <td>48884439.814091</td>\n",
       "    </tr>\n",
       "    <tr>\n",
       "      <th>min</th>\n",
       "      <td>1000365.000000</td>\n",
       "      <td>2053013551857008896.000000</td>\n",
       "      <td>0.000000</td>\n",
       "      <td>27396220.000000</td>\n",
       "    </tr>\n",
       "    <tr>\n",
       "      <th>25%</th>\n",
       "      <td>2602135.000000</td>\n",
       "      <td>2053013562778977024.000000</td>\n",
       "      <td>51.460000</td>\n",
       "      <td>533506193.000000</td>\n",
       "    </tr>\n",
       "    <tr>\n",
       "      <th>50%</th>\n",
       "      <td>12200908.000000</td>\n",
       "      <td>2232732092767142144.000000</td>\n",
       "      <td>148.910000</td>\n",
       "      <td>587620819.000000</td>\n",
       "    </tr>\n",
       "    <tr>\n",
       "      <th>75%</th>\n",
       "      <td>100022400.000000</td>\n",
       "      <td>2232732098446230016.000000</td>\n",
       "      <td>342.350000</td>\n",
       "      <td>633779462.000000</td>\n",
       "    </tr>\n",
       "    <tr>\n",
       "      <th>max</th>\n",
       "      <td>100234250.000000</td>\n",
       "      <td>2298840883472105984.000000</td>\n",
       "      <td>2574.070000</td>\n",
       "      <td>649775983.000000</td>\n",
       "    </tr>\n",
       "  </tbody>\n",
       "</table>\n",
       "</div>"
      ],
      "text/plain": [
       "            product_id                category_id           price  \\\n",
       "count  66589268.000000            66589268.000000 66589268.000000   \n",
       "mean   35190201.407239 2180717230957448960.000000      273.333772   \n",
       "std    41935772.020556   81232099676965536.000000      356.078544   \n",
       "min     1000365.000000 2053013551857008896.000000        0.000000   \n",
       "25%     2602135.000000 2053013562778977024.000000       51.460000   \n",
       "50%    12200908.000000 2232732092767142144.000000      148.910000   \n",
       "75%   100022400.000000 2232732098446230016.000000      342.350000   \n",
       "max   100234250.000000 2298840883472105984.000000     2574.070000   \n",
       "\n",
       "               user_id  \n",
       "count  66589268.000000  \n",
       "mean  582774378.744593  \n",
       "std    48884439.814091  \n",
       "min    27396220.000000  \n",
       "25%   533506193.000000  \n",
       "50%   587620819.000000  \n",
       "75%   633779462.000000  \n",
       "max   649775983.000000  "
      ]
     },
     "execution_count": 5,
     "metadata": {},
     "output_type": "execute_result"
    }
   ],
   "source": [
    "df.describe()"
   ]
  },
  {
   "cell_type": "code",
   "execution_count": 6,
   "metadata": {},
   "outputs": [
    {
     "data": {
      "text/plain": [
       "event_time        object\n",
       "event_type        object\n",
       "product_id         int64\n",
       "category_id        int64\n",
       "category_code     object\n",
       "brand             object\n",
       "price            float64\n",
       "user_id            int64\n",
       "user_session      object\n",
       "dtype: object"
      ]
     },
     "execution_count": 6,
     "metadata": {},
     "output_type": "execute_result"
    }
   ],
   "source": [
    "df.dtypes"
   ]
  },
  {
   "cell_type": "markdown",
   "metadata": {},
   "source": [
    "## [RQ1] A marketing funnel describes your customer’s journey with your e-commerce. It may involve different stages, beginning when someone learns about your business, when he/she visits your website for the first time, to the purchasing stage, marketing funnels map routes to conversion and beyond. Suppose your funnel involves just three simple steps: 1) view, 2) cart, 3) purchase. Which is the rate of complete funnels? "
   ]
  },
  {
   "cell_type": "code",
   "execution_count": 10,
   "metadata": {},
   "outputs": [
    {
     "data": {
      "text/plain": [
       "array(['view', 'cart', 'purchase'], dtype=object)"
      ]
     },
     "execution_count": 10,
     "metadata": {},
     "output_type": "execute_result"
    }
   ],
   "source": [
    "df.event_type.unique()"
   ]
  },
  {
   "cell_type": "code",
   "execution_count": 11,
   "metadata": {},
   "outputs": [
    {
     "name": "stdout",
     "output_type": "stream",
     "text": [
      "Rate of complete funnels in April = 0.027103774083856516\n"
     ]
    }
   ],
   "source": [
    "#Here I group all event_time values by product_id and user_id \n",
    "table1 = pd.pivot_table(df, values='event_time', index=['product_id','user_id'],\n",
    "                    columns=['event_type'], aggfunc=len)\n",
    "a=table1.dropna()\n",
    "complete_funnels = a.min(axis=1).sum()\n",
    "#I drop rows where at least one of them wasn't made, count sum and divide by total length\n",
    "print('Rate of complete funnels in {} = {}'.format(name,complete_funnels/len(table1)))"
   ]
  },
  {
   "cell_type": "markdown",
   "metadata": {},
   "source": [
    "### What’s the operation users repeat more on average within a session? Produce a plot that shows the average number of times users perform each operation (view/removefromchart etc etc)."
   ]
  },
  {
   "cell_type": "code",
   "execution_count": 12,
   "metadata": {
    "scrolled": true
   },
   "outputs": [
    {
     "data": {
      "text/plain": [
       "[5.35877772061719, 1.7898725124429191, 1.2299634988670527]"
      ]
     },
     "execution_count": 12,
     "metadata": {},
     "output_type": "execute_result"
    }
   ],
   "source": [
    "#Here I grouped by session and took all average numbers of events in event_type\n",
    "mean=[]\n",
    "for i in df.event_type.unique():\n",
    "    mean.append(df[df.event_type == i].groupby(['user_session']).event_type.count())\n",
    "for i in range(len(mean)):\n",
    "    mean[i]=mean[i].mean()\n",
    "mean"
   ]
  },
  {
   "cell_type": "code",
   "execution_count": 13,
   "metadata": {
    "scrolled": true
   },
   "outputs": [
    {
     "name": "stdout",
     "output_type": "stream",
     "text": [
      "The operation users repeat more on average within a session in April: \n"
     ]
    },
    {
     "data": {
      "image/png": "[encoded data removed]",
      "text/plain": [
       "<Figure size 432x288 with 1 Axes>"
      ]
     },
     "metadata": {
      "needs_background": "light"
     },
     "output_type": "display_data"
    }
   ],
   "source": [
    "#and then plot a bar, and took tha name of event with highest number\n",
    "plt.bar(df.event_type.unique(),mean);\n",
    "print('The operation users repeat more on average within a session in {}: '.format(name, df.event_type.unique()[0]))"
   ]
  },
  {
   "cell_type": "markdown",
   "metadata": {},
   "source": [
    "### How many times, on average, a user views a product before adding it to the cart?"
   ]
  },
  {
   "cell_type": "code",
   "execution_count": null,
   "metadata": {
    "scrolled": true
   },
   "outputs": [],
   "source": [
    "#I made a pivot table of the times of first events that users made\n",
    "table = pd.pivot_table(df, values='event_time', index=['product_id','user_id'],\n",
    "                    columns=['event_type'], aggfunc=min)\n",
    "table"
   ]
  },
  {
   "cell_type": "code",
   "execution_count": null,
   "metadata": {},
   "outputs": [],
   "source": [
    "#and then counted probability of user to view a product before buying\n",
    "answer = len(table[table['view']<table['cart']])/len(table)\n",
    "answer"
   ]
  },
  {
   "cell_type": "markdown",
   "metadata": {},
   "source": [
    "### What’s the probability that products added once to the cart are effectively bought?"
   ]
  },
  {
   "cell_type": "code",
   "execution_count": null,
   "metadata": {},
   "outputs": [],
   "source": [
    "# the same pivot from above, counting all rows with time of 'cart' before the 'purchase' and divide by total length\n",
    "answer = len(table[table['cart']<table['purchase']])/len(table['cart'].dropna())\n",
    "answer"
   ]
  },
  {
   "cell_type": "markdown",
   "metadata": {},
   "source": [
    "## [RQ2] What are the categories of the most trending products overall? For each month visualize this information through a plot showing the number of sold products per category. "
   ]
  },
  {
   "cell_type": "code",
   "execution_count": 7,
   "metadata": {},
   "outputs": [],
   "source": [
    "import seaborn as sns\n",
    "#split category_code into 'category' and 'subcategory' columns\n",
    "df[['category', 'subcategory']] = df['category_code'].str.split('.', 1, expand=True)\n",
    "#count number of purchases of products and sort in descending order\n",
    "group_purchase_by_cat=df[df['event_type']=='purchase'].groupby(['product_id','category']).count()"
   ]
  },
  {
   "cell_type": "code",
   "execution_count": 8,
   "metadata": {},
   "outputs": [
    {
     "data": {
      "text/plain": [
       "product_id  category    \n",
       "1005100     construction    26230\n",
       "1005212     construction    22227\n",
       "100068488   construction    14915\n",
       "100068493   construction    13932\n",
       "1004836     construction    12977\n",
       "1002544     construction    10849\n",
       "1005160     construction    10291\n",
       "4804056     sport            8929\n",
       "1004856     construction     8928\n",
       "1005115     construction     8873\n",
       "Name: user_id, dtype: int64"
      ]
     },
     "execution_count": 8,
     "metadata": {},
     "output_type": "execute_result"
    }
   ],
   "source": [
    "group_purchase_by_cat['user_id'].sort_values(ascending=False).head(10)\n",
    "#As you can see the category of most trending products is electronics"
   ]
  },
  {
   "cell_type": "code",
   "execution_count": 9,
   "metadata": {},
   "outputs": [
    {
     "name": "stderr",
     "output_type": "stream",
     "text": [
      "/home/dias/TTS/lib/python3.6/site-packages/seaborn/_decorators.py:43: FutureWarning: Pass the following variables as keyword args: x, y. From version 0.12, the only valid positional argument will be `data`, and passing other arguments without an explicit keyword will result in an error or misinterpretation.\n",
      "  FutureWarning\n"
     ]
    },
    {
     "data": {
      "text/plain": [
       "Text(0, 0.5, 'Number of purchases')"
      ]
     },
     "execution_count": 9,
     "metadata": {},
     "output_type": "execute_result"
    },
    {
     "data": {
      "image/png": "[encoded data removed]",
      "text/plain": [
       "<Figure size 1152x864 with 1 Axes>"
      ]
     },
     "metadata": {
      "needs_background": "light"
     },
     "output_type": "display_data"
    }
   ],
   "source": [
    "group_purchase_by_cat=df[df['event_type']=='purchase'].groupby(['category'])['price'].count()\n",
    "sorted_group_purchase_by_cat = group_purchase_by_cat.dropna().sort_values(ascending=False)\n",
    "plt.figure(figsize =(16, 12)) \n",
    "index_category = [str(i) for i in sorted_group_purchase_by_cat.index]\n",
    "ax= sns.barplot(index_category,sorted_group_purchase_by_cat)\n",
    "for p in ax.patches:\n",
    "    ax.annotate(format(p.get_height(),',.0f'), (p.get_x() , p.get_height()),)\n",
    "plt.title('Total number of purchases by category in {}'.format(name))\n",
    "plt.xlabel('Category')\n",
    "plt.ylabel('Number of purchases')"
   ]
  },
  {
   "cell_type": "markdown",
   "metadata": {},
   "source": [
    "### Plot the most visited subcategories."
   ]
  },
  {
   "cell_type": "code",
   "execution_count": 10,
   "metadata": {},
   "outputs": [
    {
     "name": "stderr",
     "output_type": "stream",
     "text": [
      "/home/dias/TTS/lib/python3.6/site-packages/seaborn/_decorators.py:43: FutureWarning: Pass the following variables as keyword args: x, y. From version 0.12, the only valid positional argument will be `data`, and passing other arguments without an explicit keyword will result in an error or misinterpretation.\n",
      "  FutureWarning\n"
     ]
    },
    {
     "data": {
      "text/plain": [
       "Text(0, 0.5, 'Number of views')"
      ]
     },
     "execution_count": 10,
     "metadata": {},
     "output_type": "execute_result"
    },
    {
     "data": {
      "image/png": "[encoded data removed]",
      "text/plain": [
       "<Figure size 1152x864 with 1 Axes>"
      ]
     },
     "metadata": {
      "needs_background": "light"
     },
     "output_type": "display_data"
    }
   ],
   "source": [
    "group_view_by_subcat=df[df['event_type']=='view'].groupby(['subcategory'])['price'].count()\n",
    "sorted_group_view_by_subcat = group_view_by_subcat.dropna().sort_values(ascending=False)\n",
    "plt.figure(figsize =(16, 12)) \n",
    "index_category = [str(i) for i in sorted_group_view_by_subcat.index]\n",
    "ax= sns.barplot(index_category[:10],sorted_group_view_by_subcat[:10])\n",
    "for p in ax.patches:\n",
    "    ax.annotate(format(p.get_height(),',.0f'), (p.get_x() , p.get_height()),)\n",
    "plt.title('10 most visited subcategories in {}'.format(name))\n",
    "plt.xlabel('Subcategory')\n",
    "plt.ylabel('Number of views')"
   ]
  },
  {
   "cell_type": "markdown",
   "metadata": {},
   "source": [
    "### What are the 10 most sold products per category?"
   ]
  },
  {
   "cell_type": "code",
   "execution_count": 11,
   "metadata": {},
   "outputs": [
    {
     "name": "stdout",
     "output_type": "stream",
     "text": [
      "category  product_id\n",
      "apparel   5100816      4040.000000\n",
      "          100190575    2821.000000\n",
      "          100058915    1093.000000\n",
      "          1201465       814.000000\n",
      "          4100277       777.000000\n",
      "          4100126       719.000000\n",
      "          1201567       662.000000\n",
      "          1201564       514.000000\n",
      "          1201526       504.000000\n",
      "Name: purchase, dtype: float64\n",
      "category     product_id\n",
      "electronics  100011103    3222.000000\n",
      "             1307545      1828.000000\n",
      "             100170834    1823.000000\n",
      "             1307555      1383.000000\n",
      "             100104755    1003.000000\n",
      "             100055405     980.000000\n",
      "             5100855       753.000000\n",
      "             100104481     721.000000\n",
      "             100120437     685.000000\n",
      "Name: purchase, dtype: float64\n",
      "category    product_id\n",
      "appliances  1801690      2862.000000\n",
      "            3700926      2328.000000\n",
      "            1801881      2154.000000\n",
      "            1802005      1800.000000\n",
      "            1801766      1672.000000\n",
      "            2702277      1605.000000\n",
      "            100018214    1500.000000\n",
      "            12201721     1331.000000\n",
      "            2502287      1291.000000\n",
      "Name: purchase, dtype: float64\n",
      "category      product_id\n",
      "construction  1005100      26230.000000\n",
      "              1005212      22227.000000\n",
      "              100068488    14915.000000\n",
      "              100068493    13932.000000\n",
      "              1004836      12977.000000\n",
      "              1002544      10849.000000\n",
      "              1005160      10291.000000\n",
      "              1004856       8928.000000\n",
      "              1005115       8873.000000\n",
      "Name: purchase, dtype: float64\n",
      "category   product_id\n",
      "computers  3300349      691.000000\n",
      "           26400299     274.000000\n",
      "           1600600      229.000000\n",
      "           55600052     219.000000\n",
      "           11500863     216.000000\n",
      "           11500475     188.000000\n",
      "           1600587      177.000000\n",
      "           26400297     161.000000\n",
      "           3300087      147.000000\n",
      "Name: purchase, dtype: float64\n",
      "No purchases in nan\n",
      "category  product_id\n",
      "auto      27900034     352.000000\n",
      "          27900038     329.000000\n",
      "          22400036     255.000000\n",
      "          27900037     243.000000\n",
      "          27900026     184.000000\n",
      "          24400436     133.000000\n",
      "          22400191     112.000000\n",
      "          100054512     74.000000\n",
      "          22400163      73.000000\n",
      "Name: purchase, dtype: float64\n",
      "category  product_id\n",
      "sport     4804056      8929.000000\n",
      "          4804660      3015.000000\n",
      "          4804295      2119.000000\n",
      "          4804055      2000.000000\n",
      "          4804718      1612.000000\n",
      "          4803977      1343.000000\n",
      "          4802159       830.000000\n",
      "          100117907     559.000000\n",
      "          10800025      480.000000\n",
      "Name: purchase, dtype: float64\n",
      "category  product_id\n",
      "medicine  29501031     58.000000\n",
      "          29501042     55.000000\n",
      "          29502182     46.000000\n",
      "          29501016     23.000000\n",
      "          29501859     22.000000\n",
      "          100029314    12.000000\n",
      "          29501795     12.000000\n",
      "          29502177     10.000000\n",
      "          100080544    10.000000\n",
      "Name: purchase, dtype: float64\n",
      "category   product_id\n",
      "furniture  7600132      1036.000000\n",
      "           2900958       933.000000\n",
      "           2900200       480.000000\n",
      "           100067556     476.000000\n",
      "           11100287      466.000000\n",
      "           2900561       462.000000\n",
      "           3801134       413.000000\n",
      "           7600480       361.000000\n",
      "           9100196       341.000000\n",
      "Name: purchase, dtype: float64\n",
      "category  product_id\n",
      "kids      100198556    1342.000000\n",
      "          11200384      666.000000\n",
      "          11200225      620.000000\n",
      "          22300003      501.000000\n",
      "          11200328      350.000000\n",
      "          11200355      337.000000\n",
      "          11200364      336.000000\n",
      "          11200001      300.000000\n",
      "          7004322       268.000000\n",
      "Name: purchase, dtype: float64\n",
      "category     product_id\n",
      "accessories  16200000     99.000000\n",
      "             16200320     97.000000\n",
      "             4700478      87.000000\n",
      "             16200329     77.000000\n",
      "             4700630      77.000000\n",
      "             100102893    76.000000\n",
      "             40900024     74.000000\n",
      "             16000919     69.000000\n",
      "             4700738      69.000000\n",
      "Name: purchase, dtype: float64\n",
      "category      product_id\n",
      "country_yard  40500104     492.000000\n",
      "              40500183     183.000000\n",
      "              21700002     180.000000\n",
      "              100092465    140.000000\n",
      "              40500103      94.000000\n",
      "              40500134      76.000000\n",
      "              40500137      65.000000\n",
      "              100118222     65.000000\n",
      "              21700004      60.000000\n",
      "Name: purchase, dtype: float64\n",
      "category    product_id\n",
      "stationery  12901426     22.000000\n",
      "            12900178     17.000000\n",
      "            12900361     10.000000\n",
      "            12900362     10.000000\n",
      "            12900363     10.000000\n",
      "            12900179      9.000000\n",
      "            12900111      8.000000\n",
      "            100009997     7.000000\n",
      "            12901271      7.000000\n",
      "Name: purchase, dtype: float64\n"
     ]
    }
   ],
   "source": [
    "#Delete nan in order to avoid error\n",
    "bf = df['category'].unique()\n",
    "for i in bf:\n",
    "    try:\n",
    "        #make pivot table for each category, and sort values in descending order\n",
    "        table4 = pd.pivot_table(df[df['category']==i], values='event_time', index=['category','product_id'],\n",
    "                        columns=['event_type'], aggfunc=len)\n",
    "        print(table4['purchase'].dropna().sort_values(ascending =False)[:9])\n",
    "    except:\n",
    "        print('No purchases in {}'.format(i))"
   ]
  },
  {
   "cell_type": "markdown",
   "metadata": {},
   "source": [
    "## [RQ4] How much does each brand earn per month? "
   ]
  },
  {
   "cell_type": "code",
   "execution_count": 12,
   "metadata": {},
   "outputs": [
    {
     "data": {
      "text/html": [
       "<div>\n",
       "<style scoped>\n",
       "    .dataframe tbody tr th:only-of-type {\n",
       "        vertical-align: middle;\n",
       "    }\n",
       "\n",
       "    .dataframe tbody tr th {\n",
       "        vertical-align: top;\n",
       "    }\n",
       "\n",
       "    .dataframe thead th {\n",
       "        text-align: right;\n",
       "    }\n",
       "</style>\n",
       "<table border=\"1\" class=\"dataframe\">\n",
       "  <thead>\n",
       "    <tr style=\"text-align: right;\">\n",
       "      <th>event_type</th>\n",
       "      <th>cart</th>\n",
       "      <th>purchase</th>\n",
       "      <th>view</th>\n",
       "    </tr>\n",
       "    <tr>\n",
       "      <th>brand</th>\n",
       "      <th></th>\n",
       "      <th></th>\n",
       "      <th></th>\n",
       "    </tr>\n",
       "  </thead>\n",
       "  <tbody>\n",
       "    <tr>\n",
       "      <th>a-case</th>\n",
       "      <td>18654.540000</td>\n",
       "      <td>6071.230000</td>\n",
       "      <td>493032.290000</td>\n",
       "    </tr>\n",
       "    <tr>\n",
       "      <th>a-derma</th>\n",
       "      <td>1724.920000</td>\n",
       "      <td>116.860000</td>\n",
       "      <td>19842.280000</td>\n",
       "    </tr>\n",
       "    <tr>\n",
       "      <th>a-elita</th>\n",
       "      <td>50.940000</td>\n",
       "      <td>8.490000</td>\n",
       "      <td>2841.020000</td>\n",
       "    </tr>\n",
       "    <tr>\n",
       "      <th>a-mega</th>\n",
       "      <td>903.510000</td>\n",
       "      <td>193.060000</td>\n",
       "      <td>32469.340000</td>\n",
       "    </tr>\n",
       "    <tr>\n",
       "      <th>a-product</th>\n",
       "      <td>27.270000</td>\n",
       "      <td>6.560000</td>\n",
       "      <td>20.640000</td>\n",
       "    </tr>\n",
       "    <tr>\n",
       "      <th>...</th>\n",
       "      <td>...</td>\n",
       "      <td>...</td>\n",
       "      <td>...</td>\n",
       "    </tr>\n",
       "    <tr>\n",
       "      <th>zuru</th>\n",
       "      <td>44.020000</td>\n",
       "      <td>nan</td>\n",
       "      <td>4532.020000</td>\n",
       "    </tr>\n",
       "    <tr>\n",
       "      <th>zwerg</th>\n",
       "      <td>nan</td>\n",
       "      <td>nan</td>\n",
       "      <td>105.680000</td>\n",
       "    </tr>\n",
       "    <tr>\n",
       "      <th>zwilling</th>\n",
       "      <td>1341.550000</td>\n",
       "      <td>nan</td>\n",
       "      <td>772878.180000</td>\n",
       "    </tr>\n",
       "    <tr>\n",
       "      <th>zx</th>\n",
       "      <td>nan</td>\n",
       "      <td>nan</td>\n",
       "      <td>33.150000</td>\n",
       "    </tr>\n",
       "    <tr>\n",
       "      <th>zyxel</th>\n",
       "      <td>1176.610000</td>\n",
       "      <td>nan</td>\n",
       "      <td>135442.290000</td>\n",
       "    </tr>\n",
       "  </tbody>\n",
       "</table>\n",
       "<p>4885 rows × 3 columns</p>\n",
       "</div>"
      ],
      "text/plain": [
       "event_type         cart    purchase          view\n",
       "brand                                            \n",
       "a-case     18654.540000 6071.230000 493032.290000\n",
       "a-derma     1724.920000  116.860000  19842.280000\n",
       "a-elita       50.940000    8.490000   2841.020000\n",
       "a-mega       903.510000  193.060000  32469.340000\n",
       "a-product     27.270000    6.560000     20.640000\n",
       "...                 ...         ...           ...\n",
       "zuru          44.020000         nan   4532.020000\n",
       "zwerg               nan         nan    105.680000\n",
       "zwilling    1341.550000         nan 772878.180000\n",
       "zx                  nan         nan     33.150000\n",
       "zyxel       1176.610000         nan 135442.290000\n",
       "\n",
       "[4885 rows x 3 columns]"
      ]
     },
     "execution_count": 12,
     "metadata": {},
     "output_type": "execute_result"
    }
   ],
   "source": [
    "#made a pivot table to sum the selling price per each brand\n",
    "brand_sum = pd.pivot_table(df, values='price', index=['brand'],\n",
    "                    columns=['event_type'], aggfunc=sum)\n",
    "brand_sum"
   ]
  },
  {
   "cell_type": "code",
   "execution_count": 13,
   "metadata": {},
   "outputs": [
    {
     "data": {
      "text/plain": [
       "brand\n",
       "apple      74288067.379995\n",
       "samsung    56791598.490056\n",
       "xiaomi     12104816.440000\n",
       "lg          7539392.840000\n",
       "acer        6954180.020000\n",
       "                 ...      \n",
       "zuru                   nan\n",
       "zwerg                  nan\n",
       "zwilling               nan\n",
       "zx                     nan\n",
       "zyxel                  nan\n",
       "Name: purchase, Length: 4885, dtype: float64"
      ]
     },
     "execution_count": 13,
     "metadata": {},
     "output_type": "execute_result"
    }
   ],
   "source": [
    "#How much does each brand earn per month?\n",
    "brand_revenue = brand_sum['purchase'].sort_values(ascending=False)\n",
    "brand_revenue"
   ]
  },
  {
   "cell_type": "markdown",
   "metadata": {},
   "source": [
    "### Write a function that given the name of a brand in input returns, for each month, its profit."
   ]
  },
  {
   "cell_type": "code",
   "execution_count": 14,
   "metadata": {},
   "outputs": [],
   "source": [
    "# Function that given the name of a brand in input returns, for each month, its profit. \n",
    "def profit_of_brand(brand_name,month):\n",
    "    return month['purchase'][brand_name]\n",
    "\n",
    "def profit_of_brand_for_each_month(brand_name,list_of_months):\n",
    "    return [i['purchase'][brand_name] for i  in list_of_months]"
   ]
  },
  {
   "cell_type": "markdown",
   "metadata": {},
   "source": [
    "### Is the average price of products of different brands significantly different? "
   ]
  },
  {
   "cell_type": "code",
   "execution_count": 15,
   "metadata": {
    "scrolled": true
   },
   "outputs": [
    {
     "data": {
      "text/html": [
       "<div>\n",
       "<style scoped>\n",
       "    .dataframe tbody tr th:only-of-type {\n",
       "        vertical-align: middle;\n",
       "    }\n",
       "\n",
       "    .dataframe tbody tr th {\n",
       "        vertical-align: top;\n",
       "    }\n",
       "\n",
       "    .dataframe thead th {\n",
       "        text-align: right;\n",
       "    }\n",
       "</style>\n",
       "<table border=\"1\" class=\"dataframe\">\n",
       "  <thead>\n",
       "    <tr style=\"text-align: right;\">\n",
       "      <th></th>\n",
       "      <th>event_type</th>\n",
       "      <th>cart</th>\n",
       "      <th>purchase</th>\n",
       "      <th>view</th>\n",
       "    </tr>\n",
       "    <tr>\n",
       "      <th>subcategory</th>\n",
       "      <th>brand</th>\n",
       "      <th></th>\n",
       "      <th></th>\n",
       "      <th></th>\n",
       "    </tr>\n",
       "  </thead>\n",
       "  <tbody>\n",
       "    <tr>\n",
       "      <th rowspan=\"26\" valign=\"top\">accessories.alarm</th>\n",
       "      <th>absolutechampion</th>\n",
       "      <td>nan</td>\n",
       "      <td>nan</td>\n",
       "      <td>10.300000</td>\n",
       "    </tr>\n",
       "    <tr>\n",
       "      <th>appollo</th>\n",
       "      <td>54.060000</td>\n",
       "      <td>54.060000</td>\n",
       "      <td>54.060000</td>\n",
       "    </tr>\n",
       "    <tr>\n",
       "      <th>autoline</th>\n",
       "      <td>nan</td>\n",
       "      <td>nan</td>\n",
       "      <td>351.100000</td>\n",
       "    </tr>\n",
       "    <tr>\n",
       "      <th>avis</th>\n",
       "      <td>58.770000</td>\n",
       "      <td>50.190000</td>\n",
       "      <td>56.570724</td>\n",
       "    </tr>\n",
       "    <tr>\n",
       "      <th>body-solid</th>\n",
       "      <td>341.320000</td>\n",
       "      <td>341.320000</td>\n",
       "      <td>341.320000</td>\n",
       "    </tr>\n",
       "    <tr>\n",
       "      <th>centurion</th>\n",
       "      <td>nan</td>\n",
       "      <td>nan</td>\n",
       "      <td>33.460000</td>\n",
       "    </tr>\n",
       "    <tr>\n",
       "      <th>dds</th>\n",
       "      <td>360.110000</td>\n",
       "      <td>360.110000</td>\n",
       "      <td>360.110000</td>\n",
       "    </tr>\n",
       "    <tr>\n",
       "      <th>decathlon</th>\n",
       "      <td>27.228661</td>\n",
       "      <td>27.793448</td>\n",
       "      <td>27.536815</td>\n",
       "    </tr>\n",
       "    <tr>\n",
       "      <th>domyos</th>\n",
       "      <td>27.847473</td>\n",
       "      <td>27.470000</td>\n",
       "      <td>29.318813</td>\n",
       "    </tr>\n",
       "    <tr>\n",
       "      <th>dsk</th>\n",
       "      <td>nan</td>\n",
       "      <td>nan</td>\n",
       "      <td>67.695000</td>\n",
       "    </tr>\n",
       "    <tr>\n",
       "      <th>ersport</th>\n",
       "      <td>27.030000</td>\n",
       "      <td>nan</td>\n",
       "      <td>27.030000</td>\n",
       "    </tr>\n",
       "    <tr>\n",
       "      <th>farcar</th>\n",
       "      <td>18.020000</td>\n",
       "      <td>nan</td>\n",
       "      <td>18.020000</td>\n",
       "    </tr>\n",
       "    <tr>\n",
       "      <th>incar</th>\n",
       "      <td>24.710000</td>\n",
       "      <td>12.870000</td>\n",
       "      <td>32.673461</td>\n",
       "    </tr>\n",
       "    <tr>\n",
       "      <th>kgb</th>\n",
       "      <td>nan</td>\n",
       "      <td>nan</td>\n",
       "      <td>84.940000</td>\n",
       "    </tr>\n",
       "    <tr>\n",
       "      <th>mydean</th>\n",
       "      <td>25.997419</td>\n",
       "      <td>26.978000</td>\n",
       "      <td>23.638059</td>\n",
       "    </tr>\n",
       "    <tr>\n",
       "      <th>pandora</th>\n",
       "      <td>nan</td>\n",
       "      <td>nan</td>\n",
       "      <td>209.908000</td>\n",
       "    </tr>\n",
       "    <tr>\n",
       "      <th>phantom</th>\n",
       "      <td>12.870000</td>\n",
       "      <td>12.870000</td>\n",
       "      <td>12.870000</td>\n",
       "    </tr>\n",
       "    <tr>\n",
       "      <th>romana</th>\n",
       "      <td>48.062000</td>\n",
       "      <td>45.991429</td>\n",
       "      <td>53.313151</td>\n",
       "    </tr>\n",
       "    <tr>\n",
       "      <th>scher-khan</th>\n",
       "      <td>nan</td>\n",
       "      <td>nan</td>\n",
       "      <td>91.755294</td>\n",
       "    </tr>\n",
       "    <tr>\n",
       "      <th>silapro</th>\n",
       "      <td>nan</td>\n",
       "      <td>nan</td>\n",
       "      <td>15.960000</td>\n",
       "    </tr>\n",
       "    <tr>\n",
       "      <th>sparta</th>\n",
       "      <td>nan</td>\n",
       "      <td>nan</td>\n",
       "      <td>29.320000</td>\n",
       "    </tr>\n",
       "    <tr>\n",
       "      <th>starline</th>\n",
       "      <td>217.250000</td>\n",
       "      <td>nan</td>\n",
       "      <td>215.360886</td>\n",
       "    </tr>\n",
       "    <tr>\n",
       "      <th>swat</th>\n",
       "      <td>36.743226</td>\n",
       "      <td>38.547500</td>\n",
       "      <td>38.196536</td>\n",
       "    </tr>\n",
       "    <tr>\n",
       "      <th>tomahawk</th>\n",
       "      <td>nan</td>\n",
       "      <td>nan</td>\n",
       "      <td>86.580909</td>\n",
       "    </tr>\n",
       "    <tr>\n",
       "      <th>torneo</th>\n",
       "      <td>22.650000</td>\n",
       "      <td>22.650000</td>\n",
       "      <td>22.650000</td>\n",
       "    </tr>\n",
       "    <tr>\n",
       "      <th>tuka</th>\n",
       "      <td>16.730000</td>\n",
       "      <td>16.730000</td>\n",
       "      <td>16.730000</td>\n",
       "    </tr>\n",
       "    <tr>\n",
       "      <th rowspan=\"18\" valign=\"top\">accessories.anti_freeze</th>\n",
       "      <th>alvitek</th>\n",
       "      <td>nan</td>\n",
       "      <td>nan</td>\n",
       "      <td>20.367500</td>\n",
       "    </tr>\n",
       "    <tr>\n",
       "      <th>bartek</th>\n",
       "      <td>46.080000</td>\n",
       "      <td>nan</td>\n",
       "      <td>46.080000</td>\n",
       "    </tr>\n",
       "    <tr>\n",
       "      <th>belezza</th>\n",
       "      <td>nan</td>\n",
       "      <td>nan</td>\n",
       "      <td>20.890000</td>\n",
       "    </tr>\n",
       "    <tr>\n",
       "      <th>biomecanics</th>\n",
       "      <td>47.912558</td>\n",
       "      <td>47.637857</td>\n",
       "      <td>50.925860</td>\n",
       "    </tr>\n",
       "    <tr>\n",
       "      <th>bugaboo</th>\n",
       "      <td>nan</td>\n",
       "      <td>nan</td>\n",
       "      <td>141.550000</td>\n",
       "    </tr>\n",
       "    <tr>\n",
       "      <th>casaconforte</th>\n",
       "      <td>nan</td>\n",
       "      <td>nan</td>\n",
       "      <td>17.140000</td>\n",
       "    </tr>\n",
       "    <tr>\n",
       "      <th>garvalin</th>\n",
       "      <td>44.924429</td>\n",
       "      <td>45.302857</td>\n",
       "      <td>48.193380</td>\n",
       "    </tr>\n",
       "    <tr>\n",
       "      <th>intex</th>\n",
       "      <td>nan</td>\n",
       "      <td>nan</td>\n",
       "      <td>69.350000</td>\n",
       "    </tr>\n",
       "    <tr>\n",
       "      <th>marko</th>\n",
       "      <td>43.220000</td>\n",
       "      <td>43.220000</td>\n",
       "      <td>45.242870</td>\n",
       "    </tr>\n",
       "    <tr>\n",
       "      <th>minimen</th>\n",
       "      <td>40.085000</td>\n",
       "      <td>43.117500</td>\n",
       "      <td>37.845993</td>\n",
       "    </tr>\n",
       "    <tr>\n",
       "      <th>minno</th>\n",
       "      <td>38.452784</td>\n",
       "      <td>38.776866</td>\n",
       "      <td>39.063877</td>\n",
       "    </tr>\n",
       "    <tr>\n",
       "      <th>neposeda</th>\n",
       "      <td>nan</td>\n",
       "      <td>nan</td>\n",
       "      <td>25.230000</td>\n",
       "    </tr>\n",
       "    <tr>\n",
       "      <th>pablosky</th>\n",
       "      <td>47.640294</td>\n",
       "      <td>48.337000</td>\n",
       "      <td>47.355417</td>\n",
       "    </tr>\n",
       "    <tr>\n",
       "      <th>perlina</th>\n",
       "      <td>39.870000</td>\n",
       "      <td>39.870000</td>\n",
       "      <td>39.870000</td>\n",
       "    </tr>\n",
       "    <tr>\n",
       "      <th>timson</th>\n",
       "      <td>15.521714</td>\n",
       "      <td>15.500909</td>\n",
       "      <td>15.713696</td>\n",
       "    </tr>\n",
       "    <tr>\n",
       "      <th>tyr</th>\n",
       "      <td>nan</td>\n",
       "      <td>nan</td>\n",
       "      <td>41.190000</td>\n",
       "    </tr>\n",
       "    <tr>\n",
       "      <th>verran</th>\n",
       "      <td>30.890000</td>\n",
       "      <td>nan</td>\n",
       "      <td>nan</td>\n",
       "    </tr>\n",
       "    <tr>\n",
       "      <th>vladi</th>\n",
       "      <td>nan</td>\n",
       "      <td>nan</td>\n",
       "      <td>36.091000</td>\n",
       "    </tr>\n",
       "    <tr>\n",
       "      <th rowspan=\"6\" valign=\"top\">accessories.compressor</th>\n",
       "      <th>intex</th>\n",
       "      <td>nan</td>\n",
       "      <td>nan</td>\n",
       "      <td>70.420000</td>\n",
       "    </tr>\n",
       "    <tr>\n",
       "      <th>airline</th>\n",
       "      <td>45.840000</td>\n",
       "      <td>45.840000</td>\n",
       "      <td>45.770272</td>\n",
       "    </tr>\n",
       "    <tr>\n",
       "      <th>alligator</th>\n",
       "      <td>nan</td>\n",
       "      <td>nan</td>\n",
       "      <td>59.980000</td>\n",
       "    </tr>\n",
       "    <tr>\n",
       "      <th>autovirazh</th>\n",
       "      <td>48.273000</td>\n",
       "      <td>49.476000</td>\n",
       "      <td>47.559658</td>\n",
       "    </tr>\n",
       "    <tr>\n",
       "      <th>bielita</th>\n",
       "      <td>nan</td>\n",
       "      <td>nan</td>\n",
       "      <td>2.140000</td>\n",
       "    </tr>\n",
       "    <tr>\n",
       "      <th>bosch</th>\n",
       "      <td>100.458095</td>\n",
       "      <td>102.660000</td>\n",
       "      <td>101.761796</td>\n",
       "    </tr>\n",
       "  </tbody>\n",
       "</table>\n",
       "</div>"
      ],
      "text/plain": [
       "event_type                                     cart   purchase       view\n",
       "subcategory             brand                                            \n",
       "accessories.alarm       absolutechampion        nan        nan  10.300000\n",
       "                        appollo           54.060000  54.060000  54.060000\n",
       "                        autoline                nan        nan 351.100000\n",
       "                        avis              58.770000  50.190000  56.570724\n",
       "                        body-solid       341.320000 341.320000 341.320000\n",
       "                        centurion               nan        nan  33.460000\n",
       "                        dds              360.110000 360.110000 360.110000\n",
       "                        decathlon         27.228661  27.793448  27.536815\n",
       "                        domyos            27.847473  27.470000  29.318813\n",
       "                        dsk                     nan        nan  67.695000\n",
       "                        ersport           27.030000        nan  27.030000\n",
       "                        farcar            18.020000        nan  18.020000\n",
       "                        incar             24.710000  12.870000  32.673461\n",
       "                        kgb                     nan        nan  84.940000\n",
       "                        mydean            25.997419  26.978000  23.638059\n",
       "                        pandora                 nan        nan 209.908000\n",
       "                        phantom           12.870000  12.870000  12.870000\n",
       "                        romana            48.062000  45.991429  53.313151\n",
       "                        scher-khan              nan        nan  91.755294\n",
       "                        silapro                 nan        nan  15.960000\n",
       "                        sparta                  nan        nan  29.320000\n",
       "                        starline         217.250000        nan 215.360886\n",
       "                        swat              36.743226  38.547500  38.196536\n",
       "                        tomahawk                nan        nan  86.580909\n",
       "                        torneo            22.650000  22.650000  22.650000\n",
       "                        tuka              16.730000  16.730000  16.730000\n",
       "accessories.anti_freeze alvitek                 nan        nan  20.367500\n",
       "                        bartek            46.080000        nan  46.080000\n",
       "                        belezza                 nan        nan  20.890000\n",
       "                        biomecanics       47.912558  47.637857  50.925860\n",
       "                        bugaboo                 nan        nan 141.550000\n",
       "                        casaconforte            nan        nan  17.140000\n",
       "                        garvalin          44.924429  45.302857  48.193380\n",
       "                        intex                   nan        nan  69.350000\n",
       "                        marko             43.220000  43.220000  45.242870\n",
       "                        minimen           40.085000  43.117500  37.845993\n",
       "                        minno             38.452784  38.776866  39.063877\n",
       "                        neposeda                nan        nan  25.230000\n",
       "                        pablosky          47.640294  48.337000  47.355417\n",
       "                        perlina           39.870000  39.870000  39.870000\n",
       "                        timson            15.521714  15.500909  15.713696\n",
       "                        tyr                     nan        nan  41.190000\n",
       "                        verran            30.890000        nan        nan\n",
       "                        vladi                   nan        nan  36.091000\n",
       "accessories.compressor  intex                   nan        nan  70.420000\n",
       "                        airline           45.840000  45.840000  45.770272\n",
       "                        alligator               nan        nan  59.980000\n",
       "                        autovirazh        48.273000  49.476000  47.559658\n",
       "                        bielita                 nan        nan   2.140000\n",
       "                        bosch            100.458095 102.660000 101.761796"
      ]
     },
     "execution_count": 15,
     "metadata": {},
     "output_type": "execute_result"
    }
   ],
   "source": [
    "#Is the average price of products of different brands significantly different? \n",
    "\n",
    "table3 = pd.pivot_table(df, values='price', index=['subcategory','brand'],\n",
    "\n",
    "                    columns=['event_type'], aggfunc='mean')\n",
    "table3[:50]\n"
   ]
  },
  {
   "cell_type": "markdown",
   "metadata": {},
   "source": [
    "##  [RQ7] The Pareto principle states that for many outcomes roughly 80% of consequences come from 20% of the causes. Also known as 80/20 rule, in e-commerce simply means that most of your business, around 80%, likely comes from about 20% of your customers.\n",
    "\n",
    "    Prove that the pareto principle applies to your store.\n"
   ]
  },
  {
   "cell_type": "code",
   "execution_count": 16,
   "metadata": {},
   "outputs": [
    {
     "data": {
      "text/plain": [
       "user_id\n",
       "553446649   122525.190000\n",
       "566213018   119393.240000\n",
       "518514888   114484.630000\n",
       "628167977   113917.230000\n",
       "522016074   103291.350000\n",
       "                 ...     \n",
       "601133752        0.540000\n",
       "575831066        0.530000\n",
       "648016884        0.490000\n",
       "648343179        0.420000\n",
       "646832123        0.310000\n",
       "Name: price, Length: 485144, dtype: float64"
      ]
     },
     "execution_count": 16,
     "metadata": {},
     "output_type": "execute_result"
    }
   ],
   "source": [
    "group_purchase_by_user=df[df['event_type']=='purchase'].groupby(['user_id'])['price'].sum()\n",
    "sorted_group_purchase_by_user = group_purchase_by_user.dropna().sort_values(ascending=False)\n",
    "sorted_group_purchase_by_user\n",
    "#Group by user and sort all purchases by descending order"
   ]
  },
  {
   "cell_type": "code",
   "execution_count": 17,
   "metadata": {},
   "outputs": [
    {
     "data": {
      "text/plain": [
       "244525792.11"
      ]
     },
     "execution_count": 17,
     "metadata": {},
     "output_type": "execute_result"
    }
   ],
   "source": [
    "group_purchase_by_product=df[df['event_type']=='purchase']['price'].sum()\n",
    "group_purchase_by_product\n",
    "#get all the revenue that was made in this month"
   ]
  },
  {
   "cell_type": "code",
   "execution_count": 18,
   "metadata": {},
   "outputs": [
    {
     "name": "stdout",
     "output_type": "stream",
     "text": [
      "Percent of money 20 % of customers gave out of total 244525792.11: 68.84059377027606%\n"
     ]
    },
    {
     "data": {
      "image/png": "[encoded data removed]",
      "text/plain": [
       "<Figure size 1152x648 with 1 Axes>"
      ]
     },
     "metadata": {
      "needs_background": "light"
     },
     "output_type": "display_data"
    }
   ],
   "source": [
    "plt.figure(figsize =(16, 9)) \n",
    "amount_of_20percent_customers = len(sorted_group_purchase_by_user) * 0.2\n",
    "#Count % of money that 20% of top customers gave\n",
    "index_user = [str(i) for i in sorted_group_purchase_by_user.index]\n",
    "plt.bar(index_user[:20],sorted_group_purchase_by_user[:20])\n",
    "print('Percent of money 20 % of customers gave out of total {}: {}%'.format(group_purchase_by_product,sum(sorted_group_purchase_by_user[:int(amount_of_20percent_customers)]) /(group_purchase_by_product/100) ))"
   ]
  }
 ],
 "metadata": {
  "kernelspec": {
   "display_name": "Python 3",
   "language": "python",
   "name": "python3"
  },
  "language_info": {
   "codemirror_mode": {
    "name": "ipython",
    "version": 3
   },
   "file_extension": ".py",
   "mimetype": "text/x-python",
   "name": "python",
   "nbconvert_exporter": "python",
   "pygments_lexer": "ipython3",
   "version": "3.6.9"
  }
 },
 "nbformat": 4,
 "nbformat_minor": 2
}
