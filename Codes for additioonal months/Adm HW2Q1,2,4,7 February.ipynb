{
 "cells": [
  {
   "cell_type": "markdown",
   "metadata": {},
   "source": [
    "# ADM HW 2. Questions 1,2,4,7"
   ]
  },
  {
   "cell_type": "code",
   "execution_count": 1,
   "metadata": {},
   "outputs": [
    {
     "data": {
      "text/html": [
       "<div>\n",
       "<style scoped>\n",
       "    .dataframe tbody tr th:only-of-type {\n",
       "        vertical-align: middle;\n",
       "    }\n",
       "\n",
       "    .dataframe tbody tr th {\n",
       "        vertical-align: top;\n",
       "    }\n",
       "\n",
       "    .dataframe thead th {\n",
       "        text-align: right;\n",
       "    }\n",
       "</style>\n",
       "<table border=\"1\" class=\"dataframe\">\n",
       "  <thead>\n",
       "    <tr style=\"text-align: right;\">\n",
       "      <th></th>\n",
       "      <th>event_time</th>\n",
       "      <th>event_type</th>\n",
       "      <th>product_id</th>\n",
       "      <th>category_id</th>\n",
       "      <th>category_code</th>\n",
       "      <th>brand</th>\n",
       "      <th>price</th>\n",
       "      <th>user_id</th>\n",
       "      <th>user_session</th>\n",
       "    </tr>\n",
       "  </thead>\n",
       "  <tbody>\n",
       "    <tr>\n",
       "      <th>0</th>\n",
       "      <td>2020-02-01 00:00:00 UTC</td>\n",
       "      <td>view</td>\n",
       "      <td>100010426</td>\n",
       "      <td>2232732115290555244</td>\n",
       "      <td>apparel.shoes</td>\n",
       "      <td>NaN</td>\n",
       "      <td>19.31</td>\n",
       "      <td>581521975</td>\n",
       "      <td>82d5664d-7980-43e1-ab27-a2f05e991760</td>\n",
       "    </tr>\n",
       "    <tr>\n",
       "      <th>1</th>\n",
       "      <td>2020-02-01 00:00:00 UTC</td>\n",
       "      <td>view</td>\n",
       "      <td>100071077</td>\n",
       "      <td>2232732079706079299</td>\n",
       "      <td>sport.bicycle</td>\n",
       "      <td>crown</td>\n",
       "      <td>11.88</td>\n",
       "      <td>596313635</td>\n",
       "      <td>3df590c0-e667-4f5a-aa87-f47749cd6408</td>\n",
       "    </tr>\n",
       "    <tr>\n",
       "      <th>2</th>\n",
       "      <td>2020-02-01 00:00:00 UTC</td>\n",
       "      <td>view</td>\n",
       "      <td>1004665</td>\n",
       "      <td>2232732093077520756</td>\n",
       "      <td>construction.tools.light</td>\n",
       "      <td>samsung</td>\n",
       "      <td>838.23</td>\n",
       "      <td>608821035</td>\n",
       "      <td>3e271f43-db51-46bd-b215-c2907ed1a204</td>\n",
       "    </tr>\n",
       "    <tr>\n",
       "      <th>3</th>\n",
       "      <td>2020-02-01 00:00:01 UTC</td>\n",
       "      <td>view</td>\n",
       "      <td>1002544</td>\n",
       "      <td>2232732093077520756</td>\n",
       "      <td>construction.tools.light</td>\n",
       "      <td>apple</td>\n",
       "      <td>410.42</td>\n",
       "      <td>530488542</td>\n",
       "      <td>21f46782-fb36-4d5c-82d4-6dc26ae93fad</td>\n",
       "    </tr>\n",
       "    <tr>\n",
       "      <th>4</th>\n",
       "      <td>2020-02-01 00:00:01 UTC</td>\n",
       "      <td>view</td>\n",
       "      <td>100010151</td>\n",
       "      <td>2053013563835941749</td>\n",
       "      <td>appliances.kitchen.refrigerators</td>\n",
       "      <td>pulser</td>\n",
       "      <td>332.03</td>\n",
       "      <td>583795643</td>\n",
       "      <td>eddfe0e2-12f8-4357-b453-00786c9b0319</td>\n",
       "    </tr>\n",
       "  </tbody>\n",
       "</table>\n",
       "</div>"
      ],
      "text/plain": [
       "                event_time event_type  product_id          category_id  \\\n",
       "0  2020-02-01 00:00:00 UTC       view   100010426  2232732115290555244   \n",
       "1  2020-02-01 00:00:00 UTC       view   100071077  2232732079706079299   \n",
       "2  2020-02-01 00:00:00 UTC       view     1004665  2232732093077520756   \n",
       "3  2020-02-01 00:00:01 UTC       view     1002544  2232732093077520756   \n",
       "4  2020-02-01 00:00:01 UTC       view   100010151  2053013563835941749   \n",
       "\n",
       "                      category_code    brand   price    user_id  \\\n",
       "0                     apparel.shoes      NaN   19.31  581521975   \n",
       "1                     sport.bicycle    crown   11.88  596313635   \n",
       "2          construction.tools.light  samsung  838.23  608821035   \n",
       "3          construction.tools.light    apple  410.42  530488542   \n",
       "4  appliances.kitchen.refrigerators   pulser  332.03  583795643   \n",
       "\n",
       "                           user_session  \n",
       "0  82d5664d-7980-43e1-ab27-a2f05e991760  \n",
       "1  3df590c0-e667-4f5a-aa87-f47749cd6408  \n",
       "2  3e271f43-db51-46bd-b215-c2907ed1a204  \n",
       "3  21f46782-fb36-4d5c-82d4-6dc26ae93fad  \n",
       "4  eddfe0e2-12f8-4357-b453-00786c9b0319  "
      ]
     },
     "execution_count": 1,
     "metadata": {},
     "output_type": "execute_result"
    }
   ],
   "source": [
    "#Loading datasets\n",
    "import pandas as pd\n",
    "import numpy as np\n",
    "import matplotlib.pyplot as plt\n",
    "df=pd.read_csv('/home/dias/Desktop/HW/2020-Feb.csv')\n",
    "name ='February'\n",
    "df.head()"
   ]
  },
  {
   "cell_type": "code",
   "execution_count": 2,
   "metadata": {},
   "outputs": [],
   "source": [
    "#Setting numbers to show in float \n",
    "pd.set_option('float_format', '{:f}'.format)"
   ]
  },
  {
   "cell_type": "code",
   "execution_count": 3,
   "metadata": {},
   "outputs": [
    {
     "name": "stdout",
     "output_type": "stream",
     "text": [
      "<class 'pandas.core.frame.DataFrame'>\n",
      "RangeIndex: 55318565 entries, 0 to 55318564\n",
      "Data columns (total 9 columns):\n",
      " #   Column         Dtype  \n",
      "---  ------         -----  \n",
      " 0   event_time     object \n",
      " 1   event_type     object \n",
      " 2   product_id     int64  \n",
      " 3   category_id    int64  \n",
      " 4   category_code  object \n",
      " 5   brand          object \n",
      " 6   price          float64\n",
      " 7   user_id        int64  \n",
      " 8   user_session   object \n",
      "dtypes: float64(1), int64(3), object(5)\n",
      "memory usage: 3.7+ GB\n"
     ]
    }
   ],
   "source": [
    "#Getting information about dataset\n",
    "df.info()"
   ]
  },
  {
   "cell_type": "code",
   "execution_count": 4,
   "metadata": {},
   "outputs": [
    {
     "data": {
      "text/html": [
       "<div>\n",
       "<style scoped>\n",
       "    .dataframe tbody tr th:only-of-type {\n",
       "        vertical-align: middle;\n",
       "    }\n",
       "\n",
       "    .dataframe tbody tr th {\n",
       "        vertical-align: top;\n",
       "    }\n",
       "\n",
       "    .dataframe thead th {\n",
       "        text-align: right;\n",
       "    }\n",
       "</style>\n",
       "<table border=\"1\" class=\"dataframe\">\n",
       "  <thead>\n",
       "    <tr style=\"text-align: right;\">\n",
       "      <th></th>\n",
       "      <th>product_id</th>\n",
       "      <th>category_id</th>\n",
       "      <th>price</th>\n",
       "      <th>user_id</th>\n",
       "    </tr>\n",
       "  </thead>\n",
       "  <tbody>\n",
       "    <tr>\n",
       "      <th>count</th>\n",
       "      <td>55318565.000000</td>\n",
       "      <td>55318565.000000</td>\n",
       "      <td>55318565.000000</td>\n",
       "      <td>55318565.000000</td>\n",
       "    </tr>\n",
       "    <tr>\n",
       "      <th>mean</th>\n",
       "      <td>27381805.495893</td>\n",
       "      <td>2188588624664425728.000000</td>\n",
       "      <td>287.715237</td>\n",
       "      <td>563342578.707838</td>\n",
       "    </tr>\n",
       "    <tr>\n",
       "      <th>std</th>\n",
       "      <td>36852430.241540</td>\n",
       "      <td>77317888520081120.000000</td>\n",
       "      <td>358.207423</td>\n",
       "      <td>38283256.618293</td>\n",
       "    </tr>\n",
       "    <tr>\n",
       "      <th>min</th>\n",
       "      <td>1000365.000000</td>\n",
       "      <td>2053013551857008896.000000</td>\n",
       "      <td>0.000000</td>\n",
       "      <td>12511517.000000</td>\n",
       "    </tr>\n",
       "    <tr>\n",
       "      <th>25%</th>\n",
       "      <td>1307546.000000</td>\n",
       "      <td>2232732061804790528.000000</td>\n",
       "      <td>61.780000</td>\n",
       "      <td>523514740.000000</td>\n",
       "    </tr>\n",
       "    <tr>\n",
       "      <th>50%</th>\n",
       "      <td>9300067.000000</td>\n",
       "      <td>2232732093077520640.000000</td>\n",
       "      <td>163.980000</td>\n",
       "      <td>563783317.000000</td>\n",
       "    </tr>\n",
       "    <tr>\n",
       "      <th>75%</th>\n",
       "      <td>28714345.000000</td>\n",
       "      <td>2232732098077131264.000000</td>\n",
       "      <td>350.050000</td>\n",
       "      <td>600972411.000000</td>\n",
       "    </tr>\n",
       "    <tr>\n",
       "      <th>max</th>\n",
       "      <td>100144758.000000</td>\n",
       "      <td>2250810931162382848.000000</td>\n",
       "      <td>2574.070000</td>\n",
       "      <td>622090716.000000</td>\n",
       "    </tr>\n",
       "  </tbody>\n",
       "</table>\n",
       "</div>"
      ],
      "text/plain": [
       "            product_id                category_id           price  \\\n",
       "count  55318565.000000            55318565.000000 55318565.000000   \n",
       "mean   27381805.495893 2188588624664425728.000000      287.715237   \n",
       "std    36852430.241540   77317888520081120.000000      358.207423   \n",
       "min     1000365.000000 2053013551857008896.000000        0.000000   \n",
       "25%     1307546.000000 2232732061804790528.000000       61.780000   \n",
       "50%     9300067.000000 2232732093077520640.000000      163.980000   \n",
       "75%    28714345.000000 2232732098077131264.000000      350.050000   \n",
       "max   100144758.000000 2250810931162382848.000000     2574.070000   \n",
       "\n",
       "               user_id  \n",
       "count  55318565.000000  \n",
       "mean  563342578.707838  \n",
       "std    38283256.618293  \n",
       "min    12511517.000000  \n",
       "25%   523514740.000000  \n",
       "50%   563783317.000000  \n",
       "75%   600972411.000000  \n",
       "max   622090716.000000  "
      ]
     },
     "execution_count": 4,
     "metadata": {},
     "output_type": "execute_result"
    }
   ],
   "source": [
    "df.describe()"
   ]
  },
  {
   "cell_type": "code",
   "execution_count": 5,
   "metadata": {},
   "outputs": [
    {
     "data": {
      "text/plain": [
       "event_time        object\n",
       "event_type        object\n",
       "product_id         int64\n",
       "category_id        int64\n",
       "category_code     object\n",
       "brand             object\n",
       "price            float64\n",
       "user_id            int64\n",
       "user_session      object\n",
       "dtype: object"
      ]
     },
     "execution_count": 5,
     "metadata": {},
     "output_type": "execute_result"
    }
   ],
   "source": [
    "df.dtypes"
   ]
  },
  {
   "cell_type": "markdown",
   "metadata": {},
   "source": [
    "## [RQ1] A marketing funnel describes your customer’s journey with your e-commerce. It may involve different stages, beginning when someone learns about your business, when he/she visits your website for the first time, to the purchasing stage, marketing funnels map routes to conversion and beyond. Suppose your funnel involves just three simple steps: 1) view, 2) cart, 3) purchase. Which is the rate of complete funnels? "
   ]
  },
  {
   "cell_type": "code",
   "execution_count": 6,
   "metadata": {},
   "outputs": [
    {
     "data": {
      "text/plain": [
       "array(['view', 'cart', 'purchase'], dtype=object)"
      ]
     },
     "execution_count": 6,
     "metadata": {},
     "output_type": "execute_result"
    }
   ],
   "source": [
    "df.event_type.unique()"
   ]
  },
  {
   "cell_type": "code",
   "execution_count": 7,
   "metadata": {},
   "outputs": [
    {
     "name": "stdout",
     "output_type": "stream",
     "text": [
      "Rate of complete funnels in February = 0.03333844678508341\n"
     ]
    }
   ],
   "source": [
    "#Here I group all event_time values by product_id and user_id \n",
    "table1 = pd.pivot_table(df, values='event_time', index=['product_id','user_id'],\n",
    "                    columns=['event_type'], aggfunc=len)\n",
    "a=table1.dropna()\n",
    "complete_funnels = a.min(axis=1).sum()\n",
    "#I drop rows where at least one of them wasn't made, count sum and divide by total length\n",
    "print('Rate of complete funnels in {} = {}'.format(name,complete_funnels/len(table1)))"
   ]
  },
  {
   "cell_type": "markdown",
   "metadata": {},
   "source": [
    "### What’s the operation users repeat more on average within a session? Produce a plot that shows the average number of times users perform each operation (view/removefromchart etc etc)."
   ]
  },
  {
   "cell_type": "code",
   "execution_count": 8,
   "metadata": {
    "scrolled": true
   },
   "outputs": [
    {
     "data": {
      "text/plain": [
       "[3.8761342662908507, 1.738195504030157, 1.5918664532309124]"
      ]
     },
     "execution_count": 8,
     "metadata": {},
     "output_type": "execute_result"
    }
   ],
   "source": [
    "#Here I grouped by session and took all average numbers of events in event_type\n",
    "mean=[]\n",
    "for i in df.event_type.unique():\n",
    "    mean.append(df[df.event_type == i].groupby(['user_session']).event_type.count())\n",
    "for i in range(len(mean)):\n",
    "    mean[i]=mean[i].mean()\n",
    "mean"
   ]
  },
  {
   "cell_type": "code",
   "execution_count": 9,
   "metadata": {
    "scrolled": true
   },
   "outputs": [
    {
     "name": "stdout",
     "output_type": "stream",
     "text": [
      "The operation users repeat more on average within a session in February: \n"
     ]
    },
    {
     "data": {
      "image/png": "[encoded data removed]",
      "text/plain": [
       "<Figure size 432x288 with 1 Axes>"
      ]
     },
     "metadata": {
      "needs_background": "light"
     },
     "output_type": "display_data"
    }
   ],
   "source": [
    "#and then plot a bar, and took tha name of event with highest number\n",
    "plt.bar(df.event_type.unique(),mean);\n",
    "print('The operation users repeat more on average within a session in {}: '.format(name, df.event_type.unique()[0]))"
   ]
  },
  {
   "cell_type": "markdown",
   "metadata": {},
   "source": [
    "### How many times, on average, a user views a product before adding it to the cart?"
   ]
  },
  {
   "cell_type": "code",
   "execution_count": 4,
   "metadata": {
    "scrolled": true
   },
   "outputs": [
    {
     "data": {
      "text/html": [
       "<div>\n",
       "<style scoped>\n",
       "    .dataframe tbody tr th:only-of-type {\n",
       "        vertical-align: middle;\n",
       "    }\n",
       "\n",
       "    .dataframe tbody tr th {\n",
       "        vertical-align: top;\n",
       "    }\n",
       "\n",
       "    .dataframe thead th {\n",
       "        text-align: right;\n",
       "    }\n",
       "</style>\n",
       "<table border=\"1\" class=\"dataframe\">\n",
       "  <thead>\n",
       "    <tr style=\"text-align: right;\">\n",
       "      <th></th>\n",
       "      <th>event_type</th>\n",
       "      <th>cart</th>\n",
       "      <th>purchase</th>\n",
       "      <th>view</th>\n",
       "    </tr>\n",
       "    <tr>\n",
       "      <th>product_id</th>\n",
       "      <th>user_id</th>\n",
       "      <th></th>\n",
       "      <th></th>\n",
       "      <th></th>\n",
       "    </tr>\n",
       "  </thead>\n",
       "  <tbody>\n",
       "    <tr>\n",
       "      <th>1000365</th>\n",
       "      <th>515048306</th>\n",
       "      <td>NaN</td>\n",
       "      <td>NaN</td>\n",
       "      <td>2020-02-01 12:10:13 UTC</td>\n",
       "    </tr>\n",
       "    <tr>\n",
       "      <th rowspan=\"2\" valign=\"top\">1000544</th>\n",
       "      <th>516732222</th>\n",
       "      <td>NaN</td>\n",
       "      <td>NaN</td>\n",
       "      <td>2020-02-02 02:57:02 UTC</td>\n",
       "    </tr>\n",
       "    <tr>\n",
       "      <th>561122507</th>\n",
       "      <td>NaN</td>\n",
       "      <td>NaN</td>\n",
       "      <td>2020-02-03 05:39:02 UTC</td>\n",
       "    </tr>\n",
       "    <tr>\n",
       "      <th rowspan=\"2\" valign=\"top\">1000978</th>\n",
       "      <th>439613996</th>\n",
       "      <td>NaN</td>\n",
       "      <td>NaN</td>\n",
       "      <td>2020-02-01 12:01:07 UTC</td>\n",
       "    </tr>\n",
       "    <tr>\n",
       "      <th>491409397</th>\n",
       "      <td>NaN</td>\n",
       "      <td>NaN</td>\n",
       "      <td>2020-02-19 07:29:07 UTC</td>\n",
       "    </tr>\n",
       "    <tr>\n",
       "      <th>...</th>\n",
       "      <th>...</th>\n",
       "      <td>...</td>\n",
       "      <td>...</td>\n",
       "      <td>...</td>\n",
       "    </tr>\n",
       "    <tr>\n",
       "      <th rowspan=\"2\" valign=\"top\">100144669</th>\n",
       "      <th>559505773</th>\n",
       "      <td>NaN</td>\n",
       "      <td>NaN</td>\n",
       "      <td>2020-02-29 17:08:29 UTC</td>\n",
       "    </tr>\n",
       "    <tr>\n",
       "      <th>615472867</th>\n",
       "      <td>NaN</td>\n",
       "      <td>NaN</td>\n",
       "      <td>2020-02-29 15:58:59 UTC</td>\n",
       "    </tr>\n",
       "    <tr>\n",
       "      <th>100144755</th>\n",
       "      <th>571335273</th>\n",
       "      <td>NaN</td>\n",
       "      <td>NaN</td>\n",
       "      <td>2020-02-29 19:47:10 UTC</td>\n",
       "    </tr>\n",
       "    <tr>\n",
       "      <th>100144757</th>\n",
       "      <th>571335273</th>\n",
       "      <td>NaN</td>\n",
       "      <td>NaN</td>\n",
       "      <td>2020-02-29 19:47:51 UTC</td>\n",
       "    </tr>\n",
       "    <tr>\n",
       "      <th>100144758</th>\n",
       "      <th>571335273</th>\n",
       "      <td>NaN</td>\n",
       "      <td>NaN</td>\n",
       "      <td>2020-02-29 19:47:34 UTC</td>\n",
       "    </tr>\n",
       "  </tbody>\n",
       "</table>\n",
       "<p>29132311 rows × 3 columns</p>\n",
       "</div>"
      ],
      "text/plain": [
       "event_type           cart purchase                     view\n",
       "product_id user_id                                         \n",
       "1000365    515048306  NaN      NaN  2020-02-01 12:10:13 UTC\n",
       "1000544    516732222  NaN      NaN  2020-02-02 02:57:02 UTC\n",
       "           561122507  NaN      NaN  2020-02-03 05:39:02 UTC\n",
       "1000978    439613996  NaN      NaN  2020-02-01 12:01:07 UTC\n",
       "           491409397  NaN      NaN  2020-02-19 07:29:07 UTC\n",
       "...                   ...      ...                      ...\n",
       "100144669  559505773  NaN      NaN  2020-02-29 17:08:29 UTC\n",
       "           615472867  NaN      NaN  2020-02-29 15:58:59 UTC\n",
       "100144755  571335273  NaN      NaN  2020-02-29 19:47:10 UTC\n",
       "100144757  571335273  NaN      NaN  2020-02-29 19:47:51 UTC\n",
       "100144758  571335273  NaN      NaN  2020-02-29 19:47:34 UTC\n",
       "\n",
       "[29132311 rows x 3 columns]"
      ]
     },
     "execution_count": 4,
     "metadata": {},
     "output_type": "execute_result"
    }
   ],
   "source": [
    "#I made a pivot table of the times of first events that users made\n",
    "table = pd.pivot_table(df, values='event_time', index=['product_id','user_id'],\n",
    "                    columns=['event_type'], aggfunc=min)\n",
    "table"
   ]
  },
  {
   "cell_type": "code",
   "execution_count": 5,
   "metadata": {},
   "outputs": [
    {
     "data": {
      "text/plain": [
       "0.041552213279612456"
      ]
     },
     "execution_count": 5,
     "metadata": {},
     "output_type": "execute_result"
    }
   ],
   "source": [
    "#and then counted probability of user to view a product before buying\n",
    "answer = len(table[table['view']<table['cart']])/len(table)\n",
    "answer"
   ]
  },
  {
   "cell_type": "markdown",
   "metadata": {},
   "source": [
    "### What’s the probability that products added once to the cart are effectively bought?"
   ]
  },
  {
   "cell_type": "code",
   "execution_count": 6,
   "metadata": {},
   "outputs": [
    {
     "data": {
      "text/plain": [
       "0.42243422846169254"
      ]
     },
     "execution_count": 6,
     "metadata": {},
     "output_type": "execute_result"
    }
   ],
   "source": [
    "# the same pivot from above, counting all rows with time of 'cart' before the 'purchase' and divide by total length\n",
    "answer = len(table[table['cart']<table['purchase']])/len(table['cart'].dropna())\n",
    "answer"
   ]
  },
  {
   "cell_type": "markdown",
   "metadata": {},
   "source": [
    "## [RQ2] What are the categories of the most trending products overall? For each month visualize this information through a plot showing the number of sold products per category. "
   ]
  },
  {
   "cell_type": "code",
   "execution_count": 10,
   "metadata": {},
   "outputs": [],
   "source": [
    "import seaborn as sns\n",
    "#split category_code into 'category' and 'subcategory' columns\n",
    "df[['category', 'subcategory']] = df['category_code'].str.split('.', 1, expand=True)\n",
    "#count number of purchases of products and sort in descending order\n",
    "group_purchase_by_cat=df[df['event_type']=='purchase'].groupby(['product_id','category']).count()"
   ]
  },
  {
   "cell_type": "code",
   "execution_count": 11,
   "metadata": {},
   "outputs": [
    {
     "data": {
      "text/plain": [
       "product_id  category    \n",
       "1004767     construction    39649\n",
       "1005115     construction    37781\n",
       "1005100     construction    30616\n",
       "4804056     sport           25825\n",
       "1002544     construction    24176\n",
       "1005212     construction    20553\n",
       "100068488   construction    17424\n",
       "1005160     construction    16915\n",
       "1005105     construction    15713\n",
       "1004856     construction    12998\n",
       "Name: user_id, dtype: int64"
      ]
     },
     "execution_count": 11,
     "metadata": {},
     "output_type": "execute_result"
    }
   ],
   "source": [
    "group_purchase_by_cat['user_id'].sort_values(ascending=False).head(10)\n",
    "#As you can see the category of most trending products is electronics"
   ]
  },
  {
   "cell_type": "code",
   "execution_count": 12,
   "metadata": {},
   "outputs": [
    {
     "name": "stderr",
     "output_type": "stream",
     "text": [
      "/home/dias/TTS/lib/python3.6/site-packages/seaborn/_decorators.py:43: FutureWarning: Pass the following variables as keyword args: x, y. From version 0.12, the only valid positional argument will be `data`, and passing other arguments without an explicit keyword will result in an error or misinterpretation.\n",
      "  FutureWarning\n"
     ]
    },
    {
     "data": {
      "text/plain": [
       "Text(0, 0.5, 'Number of purchases')"
      ]
     },
     "execution_count": 12,
     "metadata": {},
     "output_type": "execute_result"
    },
    {
     "data": {
      "image/png": "[encoded data removed]",
      "text/plain": [
       "<Figure size 1152x864 with 1 Axes>"
      ]
     },
     "metadata": {
      "needs_background": "light"
     },
     "output_type": "display_data"
    }
   ],
   "source": [
    "group_purchase_by_cat=df[df['event_type']=='purchase'].groupby(['category'])['price'].count()\n",
    "sorted_group_purchase_by_cat = group_purchase_by_cat.dropna().sort_values(ascending=False)\n",
    "plt.figure(figsize =(16, 12)) \n",
    "index_category = [str(i) for i in sorted_group_purchase_by_cat.index]\n",
    "ax= sns.barplot(index_category,sorted_group_purchase_by_cat)\n",
    "for p in ax.patches:\n",
    "    ax.annotate(format(p.get_height(),',.0f'), (p.get_x() , p.get_height()),)\n",
    "plt.title('Total number of purchases by category in {}'.format(name))\n",
    "plt.xlabel('Category')\n",
    "plt.ylabel('Number of purchases')"
   ]
  },
  {
   "cell_type": "markdown",
   "metadata": {},
   "source": [
    "### Plot the most visited subcategories."
   ]
  },
  {
   "cell_type": "code",
   "execution_count": 13,
   "metadata": {},
   "outputs": [
    {
     "name": "stderr",
     "output_type": "stream",
     "text": [
      "/home/dias/TTS/lib/python3.6/site-packages/seaborn/_decorators.py:43: FutureWarning: Pass the following variables as keyword args: x, y. From version 0.12, the only valid positional argument will be `data`, and passing other arguments without an explicit keyword will result in an error or misinterpretation.\n",
      "  FutureWarning\n"
     ]
    },
    {
     "data": {
      "text/plain": [
       "Text(0, 0.5, 'Number of views')"
      ]
     },
     "execution_count": 13,
     "metadata": {},
     "output_type": "execute_result"
    },
    {
     "data": {
      "image/png": "[encoded data removed]",
      "text/plain": [
       "<Figure size 1152x864 with 1 Axes>"
      ]
     },
     "metadata": {
      "needs_background": "light"
     },
     "output_type": "display_data"
    }
   ],
   "source": [
    "group_view_by_subcat=df[df['event_type']=='view'].groupby(['subcategory'])['price'].count()\n",
    "sorted_group_view_by_subcat = group_view_by_subcat.dropna().sort_values(ascending=False)\n",
    "plt.figure(figsize =(16, 12)) \n",
    "index_category = [str(i) for i in sorted_group_view_by_subcat.index]\n",
    "ax= sns.barplot(index_category[:10],sorted_group_view_by_subcat[:10])\n",
    "for p in ax.patches:\n",
    "    ax.annotate(format(p.get_height(),',.0f'), (p.get_x() , p.get_height()),)\n",
    "plt.title('10 most visited subcategories in {}'.format(name))\n",
    "plt.xlabel('Subcategory')\n",
    "plt.ylabel('Number of views')"
   ]
  },
  {
   "cell_type": "markdown",
   "metadata": {},
   "source": [
    "### What are the 10 most sold products per category?"
   ]
  },
  {
   "cell_type": "code",
   "execution_count": 14,
   "metadata": {},
   "outputs": [
    {
     "name": "stdout",
     "output_type": "stream",
     "text": [
      "category  product_id\n",
      "apparel   5100816      8937.000000\n",
      "          4100346      1708.000000\n",
      "          4100126      1446.000000\n",
      "          5100503      1104.000000\n",
      "          1200947      1082.000000\n",
      "          16500007      927.000000\n",
      "          100060825     892.000000\n",
      "          100058915     836.000000\n",
      "          1201504       812.000000\n",
      "Name: purchase, dtype: float64\n",
      "category  product_id\n",
      "sport     4804056      25825.000000\n",
      "          4804055       9083.000000\n",
      "          4804718       6092.000000\n",
      "          4803977       4014.000000\n",
      "          4804660       3890.000000\n",
      "          4804295       3581.000000\n",
      "          4803976       1050.000000\n",
      "          100036138      684.000000\n",
      "          4803878        563.000000\n",
      "Name: purchase, dtype: float64\n",
      "category      product_id\n",
      "construction  1004767      39649.000000\n",
      "              1005115      37781.000000\n",
      "              1005100      30616.000000\n",
      "              1002544      24176.000000\n",
      "              1005212      20553.000000\n",
      "              100068488    17424.000000\n",
      "              1005160      16915.000000\n",
      "              1005105      15713.000000\n",
      "              1004856      12998.000000\n",
      "Name: purchase, dtype: float64\n",
      "category    product_id\n",
      "appliances  1801690      3022.000000\n",
      "            1801766      2505.000000\n",
      "            3700926      2054.000000\n",
      "            1801881      1805.000000\n",
      "            26300076     1458.000000\n",
      "            3601603      1455.000000\n",
      "            1801940      1358.000000\n",
      "            26300088     1195.000000\n",
      "            3600661      1190.000000\n",
      "Name: purchase, dtype: float64\n",
      "category   product_id\n",
      "furniture  2900958      1614.000000\n",
      "           11400317      690.000000\n",
      "           3801134       684.000000\n",
      "           2900561       471.000000\n",
      "           15200181      380.000000\n",
      "           5500207       380.000000\n",
      "           7600562       339.000000\n",
      "           11400666      317.000000\n",
      "           100025290     311.000000\n",
      "Name: purchase, dtype: float64\n",
      "category     product_id\n",
      "electronics  1307589      3482.000000\n",
      "             5100855      2714.000000\n",
      "             5100337      2356.000000\n",
      "             5100562      2203.000000\n",
      "             100023514    1890.000000\n",
      "             1307545      1883.000000\n",
      "             5100610      1636.000000\n",
      "             5100852      1292.000000\n",
      "             5100577      1124.000000\n",
      "Name: purchase, dtype: float64\n",
      "category   product_id\n",
      "computers  3300349      701.000000\n",
      "           26400266     545.000000\n",
      "           1500440      418.000000\n",
      "           26400251     407.000000\n",
      "           26400194     357.000000\n",
      "           26400402     266.000000\n",
      "           26400217     262.000000\n",
      "           26400293     250.000000\n",
      "           29502248     238.000000\n",
      "Name: purchase, dtype: float64\n",
      "No purchases in nan\n",
      "category     product_id\n",
      "accessories  4700478      472.000000\n",
      "             4700630      320.000000\n",
      "             16000974     220.000000\n",
      "             4700419      151.000000\n",
      "             16000973     136.000000\n",
      "             4700735      123.000000\n",
      "             100017531    107.000000\n",
      "             16000004      84.000000\n",
      "             100068251     80.000000\n",
      "Name: purchase, dtype: float64\n",
      "category  product_id\n",
      "kids      1500258      413.000000\n",
      "          22300003     370.000000\n",
      "          11200364     366.000000\n",
      "          26500146     333.000000\n",
      "          11200192     307.000000\n",
      "          7004492      276.000000\n",
      "          11200532     242.000000\n",
      "          26500121     233.000000\n",
      "          7002254      213.000000\n",
      "Name: purchase, dtype: float64\n",
      "category  product_id\n",
      "auto      100019270    374.000000\n",
      "          27900034     307.000000\n",
      "          100040711    233.000000\n",
      "          27900026     174.000000\n",
      "          100016665    174.000000\n",
      "          100023242    169.000000\n",
      "          100029431    122.000000\n",
      "          100023265    105.000000\n",
      "          24400436     102.000000\n",
      "Name: purchase, dtype: float64\n",
      "category  product_id\n",
      "medicine  29501042     100.000000\n",
      "          29501031      59.000000\n",
      "          100009497     49.000000\n",
      "          29501859      45.000000\n",
      "          29502182      37.000000\n",
      "          29501001      31.000000\n",
      "          100008185     19.000000\n",
      "          29501041      17.000000\n",
      "          29501016      14.000000\n",
      "Name: purchase, dtype: float64\n",
      "category      product_id\n",
      "country_yard  40500104     177.000000\n",
      "              21700002     118.000000\n",
      "              40500183     112.000000\n",
      "              21700003      75.000000\n",
      "              100094123     64.000000\n",
      "              40500173      54.000000\n",
      "              100092481     48.000000\n",
      "              21700001      47.000000\n",
      "              100092509     47.000000\n",
      "Name: purchase, dtype: float64\n",
      "category    product_id\n",
      "stationery  12900111     16.000000\n",
      "            100009920    16.000000\n",
      "            100009890    14.000000\n",
      "            12900362     11.000000\n",
      "            12900360      9.000000\n",
      "            12900363      9.000000\n",
      "            12900361      8.000000\n",
      "            100010207     6.000000\n",
      "            12900110      6.000000\n",
      "Name: purchase, dtype: float64\n"
     ]
    }
   ],
   "source": [
    "bf = df['category'].unique()\n",
    "for i in bf:\n",
    "    try:\n",
    "        #make pivot table for each category, and sort values in descending order\n",
    "        table4 = pd.pivot_table(df[df['category']==i], values='event_time', index=['category','product_id'],\n",
    "                        columns=['event_type'], aggfunc=len)\n",
    "        print(table4['purchase'].dropna().sort_values(ascending =False)[:9])\n",
    "    except:\n",
    "        print('No purchases in {}'.format(i))"
   ]
  },
  {
   "cell_type": "markdown",
   "metadata": {},
   "source": [
    "## [RQ4] How much does each brand earn per month? "
   ]
  },
  {
   "cell_type": "code",
   "execution_count": 15,
   "metadata": {},
   "outputs": [
    {
     "data": {
      "text/html": [
       "<div>\n",
       "<style scoped>\n",
       "    .dataframe tbody tr th:only-of-type {\n",
       "        vertical-align: middle;\n",
       "    }\n",
       "\n",
       "    .dataframe tbody tr th {\n",
       "        vertical-align: top;\n",
       "    }\n",
       "\n",
       "    .dataframe thead th {\n",
       "        text-align: right;\n",
       "    }\n",
       "</style>\n",
       "<table border=\"1\" class=\"dataframe\">\n",
       "  <thead>\n",
       "    <tr style=\"text-align: right;\">\n",
       "      <th>event_type</th>\n",
       "      <th>cart</th>\n",
       "      <th>purchase</th>\n",
       "      <th>view</th>\n",
       "    </tr>\n",
       "    <tr>\n",
       "      <th>brand</th>\n",
       "      <th></th>\n",
       "      <th></th>\n",
       "      <th></th>\n",
       "    </tr>\n",
       "  </thead>\n",
       "  <tbody>\n",
       "    <tr>\n",
       "      <th>a-case</th>\n",
       "      <td>4304.660000</td>\n",
       "      <td>1335.770000</td>\n",
       "      <td>206598.080000</td>\n",
       "    </tr>\n",
       "    <tr>\n",
       "      <th>a-derma</th>\n",
       "      <td>395.620000</td>\n",
       "      <td>94.080000</td>\n",
       "      <td>11365.570000</td>\n",
       "    </tr>\n",
       "    <tr>\n",
       "      <th>a-elita</th>\n",
       "      <td>33.960000</td>\n",
       "      <td>8.490000</td>\n",
       "      <td>1551.030000</td>\n",
       "    </tr>\n",
       "    <tr>\n",
       "      <th>a-mega</th>\n",
       "      <td>1029.550000</td>\n",
       "      <td>432.450000</td>\n",
       "      <td>16334.340000</td>\n",
       "    </tr>\n",
       "    <tr>\n",
       "      <th>a-toys</th>\n",
       "      <td>30.890000</td>\n",
       "      <td>61.780000</td>\n",
       "      <td>1104.340000</td>\n",
       "    </tr>\n",
       "    <tr>\n",
       "      <th>...</th>\n",
       "      <td>...</td>\n",
       "      <td>...</td>\n",
       "      <td>...</td>\n",
       "    </tr>\n",
       "    <tr>\n",
       "      <th>zvezda</th>\n",
       "      <td>19.820000</td>\n",
       "      <td>nan</td>\n",
       "      <td>23.940000</td>\n",
       "    </tr>\n",
       "    <tr>\n",
       "      <th>zwerg</th>\n",
       "      <td>nan</td>\n",
       "      <td>nan</td>\n",
       "      <td>590.430000</td>\n",
       "    </tr>\n",
       "    <tr>\n",
       "      <th>zwilling</th>\n",
       "      <td>1031.970000</td>\n",
       "      <td>nan</td>\n",
       "      <td>272434.170000</td>\n",
       "    </tr>\n",
       "    <tr>\n",
       "      <th>zx</th>\n",
       "      <td>nan</td>\n",
       "      <td>nan</td>\n",
       "      <td>1107.120000</td>\n",
       "    </tr>\n",
       "    <tr>\n",
       "      <th>zyxel</th>\n",
       "      <td>124.530000</td>\n",
       "      <td>184.760000</td>\n",
       "      <td>172984.330000</td>\n",
       "    </tr>\n",
       "  </tbody>\n",
       "</table>\n",
       "<p>4658 rows × 3 columns</p>\n",
       "</div>"
      ],
      "text/plain": [
       "event_type        cart    purchase          view\n",
       "brand                                           \n",
       "a-case     4304.660000 1335.770000 206598.080000\n",
       "a-derma     395.620000   94.080000  11365.570000\n",
       "a-elita      33.960000    8.490000   1551.030000\n",
       "a-mega     1029.550000  432.450000  16334.340000\n",
       "a-toys       30.890000   61.780000   1104.340000\n",
       "...                ...         ...           ...\n",
       "zvezda       19.820000         nan     23.940000\n",
       "zwerg              nan         nan    590.430000\n",
       "zwilling   1031.970000         nan 272434.170000\n",
       "zx                 nan         nan   1107.120000\n",
       "zyxel       124.530000  184.760000 172984.330000\n",
       "\n",
       "[4658 rows x 3 columns]"
      ]
     },
     "execution_count": 15,
     "metadata": {},
     "output_type": "execute_result"
    }
   ],
   "source": [
    "#made a pivot table to sum the selling price per each brand\n",
    "brand_sum = pd.pivot_table(df, values='price', index=['brand'],\n",
    "                    columns=['event_type'], aggfunc=sum)\n",
    "brand_sum"
   ]
  },
  {
   "cell_type": "code",
   "execution_count": 16,
   "metadata": {},
   "outputs": [
    {
     "data": {
      "text/plain": [
       "brand\n",
       "apple      191755567.649981\n",
       "samsung     74269250.379974\n",
       "xiaomi      17702877.470003\n",
       "huawei       7667155.309999\n",
       "lucente      5917410.990000\n",
       "                 ...       \n",
       "zuru                    nan\n",
       "zvezda                  nan\n",
       "zwerg                   nan\n",
       "zwilling                nan\n",
       "zx                      nan\n",
       "Name: purchase, Length: 4658, dtype: float64"
      ]
     },
     "execution_count": 16,
     "metadata": {},
     "output_type": "execute_result"
    }
   ],
   "source": [
    "#How much does each brand earn per month?\n",
    "brand_revenue = brand_sum['purchase'].sort_values(ascending=False)\n",
    "brand_revenue"
   ]
  },
  {
   "cell_type": "markdown",
   "metadata": {},
   "source": [
    "### Write a function that given the name of a brand in input returns, for each month, its profit."
   ]
  },
  {
   "cell_type": "code",
   "execution_count": 17,
   "metadata": {},
   "outputs": [],
   "source": [
    "# Function that given the name of a brand in input returns, for each month, its profit. \n",
    "def profit_of_brand(brand_name,month):\n",
    "    return month['purchase'][brand_name]\n",
    "\n",
    "def profit_of_brand_for_each_month(brand_name,list_of_months):\n",
    "    return [i['purchase'][brand_name] for i  in list_of_months]"
   ]
  },
  {
   "cell_type": "markdown",
   "metadata": {},
   "source": [
    "### Is the average price of products of different brands significantly different? "
   ]
  },
  {
   "cell_type": "code",
   "execution_count": 18,
   "metadata": {
    "scrolled": true
   },
   "outputs": [
    {
     "data": {
      "text/html": [
       "<div>\n",
       "<style scoped>\n",
       "    .dataframe tbody tr th:only-of-type {\n",
       "        vertical-align: middle;\n",
       "    }\n",
       "\n",
       "    .dataframe tbody tr th {\n",
       "        vertical-align: top;\n",
       "    }\n",
       "\n",
       "    .dataframe thead th {\n",
       "        text-align: right;\n",
       "    }\n",
       "</style>\n",
       "<table border=\"1\" class=\"dataframe\">\n",
       "  <thead>\n",
       "    <tr style=\"text-align: right;\">\n",
       "      <th></th>\n",
       "      <th>event_type</th>\n",
       "      <th>cart</th>\n",
       "      <th>purchase</th>\n",
       "      <th>view</th>\n",
       "    </tr>\n",
       "    <tr>\n",
       "      <th>subcategory</th>\n",
       "      <th>brand</th>\n",
       "      <th></th>\n",
       "      <th></th>\n",
       "      <th></th>\n",
       "    </tr>\n",
       "  </thead>\n",
       "  <tbody>\n",
       "    <tr>\n",
       "      <th rowspan=\"23\" valign=\"top\">accessories.alarm</th>\n",
       "      <th>absolutechampion</th>\n",
       "      <td>10.300000</td>\n",
       "      <td>nan</td>\n",
       "      <td>10.300000</td>\n",
       "    </tr>\n",
       "    <tr>\n",
       "      <th>appollo</th>\n",
       "      <td>nan</td>\n",
       "      <td>nan</td>\n",
       "      <td>54.060000</td>\n",
       "    </tr>\n",
       "    <tr>\n",
       "      <th>autoline</th>\n",
       "      <td>nan</td>\n",
       "      <td>nan</td>\n",
       "      <td>353.380000</td>\n",
       "    </tr>\n",
       "    <tr>\n",
       "      <th>body-solid</th>\n",
       "      <td>nan</td>\n",
       "      <td>nan</td>\n",
       "      <td>341.320000</td>\n",
       "    </tr>\n",
       "    <tr>\n",
       "      <th>cenmax</th>\n",
       "      <td>nan</td>\n",
       "      <td>nan</td>\n",
       "      <td>100.390000</td>\n",
       "    </tr>\n",
       "    <tr>\n",
       "      <th>centurion</th>\n",
       "      <td>33.460000</td>\n",
       "      <td>33.460000</td>\n",
       "      <td>33.460000</td>\n",
       "    </tr>\n",
       "    <tr>\n",
       "      <th>dds</th>\n",
       "      <td>296.073714</td>\n",
       "      <td>305.899388</td>\n",
       "      <td>320.276784</td>\n",
       "    </tr>\n",
       "    <tr>\n",
       "      <th>domyos</th>\n",
       "      <td>100.390000</td>\n",
       "      <td>nan</td>\n",
       "      <td>100.390000</td>\n",
       "    </tr>\n",
       "    <tr>\n",
       "      <th>dsk</th>\n",
       "      <td>72.210000</td>\n",
       "      <td>nan</td>\n",
       "      <td>70.135329</td>\n",
       "    </tr>\n",
       "    <tr>\n",
       "      <th>kenwood</th>\n",
       "      <td>nan</td>\n",
       "      <td>nan</td>\n",
       "      <td>240.657209</td>\n",
       "    </tr>\n",
       "    <tr>\n",
       "      <th>kgb</th>\n",
       "      <td>nan</td>\n",
       "      <td>nan</td>\n",
       "      <td>84.940000</td>\n",
       "    </tr>\n",
       "    <tr>\n",
       "      <th>mydean</th>\n",
       "      <td>128.700000</td>\n",
       "      <td>nan</td>\n",
       "      <td>128.700000</td>\n",
       "    </tr>\n",
       "    <tr>\n",
       "      <th>pandora</th>\n",
       "      <td>165.482500</td>\n",
       "      <td>nan</td>\n",
       "      <td>213.866552</td>\n",
       "    </tr>\n",
       "    <tr>\n",
       "      <th>pioneer</th>\n",
       "      <td>64.350000</td>\n",
       "      <td>64.350000</td>\n",
       "      <td>64.350000</td>\n",
       "    </tr>\n",
       "    <tr>\n",
       "      <th>romana</th>\n",
       "      <td>71.808000</td>\n",
       "      <td>65.686667</td>\n",
       "      <td>73.199404</td>\n",
       "    </tr>\n",
       "    <tr>\n",
       "      <th>scher-khan</th>\n",
       "      <td>72.070000</td>\n",
       "      <td>nan</td>\n",
       "      <td>113.901250</td>\n",
       "    </tr>\n",
       "    <tr>\n",
       "      <th>silapro</th>\n",
       "      <td>15.960000</td>\n",
       "      <td>15.960000</td>\n",
       "      <td>15.960000</td>\n",
       "    </tr>\n",
       "    <tr>\n",
       "      <th>sparta</th>\n",
       "      <td>29.320000</td>\n",
       "      <td>29.320000</td>\n",
       "      <td>29.320000</td>\n",
       "    </tr>\n",
       "    <tr>\n",
       "      <th>starline</th>\n",
       "      <td>215.255000</td>\n",
       "      <td>217.250000</td>\n",
       "      <td>213.262183</td>\n",
       "    </tr>\n",
       "    <tr>\n",
       "      <th>swat</th>\n",
       "      <td>40.879200</td>\n",
       "      <td>40.673333</td>\n",
       "      <td>42.220596</td>\n",
       "    </tr>\n",
       "    <tr>\n",
       "      <th>tomahawk</th>\n",
       "      <td>89.125000</td>\n",
       "      <td>nan</td>\n",
       "      <td>86.759412</td>\n",
       "    </tr>\n",
       "    <tr>\n",
       "      <th>torneo</th>\n",
       "      <td>22.650000</td>\n",
       "      <td>22.650000</td>\n",
       "      <td>22.650000</td>\n",
       "    </tr>\n",
       "    <tr>\n",
       "      <th>tuka</th>\n",
       "      <td>16.730000</td>\n",
       "      <td>16.730000</td>\n",
       "      <td>16.730000</td>\n",
       "    </tr>\n",
       "    <tr>\n",
       "      <th rowspan=\"23\" valign=\"top\">accessories.anti_freeze</th>\n",
       "      <th>adel</th>\n",
       "      <td>22.720000</td>\n",
       "      <td>nan</td>\n",
       "      <td>25.140000</td>\n",
       "    </tr>\n",
       "    <tr>\n",
       "      <th>alexrojo</th>\n",
       "      <td>38.610000</td>\n",
       "      <td>nan</td>\n",
       "      <td>46.330000</td>\n",
       "    </tr>\n",
       "    <tr>\n",
       "      <th>alvitek</th>\n",
       "      <td>15.570000</td>\n",
       "      <td>nan</td>\n",
       "      <td>24.927857</td>\n",
       "    </tr>\n",
       "    <tr>\n",
       "      <th>barokko</th>\n",
       "      <td>13.020000</td>\n",
       "      <td>nan</td>\n",
       "      <td>11.396250</td>\n",
       "    </tr>\n",
       "    <tr>\n",
       "      <th>bartek</th>\n",
       "      <td>46.080000</td>\n",
       "      <td>nan</td>\n",
       "      <td>47.390000</td>\n",
       "    </tr>\n",
       "    <tr>\n",
       "      <th>belezza</th>\n",
       "      <td>nan</td>\n",
       "      <td>nan</td>\n",
       "      <td>20.890000</td>\n",
       "    </tr>\n",
       "    <tr>\n",
       "      <th>biomecanics</th>\n",
       "      <td>43.964000</td>\n",
       "      <td>46.330000</td>\n",
       "      <td>38.504137</td>\n",
       "    </tr>\n",
       "    <tr>\n",
       "      <th>bugaboo</th>\n",
       "      <td>nan</td>\n",
       "      <td>nan</td>\n",
       "      <td>141.550000</td>\n",
       "    </tr>\n",
       "    <tr>\n",
       "      <th>burton</th>\n",
       "      <td>nan</td>\n",
       "      <td>nan</td>\n",
       "      <td>631.560000</td>\n",
       "    </tr>\n",
       "    <tr>\n",
       "      <th>casaconforte</th>\n",
       "      <td>nan</td>\n",
       "      <td>nan</td>\n",
       "      <td>17.140000</td>\n",
       "    </tr>\n",
       "    <tr>\n",
       "      <th>elegant</th>\n",
       "      <td>11.070000</td>\n",
       "      <td>nan</td>\n",
       "      <td>16.674444</td>\n",
       "    </tr>\n",
       "    <tr>\n",
       "      <th>garvalin</th>\n",
       "      <td>40.444167</td>\n",
       "      <td>46.330000</td>\n",
       "      <td>39.121734</td>\n",
       "    </tr>\n",
       "    <tr>\n",
       "      <th>intex</th>\n",
       "      <td>55.920000</td>\n",
       "      <td>nan</td>\n",
       "      <td>57.888567</td>\n",
       "    </tr>\n",
       "    <tr>\n",
       "      <th>koopman</th>\n",
       "      <td>nan</td>\n",
       "      <td>nan</td>\n",
       "      <td>36.030000</td>\n",
       "    </tr>\n",
       "    <tr>\n",
       "      <th>minimen</th>\n",
       "      <td>42.658571</td>\n",
       "      <td>42.046667</td>\n",
       "      <td>40.862615</td>\n",
       "    </tr>\n",
       "    <tr>\n",
       "      <th>neposeda</th>\n",
       "      <td>25.230000</td>\n",
       "      <td>nan</td>\n",
       "      <td>25.230000</td>\n",
       "    </tr>\n",
       "    <tr>\n",
       "      <th>pablosky</th>\n",
       "      <td>42.707917</td>\n",
       "      <td>44.746667</td>\n",
       "      <td>47.887644</td>\n",
       "    </tr>\n",
       "    <tr>\n",
       "      <th>stolicatekstila</th>\n",
       "      <td>35.140000</td>\n",
       "      <td>nan</td>\n",
       "      <td>31.633333</td>\n",
       "    </tr>\n",
       "    <tr>\n",
       "      <th>timson</th>\n",
       "      <td>15.559920</td>\n",
       "      <td>15.494167</td>\n",
       "      <td>15.750086</td>\n",
       "    </tr>\n",
       "    <tr>\n",
       "      <th>tyr</th>\n",
       "      <td>nan</td>\n",
       "      <td>nan</td>\n",
       "      <td>35.520000</td>\n",
       "    </tr>\n",
       "    <tr>\n",
       "      <th>unison</th>\n",
       "      <td>nan</td>\n",
       "      <td>nan</td>\n",
       "      <td>16.910000</td>\n",
       "    </tr>\n",
       "    <tr>\n",
       "      <th>verran</th>\n",
       "      <td>nan</td>\n",
       "      <td>nan</td>\n",
       "      <td>30.890000</td>\n",
       "    </tr>\n",
       "    <tr>\n",
       "      <th>vladi</th>\n",
       "      <td>37.840000</td>\n",
       "      <td>nan</td>\n",
       "      <td>35.414872</td>\n",
       "    </tr>\n",
       "    <tr>\n",
       "      <th rowspan=\"4\" valign=\"top\">accessories.compressor</th>\n",
       "      <th>intex</th>\n",
       "      <td>82.200000</td>\n",
       "      <td>nan</td>\n",
       "      <td>71.970952</td>\n",
       "    </tr>\n",
       "    <tr>\n",
       "      <th>airline</th>\n",
       "      <td>48.312727</td>\n",
       "      <td>48.304211</td>\n",
       "      <td>48.483650</td>\n",
       "    </tr>\n",
       "    <tr>\n",
       "      <th>alligator</th>\n",
       "      <td>nan</td>\n",
       "      <td>nan</td>\n",
       "      <td>59.980000</td>\n",
       "    </tr>\n",
       "    <tr>\n",
       "      <th>aquamarine</th>\n",
       "      <td>23.593333</td>\n",
       "      <td>16.730000</td>\n",
       "      <td>26.534762</td>\n",
       "    </tr>\n",
       "  </tbody>\n",
       "</table>\n",
       "</div>"
      ],
      "text/plain": [
       "event_type                                     cart   purchase       view\n",
       "subcategory             brand                                            \n",
       "accessories.alarm       absolutechampion  10.300000        nan  10.300000\n",
       "                        appollo                 nan        nan  54.060000\n",
       "                        autoline                nan        nan 353.380000\n",
       "                        body-solid              nan        nan 341.320000\n",
       "                        cenmax                  nan        nan 100.390000\n",
       "                        centurion         33.460000  33.460000  33.460000\n",
       "                        dds              296.073714 305.899388 320.276784\n",
       "                        domyos           100.390000        nan 100.390000\n",
       "                        dsk               72.210000        nan  70.135329\n",
       "                        kenwood                 nan        nan 240.657209\n",
       "                        kgb                     nan        nan  84.940000\n",
       "                        mydean           128.700000        nan 128.700000\n",
       "                        pandora          165.482500        nan 213.866552\n",
       "                        pioneer           64.350000  64.350000  64.350000\n",
       "                        romana            71.808000  65.686667  73.199404\n",
       "                        scher-khan        72.070000        nan 113.901250\n",
       "                        silapro           15.960000  15.960000  15.960000\n",
       "                        sparta            29.320000  29.320000  29.320000\n",
       "                        starline         215.255000 217.250000 213.262183\n",
       "                        swat              40.879200  40.673333  42.220596\n",
       "                        tomahawk          89.125000        nan  86.759412\n",
       "                        torneo            22.650000  22.650000  22.650000\n",
       "                        tuka              16.730000  16.730000  16.730000\n",
       "accessories.anti_freeze adel              22.720000        nan  25.140000\n",
       "                        alexrojo          38.610000        nan  46.330000\n",
       "                        alvitek           15.570000        nan  24.927857\n",
       "                        barokko           13.020000        nan  11.396250\n",
       "                        bartek            46.080000        nan  47.390000\n",
       "                        belezza                 nan        nan  20.890000\n",
       "                        biomecanics       43.964000  46.330000  38.504137\n",
       "                        bugaboo                 nan        nan 141.550000\n",
       "                        burton                  nan        nan 631.560000\n",
       "                        casaconforte            nan        nan  17.140000\n",
       "                        elegant           11.070000        nan  16.674444\n",
       "                        garvalin          40.444167  46.330000  39.121734\n",
       "                        intex             55.920000        nan  57.888567\n",
       "                        koopman                 nan        nan  36.030000\n",
       "                        minimen           42.658571  42.046667  40.862615\n",
       "                        neposeda          25.230000        nan  25.230000\n",
       "                        pablosky          42.707917  44.746667  47.887644\n",
       "                        stolicatekstila   35.140000        nan  31.633333\n",
       "                        timson            15.559920  15.494167  15.750086\n",
       "                        tyr                     nan        nan  35.520000\n",
       "                        unison                  nan        nan  16.910000\n",
       "                        verran                  nan        nan  30.890000\n",
       "                        vladi             37.840000        nan  35.414872\n",
       "accessories.compressor  intex             82.200000        nan  71.970952\n",
       "                        airline           48.312727  48.304211  48.483650\n",
       "                        alligator               nan        nan  59.980000\n",
       "                        aquamarine        23.593333  16.730000  26.534762"
      ]
     },
     "execution_count": 18,
     "metadata": {},
     "output_type": "execute_result"
    }
   ],
   "source": [
    "#Is the average price of products of different brands significantly different? \n",
    "\n",
    "table3 = pd.pivot_table(df, values='price', index=['subcategory','brand'],\n",
    "\n",
    "                    columns=['event_type'], aggfunc='mean')\n",
    "table3[:50]\n"
   ]
  },
  {
   "cell_type": "markdown",
   "metadata": {},
   "source": [
    "##  [RQ7] The Pareto principle states that for many outcomes roughly 80% of consequences come from 20% of the causes. Also known as 80/20 rule, in e-commerce simply means that most of your business, around 80%, likely comes from about 20% of your customers.\n",
    "\n",
    "    Prove that the pareto principle applies to your store.\n"
   ]
  },
  {
   "cell_type": "code",
   "execution_count": 19,
   "metadata": {},
   "outputs": [
    {
     "data": {
      "text/plain": [
       "user_id\n",
       "563051763   302725.800000\n",
       "610871788   292203.440000\n",
       "529168923   277318.260000\n",
       "598224683   247693.960000\n",
       "569374504   235510.520000\n",
       "                 ...     \n",
       "611172219        0.850000\n",
       "576888935        0.850000\n",
       "610255823        0.800000\n",
       "616199049        0.790000\n",
       "609731500        0.770000\n",
       "Name: price, Length: 392356, dtype: float64"
      ]
     },
     "execution_count": 19,
     "metadata": {},
     "output_type": "execute_result"
    }
   ],
   "source": [
    "group_purchase_by_user=df[df['event_type']=='purchase'].groupby(['user_id'])['price'].sum()\n",
    "sorted_group_purchase_by_user = group_purchase_by_user.dropna().sort_values(ascending=False)\n",
    "sorted_group_purchase_by_user\n",
    "#Group by user and sort all purchases by descending order"
   ]
  },
  {
   "cell_type": "code",
   "execution_count": 20,
   "metadata": {},
   "outputs": [
    {
     "data": {
      "text/plain": [
       "381178935.4199997"
      ]
     },
     "execution_count": 20,
     "metadata": {},
     "output_type": "execute_result"
    }
   ],
   "source": [
    "group_purchase_by_product=df[df['event_type']=='purchase']['price'].sum()\n",
    "group_purchase_by_product\n",
    "#get all the revenue that was made in this month"
   ]
  },
  {
   "cell_type": "code",
   "execution_count": 21,
   "metadata": {},
   "outputs": [
    {
     "name": "stdout",
     "output_type": "stream",
     "text": [
      "Percent of money 20 % of customers gave out of total 381178935.4199997: 72.91701512145397%\n"
     ]
    },
    {
     "data": {
      "image/png": "[encoded data removed]",
      "text/plain": [
       "<Figure size 1152x648 with 1 Axes>"
      ]
     },
     "metadata": {
      "needs_background": "light"
     },
     "output_type": "display_data"
    }
   ],
   "source": [
    "plt.figure(figsize =(16, 9)) \n",
    "amount_of_20percent_customers = len(sorted_group_purchase_by_user) * 0.2\n",
    "#Count % of money that 20% of top customers gave\n",
    "index_user = [str(i) for i in sorted_group_purchase_by_user.index]\n",
    "plt.bar(index_user[:20],sorted_group_purchase_by_user[:20])\n",
    "print('Percent of money 20 % of customers gave out of total {}: {}%'.format(group_purchase_by_product,sum(sorted_group_purchase_by_user[:int(amount_of_20percent_customers)]) /(group_purchase_by_product/100) ))"
   ]
  }
 ],
 "metadata": {
  "kernelspec": {
   "display_name": "Python 3",
   "language": "python",
   "name": "python3"
  },
  "language_info": {
   "codemirror_mode": {
    "name": "ipython",
    "version": 3
   },
   "file_extension": ".py",
   "mimetype": "text/x-python",
   "name": "python",
   "nbconvert_exporter": "python",
   "pygments_lexer": "ipython3",
   "version": "3.6.9"
  }
 },
 "nbformat": 4,
 "nbformat_minor": 2
}
