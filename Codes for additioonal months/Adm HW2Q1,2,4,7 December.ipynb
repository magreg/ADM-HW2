{
 "cells": [
  {
   "cell_type": "markdown",
   "metadata": {},
   "source": [
    "# ADM HW 2. Questions 1,2,4,7"
   ]
  },
  {
   "cell_type": "code",
   "execution_count": 1,
   "metadata": {},
   "outputs": [
    {
     "data": {
      "text/html": [
       "<div>\n",
       "<style scoped>\n",
       "    .dataframe tbody tr th:only-of-type {\n",
       "        vertical-align: middle;\n",
       "    }\n",
       "\n",
       "    .dataframe tbody tr th {\n",
       "        vertical-align: top;\n",
       "    }\n",
       "\n",
       "    .dataframe thead th {\n",
       "        text-align: right;\n",
       "    }\n",
       "</style>\n",
       "<table border=\"1\" class=\"dataframe\">\n",
       "  <thead>\n",
       "    <tr style=\"text-align: right;\">\n",
       "      <th></th>\n",
       "      <th>event_time</th>\n",
       "      <th>event_type</th>\n",
       "      <th>product_id</th>\n",
       "      <th>category_id</th>\n",
       "      <th>category_code</th>\n",
       "      <th>brand</th>\n",
       "      <th>price</th>\n",
       "      <th>user_id</th>\n",
       "      <th>user_session</th>\n",
       "    </tr>\n",
       "  </thead>\n",
       "  <tbody>\n",
       "    <tr>\n",
       "      <th>0</th>\n",
       "      <td>2019-12-01 00:00:00 UTC</td>\n",
       "      <td>view</td>\n",
       "      <td>1005105</td>\n",
       "      <td>2232732093077520756</td>\n",
       "      <td>construction.tools.light</td>\n",
       "      <td>apple</td>\n",
       "      <td>1302.48</td>\n",
       "      <td>556695836</td>\n",
       "      <td>ca5eefc5-11f9-450c-91ed-380285a0bc80</td>\n",
       "    </tr>\n",
       "    <tr>\n",
       "      <th>1</th>\n",
       "      <td>2019-12-01 00:00:00 UTC</td>\n",
       "      <td>view</td>\n",
       "      <td>22700068</td>\n",
       "      <td>2232732091643068746</td>\n",
       "      <td>NaN</td>\n",
       "      <td>force</td>\n",
       "      <td>102.96</td>\n",
       "      <td>577702456</td>\n",
       "      <td>de33debe-c7bf-44e8-8a12-3bf8421f842a</td>\n",
       "    </tr>\n",
       "    <tr>\n",
       "      <th>2</th>\n",
       "      <td>2019-12-01 00:00:01 UTC</td>\n",
       "      <td>view</td>\n",
       "      <td>2402273</td>\n",
       "      <td>2232732100769874463</td>\n",
       "      <td>appliances.personal.massager</td>\n",
       "      <td>bosch</td>\n",
       "      <td>313.52</td>\n",
       "      <td>539453785</td>\n",
       "      <td>5ee185a7-0689-4a33-923d-ba0130929a76</td>\n",
       "    </tr>\n",
       "    <tr>\n",
       "      <th>3</th>\n",
       "      <td>2019-12-01 00:00:02 UTC</td>\n",
       "      <td>purchase</td>\n",
       "      <td>26400248</td>\n",
       "      <td>2053013553056579841</td>\n",
       "      <td>computers.peripherals.printer</td>\n",
       "      <td>NaN</td>\n",
       "      <td>132.31</td>\n",
       "      <td>535135317</td>\n",
       "      <td>61792a26-672f-4e61-9832-7b63bb1714db</td>\n",
       "    </tr>\n",
       "    <tr>\n",
       "      <th>4</th>\n",
       "      <td>2019-12-01 00:00:02 UTC</td>\n",
       "      <td>view</td>\n",
       "      <td>20100164</td>\n",
       "      <td>2232732110089618156</td>\n",
       "      <td>apparel.trousers</td>\n",
       "      <td>nika</td>\n",
       "      <td>101.68</td>\n",
       "      <td>517987650</td>\n",
       "      <td>906c6ca8-ff5c-419a-bde9-967ba8e2233e</td>\n",
       "    </tr>\n",
       "  </tbody>\n",
       "</table>\n",
       "</div>"
      ],
      "text/plain": [
       "                event_time event_type  product_id          category_id  \\\n",
       "0  2019-12-01 00:00:00 UTC       view     1005105  2232732093077520756   \n",
       "1  2019-12-01 00:00:00 UTC       view    22700068  2232732091643068746   \n",
       "2  2019-12-01 00:00:01 UTC       view     2402273  2232732100769874463   \n",
       "3  2019-12-01 00:00:02 UTC   purchase    26400248  2053013553056579841   \n",
       "4  2019-12-01 00:00:02 UTC       view    20100164  2232732110089618156   \n",
       "\n",
       "                   category_code  brand    price    user_id  \\\n",
       "0       construction.tools.light  apple  1302.48  556695836   \n",
       "1                            NaN  force   102.96  577702456   \n",
       "2   appliances.personal.massager  bosch   313.52  539453785   \n",
       "3  computers.peripherals.printer    NaN   132.31  535135317   \n",
       "4               apparel.trousers   nika   101.68  517987650   \n",
       "\n",
       "                           user_session  \n",
       "0  ca5eefc5-11f9-450c-91ed-380285a0bc80  \n",
       "1  de33debe-c7bf-44e8-8a12-3bf8421f842a  \n",
       "2  5ee185a7-0689-4a33-923d-ba0130929a76  \n",
       "3  61792a26-672f-4e61-9832-7b63bb1714db  \n",
       "4  906c6ca8-ff5c-419a-bde9-967ba8e2233e  "
      ]
     },
     "execution_count": 1,
     "metadata": {},
     "output_type": "execute_result"
    }
   ],
   "source": [
    "#Loading datasets\n",
    "import pandas as pd\n",
    "import numpy as np\n",
    "import matplotlib.pyplot as plt\n",
    "df=pd.read_csv('/home/dias/Desktop/HW/2019-Dec.csv')\n",
    "name ='December'\n",
    "df.head()"
   ]
  },
  {
   "cell_type": "code",
   "execution_count": null,
   "metadata": {},
   "outputs": [],
   "source": [
    "#Setting numbers to show in float \n",
    "pd.set_option('float_format', '{:f}'.format)"
   ]
  },
  {
   "cell_type": "code",
   "execution_count": 3,
   "metadata": {},
   "outputs": [
    {
     "name": "stdout",
     "output_type": "stream",
     "text": [
      "<class 'pandas.core.frame.DataFrame'>\n",
      "RangeIndex: 67542878 entries, 0 to 67542877\n",
      "Data columns (total 9 columns):\n",
      " #   Column         Dtype  \n",
      "---  ------         -----  \n",
      " 0   event_time     object \n",
      " 1   event_type     object \n",
      " 2   product_id     int64  \n",
      " 3   category_id    int64  \n",
      " 4   category_code  object \n",
      " 5   brand          object \n",
      " 6   price          float64\n",
      " 7   user_id        int64  \n",
      " 8   user_session   object \n",
      "dtypes: float64(1), int64(3), object(5)\n",
      "memory usage: 4.5+ GB\n"
     ]
    }
   ],
   "source": [
    "#Getting information about dataset\n",
    "df.info()"
   ]
  },
  {
   "cell_type": "code",
   "execution_count": 4,
   "metadata": {},
   "outputs": [
    {
     "data": {
      "text/html": [
       "<div>\n",
       "<style scoped>\n",
       "    .dataframe tbody tr th:only-of-type {\n",
       "        vertical-align: middle;\n",
       "    }\n",
       "\n",
       "    .dataframe tbody tr th {\n",
       "        vertical-align: top;\n",
       "    }\n",
       "\n",
       "    .dataframe thead th {\n",
       "        text-align: right;\n",
       "    }\n",
       "</style>\n",
       "<table border=\"1\" class=\"dataframe\">\n",
       "  <thead>\n",
       "    <tr style=\"text-align: right;\">\n",
       "      <th></th>\n",
       "      <th>product_id</th>\n",
       "      <th>category_id</th>\n",
       "      <th>price</th>\n",
       "      <th>user_id</th>\n",
       "    </tr>\n",
       "  </thead>\n",
       "  <tbody>\n",
       "    <tr>\n",
       "      <th>count</th>\n",
       "      <td>67542878.000000</td>\n",
       "      <td>67542878.000000</td>\n",
       "      <td>67542878.000000</td>\n",
       "      <td>67542878.000000</td>\n",
       "    </tr>\n",
       "    <tr>\n",
       "      <th>mean</th>\n",
       "      <td>17620809.849287</td>\n",
       "      <td>2179055916185898752.000000</td>\n",
       "      <td>274.798687</td>\n",
       "      <td>548121014.032983</td>\n",
       "    </tr>\n",
       "    <tr>\n",
       "      <th>std</th>\n",
       "      <td>27300708.262594</td>\n",
       "      <td>81666647132787552.000000</td>\n",
       "      <td>348.046850</td>\n",
       "      <td>28593302.516716</td>\n",
       "    </tr>\n",
       "    <tr>\n",
       "      <th>min</th>\n",
       "      <td>1000544.000000</td>\n",
       "      <td>2053013551865397504.000000</td>\n",
       "      <td>0.000000</td>\n",
       "      <td>29515875.000000</td>\n",
       "    </tr>\n",
       "    <tr>\n",
       "      <th>25%</th>\n",
       "      <td>1005266.000000</td>\n",
       "      <td>2053013563718501120.000000</td>\n",
       "      <td>61.490000</td>\n",
       "      <td>518841839.000000</td>\n",
       "    </tr>\n",
       "    <tr>\n",
       "      <th>50%</th>\n",
       "      <td>5300079.000000</td>\n",
       "      <td>2232732093077520640.000000</td>\n",
       "      <td>154.420000</td>\n",
       "      <td>546876612.500000</td>\n",
       "    </tr>\n",
       "    <tr>\n",
       "      <th>75%</th>\n",
       "      <td>21403908.000000</td>\n",
       "      <td>2232732097708032512.000000</td>\n",
       "      <td>332.030000</td>\n",
       "      <td>573986217.000000</td>\n",
       "    </tr>\n",
       "    <tr>\n",
       "      <th>max</th>\n",
       "      <td>100064491.000000</td>\n",
       "      <td>2232732138325672448.000000</td>\n",
       "      <td>2574.070000</td>\n",
       "      <td>595414563.000000</td>\n",
       "    </tr>\n",
       "  </tbody>\n",
       "</table>\n",
       "</div>"
      ],
      "text/plain": [
       "            product_id                category_id           price  \\\n",
       "count  67542878.000000            67542878.000000 67542878.000000   \n",
       "mean   17620809.849287 2179055916185898752.000000      274.798687   \n",
       "std    27300708.262594   81666647132787552.000000      348.046850   \n",
       "min     1000544.000000 2053013551865397504.000000        0.000000   \n",
       "25%     1005266.000000 2053013563718501120.000000       61.490000   \n",
       "50%     5300079.000000 2232732093077520640.000000      154.420000   \n",
       "75%    21403908.000000 2232732097708032512.000000      332.030000   \n",
       "max   100064491.000000 2232732138325672448.000000     2574.070000   \n",
       "\n",
       "               user_id  \n",
       "count  67542878.000000  \n",
       "mean  548121014.032983  \n",
       "std    28593302.516716  \n",
       "min    29515875.000000  \n",
       "25%   518841839.000000  \n",
       "50%   546876612.500000  \n",
       "75%   573986217.000000  \n",
       "max   595414563.000000  "
      ]
     },
     "execution_count": 4,
     "metadata": {},
     "output_type": "execute_result"
    }
   ],
   "source": [
    "df.describe()"
   ]
  },
  {
   "cell_type": "code",
   "execution_count": 5,
   "metadata": {},
   "outputs": [
    {
     "data": {
      "text/plain": [
       "event_time        object\n",
       "event_type        object\n",
       "product_id         int64\n",
       "category_id        int64\n",
       "category_code     object\n",
       "brand             object\n",
       "price            float64\n",
       "user_id            int64\n",
       "user_session      object\n",
       "dtype: object"
      ]
     },
     "execution_count": 5,
     "metadata": {},
     "output_type": "execute_result"
    }
   ],
   "source": [
    "df.dtypes"
   ]
  },
  {
   "cell_type": "markdown",
   "metadata": {},
   "source": [
    "## [RQ1] A marketing funnel describes your customer’s journey with your e-commerce. It may involve different stages, beginning when someone learns about your business, when he/she visits your website for the first time, to the purchasing stage, marketing funnels map routes to conversion and beyond. Suppose your funnel involves just three simple steps: 1) view, 2) cart, 3) purchase. Which is the rate of complete funnels? "
   ]
  },
  {
   "cell_type": "code",
   "execution_count": 6,
   "metadata": {},
   "outputs": [
    {
     "data": {
      "text/plain": [
       "array(['view', 'purchase', 'cart'], dtype=object)"
      ]
     },
     "execution_count": 6,
     "metadata": {},
     "output_type": "execute_result"
    }
   ],
   "source": [
    "df.event_type.unique()"
   ]
  },
  {
   "cell_type": "code",
   "execution_count": 7,
   "metadata": {},
   "outputs": [
    {
     "name": "stdout",
     "output_type": "stream",
     "text": [
      "Rate of complete funnels in December = 0.03259664228979582\n"
     ]
    }
   ],
   "source": [
    "#Here I group all event_time values by product_id and user_id \n",
    "table1 = pd.pivot_table(df, values='event_time', index=['product_id','user_id'],\n",
    "                    columns=['event_type'], aggfunc=len)\n",
    "a=table1.dropna()\n",
    "complete_funnels = a.min(axis=1).sum()\n",
    "#I drop rows where at least one of them wasn't made, count sum and divide by total length\n",
    "print('Rate of complete funnels in {} = {}'.format(name,complete_funnels/len(table1)))"
   ]
  },
  {
   "cell_type": "markdown",
   "metadata": {},
   "source": [
    "### What’s the operation users repeat more on average within a session? Produce a plot that shows the average number of times users perform each operation (view/removefromchart etc etc)."
   ]
  },
  {
   "cell_type": "code",
   "execution_count": 9,
   "metadata": {
    "scrolled": true
   },
   "outputs": [
    {
     "data": {
      "text/plain": [
       "[4.043303927731845, 1.197981453703847, 1.7115020163983934]"
      ]
     },
     "execution_count": 9,
     "metadata": {},
     "output_type": "execute_result"
    }
   ],
   "source": [
    "#Here I grouped by session and took all average numbers of events in event_type\n",
    "mean=[]\n",
    "for i in df.event_type.unique():\n",
    "    mean.append(df[df.event_type == i].groupby(['user_session']).event_type.count())\n",
    "for i in range(len(mean)):\n",
    "    mean[i]=mean[i].mean()\n",
    "mean"
   ]
  },
  {
   "cell_type": "code",
   "execution_count": 13,
   "metadata": {
    "scrolled": true
   },
   "outputs": [
    {
     "name": "stdout",
     "output_type": "stream",
     "text": [
      "The operation users repeat more on average within a session in December: \n"
     ]
    },
    {
     "data": {
      "image/png": "[encoded data removed]",
      "text/plain": [
       "<Figure size 432x288 with 1 Axes>"
      ]
     },
     "metadata": {
      "needs_background": "light"
     },
     "output_type": "display_data"
    }
   ],
   "source": [
    "#and then plot a bar, and took tha name of event with highest number\n",
    "plt.bar(df.event_type.unique(),mean);\n",
    "print('The operation users repeat more on average within a session in {}: '.format(name, df.event_type.unique()[0]))"
   ]
  },
  {
   "cell_type": "markdown",
   "metadata": {},
   "source": [
    "### How many times, on average, a user views a product before adding it to the cart?"
   ]
  },
  {
   "cell_type": "code",
   "execution_count": 14,
   "metadata": {
    "scrolled": true
   },
   "outputs": [
    {
     "data": {
      "text/html": [
       "<div>\n",
       "<style scoped>\n",
       "    .dataframe tbody tr th:only-of-type {\n",
       "        vertical-align: middle;\n",
       "    }\n",
       "\n",
       "    .dataframe tbody tr th {\n",
       "        vertical-align: top;\n",
       "    }\n",
       "\n",
       "    .dataframe thead th {\n",
       "        text-align: right;\n",
       "    }\n",
       "</style>\n",
       "<table border=\"1\" class=\"dataframe\">\n",
       "  <thead>\n",
       "    <tr style=\"text-align: right;\">\n",
       "      <th></th>\n",
       "      <th>event_type</th>\n",
       "      <th>cart</th>\n",
       "      <th>purchase</th>\n",
       "      <th>view</th>\n",
       "    </tr>\n",
       "    <tr>\n",
       "      <th>product_id</th>\n",
       "      <th>user_id</th>\n",
       "      <th></th>\n",
       "      <th></th>\n",
       "      <th></th>\n",
       "    </tr>\n",
       "  </thead>\n",
       "  <tbody>\n",
       "    <tr>\n",
       "      <th>1000544</th>\n",
       "      <th>515597091</th>\n",
       "      <td>NaN</td>\n",
       "      <td>NaN</td>\n",
       "      <td>2019-12-19 11:34:11 UTC</td>\n",
       "    </tr>\n",
       "    <tr>\n",
       "      <th rowspan=\"4\" valign=\"top\">1000894</th>\n",
       "      <th>512384604</th>\n",
       "      <td>NaN</td>\n",
       "      <td>NaN</td>\n",
       "      <td>2019-12-26 14:12:09 UTC</td>\n",
       "    </tr>\n",
       "    <tr>\n",
       "      <th>512406132</th>\n",
       "      <td>NaN</td>\n",
       "      <td>NaN</td>\n",
       "      <td>2019-12-21 08:47:06 UTC</td>\n",
       "    </tr>\n",
       "    <tr>\n",
       "      <th>512457055</th>\n",
       "      <td>NaN</td>\n",
       "      <td>NaN</td>\n",
       "      <td>2019-12-21 20:31:50 UTC</td>\n",
       "    </tr>\n",
       "    <tr>\n",
       "      <th>512459247</th>\n",
       "      <td>NaN</td>\n",
       "      <td>NaN</td>\n",
       "      <td>2019-12-20 14:48:36 UTC</td>\n",
       "    </tr>\n",
       "    <tr>\n",
       "      <th>...</th>\n",
       "      <th>...</th>\n",
       "      <td>...</td>\n",
       "      <td>...</td>\n",
       "      <td>...</td>\n",
       "    </tr>\n",
       "    <tr>\n",
       "      <th>100064457</th>\n",
       "      <th>591108684</th>\n",
       "      <td>NaN</td>\n",
       "      <td>NaN</td>\n",
       "      <td>2019-12-31 08:58:14 UTC</td>\n",
       "    </tr>\n",
       "    <tr>\n",
       "      <th>100064485</th>\n",
       "      <th>556595700</th>\n",
       "      <td>NaN</td>\n",
       "      <td>NaN</td>\n",
       "      <td>2019-12-31 11:28:57 UTC</td>\n",
       "    </tr>\n",
       "    <tr>\n",
       "      <th>100064486</th>\n",
       "      <th>512796932</th>\n",
       "      <td>NaN</td>\n",
       "      <td>NaN</td>\n",
       "      <td>2019-12-31 16:44:57 UTC</td>\n",
       "    </tr>\n",
       "    <tr>\n",
       "      <th>100064488</th>\n",
       "      <th>527551554</th>\n",
       "      <td>NaN</td>\n",
       "      <td>NaN</td>\n",
       "      <td>2019-12-31 10:45:26 UTC</td>\n",
       "    </tr>\n",
       "    <tr>\n",
       "      <th>100064491</th>\n",
       "      <th>543021026</th>\n",
       "      <td>NaN</td>\n",
       "      <td>NaN</td>\n",
       "      <td>2019-12-31 21:32:47 UTC</td>\n",
       "    </tr>\n",
       "  </tbody>\n",
       "</table>\n",
       "<p>35258969 rows × 3 columns</p>\n",
       "</div>"
      ],
      "text/plain": [
       "event_type           cart purchase                     view\n",
       "product_id user_id                                         \n",
       "1000544    515597091  NaN      NaN  2019-12-19 11:34:11 UTC\n",
       "1000894    512384604  NaN      NaN  2019-12-26 14:12:09 UTC\n",
       "           512406132  NaN      NaN  2019-12-21 08:47:06 UTC\n",
       "           512457055  NaN      NaN  2019-12-21 20:31:50 UTC\n",
       "           512459247  NaN      NaN  2019-12-20 14:48:36 UTC\n",
       "...                   ...      ...                      ...\n",
       "100064457  591108684  NaN      NaN  2019-12-31 08:58:14 UTC\n",
       "100064485  556595700  NaN      NaN  2019-12-31 11:28:57 UTC\n",
       "100064486  512796932  NaN      NaN  2019-12-31 16:44:57 UTC\n",
       "100064488  527551554  NaN      NaN  2019-12-31 10:45:26 UTC\n",
       "100064491  543021026  NaN      NaN  2019-12-31 21:32:47 UTC\n",
       "\n",
       "[35258969 rows x 3 columns]"
      ]
     },
     "execution_count": 14,
     "metadata": {},
     "output_type": "execute_result"
    }
   ],
   "source": [
    "#I made a pivot table of the times of first events that users made\n",
    "table = pd.pivot_table(df, values='event_time', index=['product_id','user_id'],\n",
    "                    columns=['event_type'], aggfunc=min)\n",
    "table"
   ]
  },
  {
   "cell_type": "code",
   "execution_count": 15,
   "metadata": {},
   "outputs": [
    {
     "data": {
      "text/plain": [
       "0.04968894581120622"
      ]
     },
     "execution_count": 15,
     "metadata": {},
     "output_type": "execute_result"
    }
   ],
   "source": [
    "#and then counted probability of user to view a product before buying\n",
    "answer = len(table[table['view']<table['cart']])/len(table)\n",
    "answer"
   ]
  },
  {
   "cell_type": "markdown",
   "metadata": {},
   "source": [
    "### What’s the probability that products added once to the cart are effectively bought?"
   ]
  },
  {
   "cell_type": "code",
   "execution_count": 16,
   "metadata": {},
   "outputs": [
    {
     "data": {
      "text/plain": [
       "0.48668348277534684"
      ]
     },
     "execution_count": 16,
     "metadata": {},
     "output_type": "execute_result"
    }
   ],
   "source": [
    "# the same pivot from above, counting all rows with time of 'cart' before the 'purchase' and divide by total length\n",
    "answer = len(table[table['cart']<table['purchase']])/len(table['cart'].dropna())\n",
    "answer"
   ]
  },
  {
   "cell_type": "markdown",
   "metadata": {},
   "source": [
    "## [RQ2] What are the categories of the most trending products overall? For each month visualize this information through a plot showing the number of sold products per category. "
   ]
  },
  {
   "cell_type": "code",
   "execution_count": 19,
   "metadata": {},
   "outputs": [],
   "source": [
    "import seaborn as sns\n",
    "#split category_code into 'category' and 'subcategory' columns\n",
    "df[['category', 'subcategory']] = df['category_code'].str.split('.', 1, expand=True)\n",
    "#count number of purchases of products and sort in descending order\n",
    "group_purchase_by_cat=df[df['event_type']=='purchase'].groupby(['product_id','category']).count()"
   ]
  },
  {
   "cell_type": "code",
   "execution_count": 20,
   "metadata": {},
   "outputs": [
    {
     "data": {
      "text/plain": [
       "product_id  category    \n",
       "1004856     construction    34545\n",
       "1004767     construction    34256\n",
       "1005115     construction    26464\n",
       "1005100     construction    23457\n",
       "4804056     sport           22496\n",
       "1002544     construction    18606\n",
       "1004870     construction    13637\n",
       "1005212     construction    12071\n",
       "1004249     construction    11435\n",
       "1005160     construction    10850\n",
       "Name: user_id, dtype: int64"
      ]
     },
     "execution_count": 20,
     "metadata": {},
     "output_type": "execute_result"
    }
   ],
   "source": [
    "group_purchase_by_cat['user_id'].sort_values(ascending=False).head(10)\n",
    "#As you can see the category of most trending products is electronics"
   ]
  },
  {
   "cell_type": "code",
   "execution_count": 21,
   "metadata": {},
   "outputs": [
    {
     "name": "stderr",
     "output_type": "stream",
     "text": [
      "/home/dias/TTS/lib/python3.6/site-packages/seaborn/_decorators.py:43: FutureWarning: Pass the following variables as keyword args: x, y. From version 0.12, the only valid positional argument will be `data`, and passing other arguments without an explicit keyword will result in an error or misinterpretation.\n",
      "  FutureWarning\n"
     ]
    },
    {
     "data": {
      "text/plain": [
       "Text(0, 0.5, 'Number of purchases')"
      ]
     },
     "execution_count": 21,
     "metadata": {},
     "output_type": "execute_result"
    },
    {
     "data": {
      "image/png": "[encoded data removed]",
      "text/plain": [
       "<Figure size 1152x864 with 1 Axes>"
      ]
     },
     "metadata": {
      "needs_background": "light"
     },
     "output_type": "display_data"
    }
   ],
   "source": [
    "group_purchase_by_cat=df[df['event_type']=='purchase'].groupby(['category'])['price'].count()\n",
    "sorted_group_purchase_by_cat = group_purchase_by_cat.dropna().sort_values(ascending=False)\n",
    "plt.figure(figsize =(16, 12)) \n",
    "index_category = [str(i) for i in sorted_group_purchase_by_cat.index]\n",
    "ax= sns.barplot(index_category,sorted_group_purchase_by_cat)\n",
    "for p in ax.patches:\n",
    "    ax.annotate(format(p.get_height(),',.0f'), (p.get_x() , p.get_height()),)\n",
    "plt.title('Total number of purchases by category in {}'.format(name))\n",
    "plt.xlabel('Category')\n",
    "plt.ylabel('Number of purchases')"
   ]
  },
  {
   "cell_type": "markdown",
   "metadata": {},
   "source": [
    "### Plot the most visited subcategories."
   ]
  },
  {
   "cell_type": "code",
   "execution_count": 22,
   "metadata": {},
   "outputs": [
    {
     "name": "stderr",
     "output_type": "stream",
     "text": [
      "/home/dias/TTS/lib/python3.6/site-packages/seaborn/_decorators.py:43: FutureWarning: Pass the following variables as keyword args: x, y. From version 0.12, the only valid positional argument will be `data`, and passing other arguments without an explicit keyword will result in an error or misinterpretation.\n",
      "  FutureWarning\n"
     ]
    },
    {
     "data": {
      "text/plain": [
       "Text(0, 0.5, 'Number of views')"
      ]
     },
     "execution_count": 22,
     "metadata": {},
     "output_type": "execute_result"
    },
    {
     "data": {
      "image/png": "[encoded data removed]",
      "text/plain": [
       "<Figure size 1152x864 with 1 Axes>"
      ]
     },
     "metadata": {
      "needs_background": "light"
     },
     "output_type": "display_data"
    }
   ],
   "source": [
    "group_view_by_subcat=df[df['event_type']=='view'].groupby(['subcategory'])['price'].count()\n",
    "sorted_group_view_by_subcat = group_view_by_subcat.dropna().sort_values(ascending=False)\n",
    "plt.figure(figsize =(16, 12)) \n",
    "index_category = [str(i) for i in sorted_group_view_by_subcat.index]\n",
    "ax= sns.barplot(index_category[:10],sorted_group_view_by_subcat[:10])\n",
    "for p in ax.patches:\n",
    "    ax.annotate(format(p.get_height(),',.0f'), (p.get_x() , p.get_height()),)\n",
    "plt.title('10 most visited subcategories in {}'.format(name))\n",
    "plt.xlabel('Subcategory')\n",
    "plt.ylabel('Number of views')"
   ]
  },
  {
   "cell_type": "markdown",
   "metadata": {},
   "source": [
    "### What are the 10 most sold products per category?"
   ]
  },
  {
   "cell_type": "code",
   "execution_count": 25,
   "metadata": {
    "scrolled": true
   },
   "outputs": [
    {
     "name": "stdout",
     "output_type": "stream",
     "text": [
      "category      product_id\n",
      "construction  1004856      34545.000000\n",
      "              1004767      34256.000000\n",
      "              1005115      26464.000000\n",
      "              1005100      23457.000000\n",
      "              1002544      18606.000000\n",
      "              1004870      13637.000000\n",
      "              1005212      12071.000000\n",
      "              1004249      11435.000000\n",
      "              1005160      10850.000000\n",
      "Name: purchase, dtype: float64\n",
      "No purchases in nan\n",
      "category    product_id\n",
      "appliances  1005174      6176.000000\n",
      "            1801690      3908.000000\n",
      "            1801766      2805.000000\n",
      "            3700926      2656.000000\n",
      "            1005186      2463.000000\n",
      "            1801881      2240.000000\n",
      "            3600661      1871.000000\n",
      "            3601405      1867.000000\n",
      "            1801805      1622.000000\n",
      "Name: purchase, dtype: float64\n",
      "category   product_id\n",
      "computers  3300349      867.000000\n",
      "           26400266     758.000000\n",
      "           26400293     655.000000\n",
      "           1307136      616.000000\n",
      "           26400193     368.000000\n",
      "           100024162    306.000000\n",
      "           11500273     295.000000\n",
      "           26402365     268.000000\n",
      "           8902633      253.000000\n",
      "Name: purchase, dtype: float64\n",
      "category  product_id\n",
      "apparel   5100816      9380.000000\n",
      "          4100346      5265.000000\n",
      "          1200947      2137.000000\n",
      "          16500007     1301.000000\n",
      "          1200957      1218.000000\n",
      "          1201504      1090.000000\n",
      "          5100503       776.000000\n",
      "          6000094       730.000000\n",
      "          10701101      627.000000\n",
      "Name: purchase, dtype: float64\n",
      "category     product_id\n",
      "accessories  4700478      504.000000\n",
      "             4700630      295.000000\n",
      "             4700589      248.000000\n",
      "             4700419      163.000000\n",
      "             16000973     129.000000\n",
      "             4700407      127.000000\n",
      "             4700380       88.000000\n",
      "             4700738       86.000000\n",
      "             100017543     81.000000\n",
      "Name: purchase, dtype: float64\n",
      "category     product_id\n",
      "electronics  5100562      2517.000000\n",
      "             1307545      2112.000000\n",
      "             5100855      1835.000000\n",
      "             100038678    1549.000000\n",
      "             1307188      1509.000000\n",
      "             5100610      1353.000000\n",
      "             1307589      1200.000000\n",
      "             5100577      1061.000000\n",
      "             4804572      1038.000000\n",
      "Name: purchase, dtype: float64\n",
      "category  product_id\n",
      "sport     4804056      22496.000000\n",
      "          4804055       5535.000000\n",
      "          4804718       4425.000000\n",
      "          4804295       3925.000000\n",
      "          4803977       3368.000000\n",
      "          4804660       2248.000000\n",
      "          4803879        826.000000\n",
      "          4804409        686.000000\n",
      "          4803878        515.000000\n",
      "Name: purchase, dtype: float64\n",
      "category   product_id\n",
      "furniture  2900958      1363.000000\n",
      "           2900561       654.000000\n",
      "           11400317      602.000000\n",
      "           3801134       549.000000\n",
      "           11400268      380.000000\n",
      "           2900934       377.000000\n",
      "           2900090       362.000000\n",
      "           3800979       353.000000\n",
      "           5500207       327.000000\n",
      "Name: purchase, dtype: float64\n",
      "category  product_id\n",
      "auto      5701167      229.000000\n",
      "          100023264    222.000000\n",
      "          27900026     176.000000\n",
      "          27900034     165.000000\n",
      "          100016666    144.000000\n",
      "          100019257    134.000000\n",
      "          22400084     124.000000\n",
      "          5701173      114.000000\n",
      "          26401412     101.000000\n",
      "Name: purchase, dtype: float64\n",
      "category  product_id\n",
      "kids      22300003     705.000000\n",
      "          1500258      381.000000\n",
      "          48400005     274.000000\n",
      "          1500440      242.000000\n",
      "          26500133     239.000000\n",
      "          26500139     235.000000\n",
      "          7004492      231.000000\n",
      "          9002789      228.000000\n",
      "          10501366     210.000000\n",
      "Name: purchase, dtype: float64\n",
      "category      product_id\n",
      "country_yard  21700002     207.000000\n",
      "              21700003     137.000000\n",
      "              26800031     131.000000\n",
      "              40500104     116.000000\n",
      "              21700001      74.000000\n",
      "              40500183      51.000000\n",
      "              26800030      47.000000\n",
      "              40500173      42.000000\n",
      "              21700004      26.000000\n",
      "Name: purchase, dtype: float64\n",
      "category    product_id\n",
      "stationery  100048173    111.000000\n",
      "            16600295      28.000000\n",
      "            16600281      16.000000\n",
      "            100010207     12.000000\n",
      "            4100312       10.000000\n",
      "            12901426       9.000000\n",
      "            16600214       9.000000\n",
      "            16600223       8.000000\n",
      "            12900360       8.000000\n",
      "Name: purchase, dtype: float64\n",
      "category  product_id\n",
      "medicine  29501031     39.000000\n",
      "          29501042     30.000000\n",
      "          29501041     17.000000\n",
      "          29502182     12.000000\n",
      "          29501859      9.000000\n",
      "          100007849     8.000000\n",
      "          29501929      7.000000\n",
      "          29502094      6.000000\n",
      "          29501795      4.000000\n",
      "Name: purchase, dtype: float64\n"
     ]
    }
   ],
   "source": [
    "#Delete nan in order to avoid error\n",
    "bf = df['category'].unique()\n",
    "for i in bf:\n",
    "    try:\n",
    "        #make pivot table for each category, and sort values in descending order\n",
    "        table4 = pd.pivot_table(df[df['category']==i], values='event_time', index=['category','product_id'],\n",
    "                        columns=['event_type'], aggfunc=len)\n",
    "        print(table4['purchase'].dropna().sort_values(ascending =False)[:9])\n",
    "    except:\n",
    "        print('No purchases in {}'.format(i))"
   ]
  },
  {
   "cell_type": "markdown",
   "metadata": {},
   "source": [
    "## [RQ4] How much does each brand earn per month? "
   ]
  },
  {
   "cell_type": "code",
   "execution_count": 26,
   "metadata": {},
   "outputs": [
    {
     "data": {
      "text/html": [
       "<div>\n",
       "<style scoped>\n",
       "    .dataframe tbody tr th:only-of-type {\n",
       "        vertical-align: middle;\n",
       "    }\n",
       "\n",
       "    .dataframe tbody tr th {\n",
       "        vertical-align: top;\n",
       "    }\n",
       "\n",
       "    .dataframe thead th {\n",
       "        text-align: right;\n",
       "    }\n",
       "</style>\n",
       "<table border=\"1\" class=\"dataframe\">\n",
       "  <thead>\n",
       "    <tr style=\"text-align: right;\">\n",
       "      <th>event_type</th>\n",
       "      <th>cart</th>\n",
       "      <th>purchase</th>\n",
       "      <th>view</th>\n",
       "    </tr>\n",
       "    <tr>\n",
       "      <th>brand</th>\n",
       "      <th></th>\n",
       "      <th></th>\n",
       "      <th></th>\n",
       "    </tr>\n",
       "  </thead>\n",
       "  <tbody>\n",
       "    <tr>\n",
       "      <th>a-case</th>\n",
       "      <td>5252.050000</td>\n",
       "      <td>1039.720000</td>\n",
       "      <td>268144.730000</td>\n",
       "    </tr>\n",
       "    <tr>\n",
       "      <th>a-derma</th>\n",
       "      <td>468.940000</td>\n",
       "      <td>95.450000</td>\n",
       "      <td>8026.190000</td>\n",
       "    </tr>\n",
       "    <tr>\n",
       "      <th>a-elita</th>\n",
       "      <td>271.550000</td>\n",
       "      <td>112.740000</td>\n",
       "      <td>22214.410000</td>\n",
       "    </tr>\n",
       "    <tr>\n",
       "      <th>a-mega</th>\n",
       "      <td>360.570000</td>\n",
       "      <td>133.850000</td>\n",
       "      <td>13270.350000</td>\n",
       "    </tr>\n",
       "    <tr>\n",
       "      <th>aardwolf</th>\n",
       "      <td>895.130000</td>\n",
       "      <td>278.590000</td>\n",
       "      <td>26968.840000</td>\n",
       "    </tr>\n",
       "    <tr>\n",
       "      <th>...</th>\n",
       "      <td>...</td>\n",
       "      <td>...</td>\n",
       "      <td>...</td>\n",
       "    </tr>\n",
       "    <tr>\n",
       "      <th>zwerg</th>\n",
       "      <td>nan</td>\n",
       "      <td>nan</td>\n",
       "      <td>861.090000</td>\n",
       "    </tr>\n",
       "    <tr>\n",
       "      <th>zwilling</th>\n",
       "      <td>246.360000</td>\n",
       "      <td>nan</td>\n",
       "      <td>91850.580000</td>\n",
       "    </tr>\n",
       "    <tr>\n",
       "      <th>zwillingjahenckels</th>\n",
       "      <td>3793.560000</td>\n",
       "      <td>nan</td>\n",
       "      <td>884861.330000</td>\n",
       "    </tr>\n",
       "    <tr>\n",
       "      <th>zx</th>\n",
       "      <td>nan</td>\n",
       "      <td>nan</td>\n",
       "      <td>3418.540000</td>\n",
       "    </tr>\n",
       "    <tr>\n",
       "      <th>zyxel</th>\n",
       "      <td>361.550000</td>\n",
       "      <td>38.530000</td>\n",
       "      <td>168785.730000</td>\n",
       "    </tr>\n",
       "  </tbody>\n",
       "</table>\n",
       "<p>4637 rows × 3 columns</p>\n",
       "</div>"
      ],
      "text/plain": [
       "event_type                cart    purchase          view\n",
       "brand                                                   \n",
       "a-case             5252.050000 1039.720000 268144.730000\n",
       "a-derma             468.940000   95.450000   8026.190000\n",
       "a-elita             271.550000  112.740000  22214.410000\n",
       "a-mega              360.570000  133.850000  13270.350000\n",
       "aardwolf            895.130000  278.590000  26968.840000\n",
       "...                        ...         ...           ...\n",
       "zwerg                      nan         nan    861.090000\n",
       "zwilling            246.360000         nan  91850.580000\n",
       "zwillingjahenckels 3793.560000         nan 884861.330000\n",
       "zx                         nan         nan   3418.540000\n",
       "zyxel               361.550000   38.530000 168785.730000\n",
       "\n",
       "[4637 rows x 3 columns]"
      ]
     },
     "execution_count": 26,
     "metadata": {},
     "output_type": "execute_result"
    }
   ],
   "source": [
    "#made a pivot table to sum the selling price per each brand\n",
    "brand_sum = pd.pivot_table(df, values='price', index=['brand'],\n",
    "                    columns=['event_type'], aggfunc=sum)\n",
    "brand_sum"
   ]
  },
  {
   "cell_type": "code",
   "execution_count": 27,
   "metadata": {},
   "outputs": [
    {
     "data": {
      "text/plain": [
       "brand\n",
       "apple                157396674.900029\n",
       "samsung               71858811.049990\n",
       "xiaomi                16580776.320002\n",
       "huawei                 7636198.870001\n",
       "lg                     6754885.630000\n",
       "                           ...       \n",
       "zoops                             nan\n",
       "zwerg                             nan\n",
       "zwilling                          nan\n",
       "zwillingjahenckels                nan\n",
       "zx                                nan\n",
       "Name: purchase, Length: 4637, dtype: float64"
      ]
     },
     "execution_count": 27,
     "metadata": {},
     "output_type": "execute_result"
    }
   ],
   "source": [
    "#How much does each brand earn per month?\n",
    "brand_revenue = brand_sum['purchase'].sort_values(ascending=False)\n",
    "brand_revenue"
   ]
  },
  {
   "cell_type": "markdown",
   "metadata": {},
   "source": [
    "### Write a function that given the name of a brand in input returns, for each month, its profit."
   ]
  },
  {
   "cell_type": "code",
   "execution_count": 28,
   "metadata": {},
   "outputs": [],
   "source": [
    "# Function that given the name of a brand in input returns, for each month, its profit. \n",
    "def profit_of_brand(brand_name,month):\n",
    "    return month['purchase'][brand_name]\n",
    "\n",
    "def profit_of_brand_for_each_month(brand_name,list_of_months):\n",
    "    return [i['purchase'][brand_name] for i  in list_of_months]"
   ]
  },
  {
   "cell_type": "markdown",
   "metadata": {},
   "source": [
    "### Is the average price of products of different brands significantly different? "
   ]
  },
  {
   "cell_type": "code",
   "execution_count": 29,
   "metadata": {
    "scrolled": true
   },
   "outputs": [
    {
     "data": {
      "text/html": [
       "<div>\n",
       "<style scoped>\n",
       "    .dataframe tbody tr th:only-of-type {\n",
       "        vertical-align: middle;\n",
       "    }\n",
       "\n",
       "    .dataframe tbody tr th {\n",
       "        vertical-align: top;\n",
       "    }\n",
       "\n",
       "    .dataframe thead th {\n",
       "        text-align: right;\n",
       "    }\n",
       "</style>\n",
       "<table border=\"1\" class=\"dataframe\">\n",
       "  <thead>\n",
       "    <tr style=\"text-align: right;\">\n",
       "      <th></th>\n",
       "      <th>event_type</th>\n",
       "      <th>cart</th>\n",
       "      <th>purchase</th>\n",
       "      <th>view</th>\n",
       "    </tr>\n",
       "    <tr>\n",
       "      <th>subcategory</th>\n",
       "      <th>brand</th>\n",
       "      <th></th>\n",
       "      <th></th>\n",
       "      <th></th>\n",
       "    </tr>\n",
       "  </thead>\n",
       "  <tbody>\n",
       "    <tr>\n",
       "      <th rowspan=\"25\" valign=\"top\">accessories.alarm</th>\n",
       "      <th>absolutechampion</th>\n",
       "      <td>44.121200</td>\n",
       "      <td>44.018000</td>\n",
       "      <td>44.337394</td>\n",
       "    </tr>\n",
       "    <tr>\n",
       "      <th>appollo</th>\n",
       "      <td>54.060000</td>\n",
       "      <td>nan</td>\n",
       "      <td>54.793082</td>\n",
       "    </tr>\n",
       "    <tr>\n",
       "      <th>asrock</th>\n",
       "      <td>130.497778</td>\n",
       "      <td>128.980000</td>\n",
       "      <td>132.661073</td>\n",
       "    </tr>\n",
       "    <tr>\n",
       "      <th>asus</th>\n",
       "      <td>181.620000</td>\n",
       "      <td>181.620000</td>\n",
       "      <td>181.841613</td>\n",
       "    </tr>\n",
       "    <tr>\n",
       "      <th>autoline</th>\n",
       "      <td>354.710000</td>\n",
       "      <td>354.710000</td>\n",
       "      <td>346.740990</td>\n",
       "    </tr>\n",
       "    <tr>\n",
       "      <th>body-solid</th>\n",
       "      <td>341.320000</td>\n",
       "      <td>nan</td>\n",
       "      <td>341.320000</td>\n",
       "    </tr>\n",
       "    <tr>\n",
       "      <th>centurion</th>\n",
       "      <td>25.480000</td>\n",
       "      <td>25.480000</td>\n",
       "      <td>25.480000</td>\n",
       "    </tr>\n",
       "    <tr>\n",
       "      <th>dds</th>\n",
       "      <td>250.591852</td>\n",
       "      <td>250.537879</td>\n",
       "      <td>250.717277</td>\n",
       "    </tr>\n",
       "    <tr>\n",
       "      <th>dsk</th>\n",
       "      <td>72.190000</td>\n",
       "      <td>nan</td>\n",
       "      <td>72.201294</td>\n",
       "    </tr>\n",
       "    <tr>\n",
       "      <th>kenwood</th>\n",
       "      <td>113.260000</td>\n",
       "      <td>nan</td>\n",
       "      <td>113.260000</td>\n",
       "    </tr>\n",
       "    <tr>\n",
       "      <th>kgb</th>\n",
       "      <td>84.940000</td>\n",
       "      <td>84.940000</td>\n",
       "      <td>84.940000</td>\n",
       "    </tr>\n",
       "    <tr>\n",
       "      <th>mydean</th>\n",
       "      <td>175.034000</td>\n",
       "      <td>244.535000</td>\n",
       "      <td>202.013291</td>\n",
       "    </tr>\n",
       "    <tr>\n",
       "      <th>pandora</th>\n",
       "      <td>176.556842</td>\n",
       "      <td>181.310909</td>\n",
       "      <td>156.565114</td>\n",
       "    </tr>\n",
       "    <tr>\n",
       "      <th>pioneer</th>\n",
       "      <td>64.350000</td>\n",
       "      <td>64.350000</td>\n",
       "      <td>64.350000</td>\n",
       "    </tr>\n",
       "    <tr>\n",
       "      <th>romana</th>\n",
       "      <td>49.780000</td>\n",
       "      <td>nan</td>\n",
       "      <td>49.780000</td>\n",
       "    </tr>\n",
       "    <tr>\n",
       "      <th>scher-khan</th>\n",
       "      <td>83.225000</td>\n",
       "      <td>nan</td>\n",
       "      <td>78.108797</td>\n",
       "    </tr>\n",
       "    <tr>\n",
       "      <th>silapro</th>\n",
       "      <td>15.960000</td>\n",
       "      <td>15.960000</td>\n",
       "      <td>15.960000</td>\n",
       "    </tr>\n",
       "    <tr>\n",
       "      <th>sparta</th>\n",
       "      <td>29.320000</td>\n",
       "      <td>29.320000</td>\n",
       "      <td>29.320000</td>\n",
       "    </tr>\n",
       "    <tr>\n",
       "      <th>spektrsport</th>\n",
       "      <td>nan</td>\n",
       "      <td>nan</td>\n",
       "      <td>39.380000</td>\n",
       "    </tr>\n",
       "    <tr>\n",
       "      <th>starline</th>\n",
       "      <td>167.704063</td>\n",
       "      <td>172.615833</td>\n",
       "      <td>150.565368</td>\n",
       "    </tr>\n",
       "    <tr>\n",
       "      <th>tec</th>\n",
       "      <td>nan</td>\n",
       "      <td>nan</td>\n",
       "      <td>352.650000</td>\n",
       "    </tr>\n",
       "    <tr>\n",
       "      <th>tomahawk</th>\n",
       "      <td>94.953889</td>\n",
       "      <td>94.210000</td>\n",
       "      <td>94.344348</td>\n",
       "    </tr>\n",
       "    <tr>\n",
       "      <th>torneo</th>\n",
       "      <td>22.650000</td>\n",
       "      <td>nan</td>\n",
       "      <td>22.650000</td>\n",
       "    </tr>\n",
       "    <tr>\n",
       "      <th>tuka</th>\n",
       "      <td>16.730000</td>\n",
       "      <td>16.730000</td>\n",
       "      <td>16.730000</td>\n",
       "    </tr>\n",
       "    <tr>\n",
       "      <th>uralsport</th>\n",
       "      <td>47.620000</td>\n",
       "      <td>47.620000</td>\n",
       "      <td>47.620000</td>\n",
       "    </tr>\n",
       "    <tr>\n",
       "      <th rowspan=\"25\" valign=\"top\">accessories.anti_freeze</th>\n",
       "      <th>adel</th>\n",
       "      <td>27.062000</td>\n",
       "      <td>nan</td>\n",
       "      <td>28.253782</td>\n",
       "    </tr>\n",
       "    <tr>\n",
       "      <th>alexrojo</th>\n",
       "      <td>nan</td>\n",
       "      <td>nan</td>\n",
       "      <td>38.610000</td>\n",
       "    </tr>\n",
       "    <tr>\n",
       "      <th>alvitek</th>\n",
       "      <td>19.626250</td>\n",
       "      <td>18.095333</td>\n",
       "      <td>19.165357</td>\n",
       "    </tr>\n",
       "    <tr>\n",
       "      <th>barokko</th>\n",
       "      <td>11.963235</td>\n",
       "      <td>11.842500</td>\n",
       "      <td>11.871785</td>\n",
       "    </tr>\n",
       "    <tr>\n",
       "      <th>bartek</th>\n",
       "      <td>60.490000</td>\n",
       "      <td>60.490000</td>\n",
       "      <td>60.490000</td>\n",
       "    </tr>\n",
       "    <tr>\n",
       "      <th>belezza</th>\n",
       "      <td>nan</td>\n",
       "      <td>nan</td>\n",
       "      <td>19.168400</td>\n",
       "    </tr>\n",
       "    <tr>\n",
       "      <th>biomecanics</th>\n",
       "      <td>35.780000</td>\n",
       "      <td>nan</td>\n",
       "      <td>35.474667</td>\n",
       "    </tr>\n",
       "    <tr>\n",
       "      <th>boarteks</th>\n",
       "      <td>28.920000</td>\n",
       "      <td>nan</td>\n",
       "      <td>28.339630</td>\n",
       "    </tr>\n",
       "    <tr>\n",
       "      <th>bugaboo</th>\n",
       "      <td>nan</td>\n",
       "      <td>nan</td>\n",
       "      <td>141.550000</td>\n",
       "    </tr>\n",
       "    <tr>\n",
       "      <th>butterfly</th>\n",
       "      <td>nan</td>\n",
       "      <td>nan</td>\n",
       "      <td>27.844667</td>\n",
       "    </tr>\n",
       "    <tr>\n",
       "      <th>casaconforte</th>\n",
       "      <td>nan</td>\n",
       "      <td>nan</td>\n",
       "      <td>17.778974</td>\n",
       "    </tr>\n",
       "    <tr>\n",
       "      <th>ekonomia</th>\n",
       "      <td>nan</td>\n",
       "      <td>nan</td>\n",
       "      <td>18.440000</td>\n",
       "    </tr>\n",
       "    <tr>\n",
       "      <th>elegant</th>\n",
       "      <td>20.956667</td>\n",
       "      <td>18.210000</td>\n",
       "      <td>16.895138</td>\n",
       "    </tr>\n",
       "    <tr>\n",
       "      <th>garvalin</th>\n",
       "      <td>40.755000</td>\n",
       "      <td>38.870000</td>\n",
       "      <td>38.536843</td>\n",
       "    </tr>\n",
       "    <tr>\n",
       "      <th>intex</th>\n",
       "      <td>nan</td>\n",
       "      <td>nan</td>\n",
       "      <td>34.750000</td>\n",
       "    </tr>\n",
       "    <tr>\n",
       "      <th>kroskaa</th>\n",
       "      <td>nan</td>\n",
       "      <td>nan</td>\n",
       "      <td>22.847308</td>\n",
       "    </tr>\n",
       "    <tr>\n",
       "      <th>lealelo</th>\n",
       "      <td>nan</td>\n",
       "      <td>nan</td>\n",
       "      <td>52.770000</td>\n",
       "    </tr>\n",
       "    <tr>\n",
       "      <th>merry</th>\n",
       "      <td>30.120000</td>\n",
       "      <td>30.120000</td>\n",
       "      <td>26.351071</td>\n",
       "    </tr>\n",
       "    <tr>\n",
       "      <th>minimen</th>\n",
       "      <td>nan</td>\n",
       "      <td>nan</td>\n",
       "      <td>43.009667</td>\n",
       "    </tr>\n",
       "    <tr>\n",
       "      <th>neposeda</th>\n",
       "      <td>25.230000</td>\n",
       "      <td>25.230000</td>\n",
       "      <td>25.231342</td>\n",
       "    </tr>\n",
       "    <tr>\n",
       "      <th>pablosky</th>\n",
       "      <td>58.690000</td>\n",
       "      <td>nan</td>\n",
       "      <td>46.578626</td>\n",
       "    </tr>\n",
       "    <tr>\n",
       "      <th>perina</th>\n",
       "      <td>nan</td>\n",
       "      <td>nan</td>\n",
       "      <td>16.610000</td>\n",
       "    </tr>\n",
       "    <tr>\n",
       "      <th>sherlock</th>\n",
       "      <td>20.540000</td>\n",
       "      <td>20.350000</td>\n",
       "      <td>20.247627</td>\n",
       "    </tr>\n",
       "    <tr>\n",
       "      <th>stolicatekstila</th>\n",
       "      <td>32.861333</td>\n",
       "      <td>30.910000</td>\n",
       "      <td>31.049762</td>\n",
       "    </tr>\n",
       "    <tr>\n",
       "      <th>tekstilnaalavka</th>\n",
       "      <td>nan</td>\n",
       "      <td>nan</td>\n",
       "      <td>21.270000</td>\n",
       "    </tr>\n",
       "  </tbody>\n",
       "</table>\n",
       "</div>"
      ],
      "text/plain": [
       "event_type                                     cart   purchase       view\n",
       "subcategory             brand                                            \n",
       "accessories.alarm       absolutechampion  44.121200  44.018000  44.337394\n",
       "                        appollo           54.060000        nan  54.793082\n",
       "                        asrock           130.497778 128.980000 132.661073\n",
       "                        asus             181.620000 181.620000 181.841613\n",
       "                        autoline         354.710000 354.710000 346.740990\n",
       "                        body-solid       341.320000        nan 341.320000\n",
       "                        centurion         25.480000  25.480000  25.480000\n",
       "                        dds              250.591852 250.537879 250.717277\n",
       "                        dsk               72.190000        nan  72.201294\n",
       "                        kenwood          113.260000        nan 113.260000\n",
       "                        kgb               84.940000  84.940000  84.940000\n",
       "                        mydean           175.034000 244.535000 202.013291\n",
       "                        pandora          176.556842 181.310909 156.565114\n",
       "                        pioneer           64.350000  64.350000  64.350000\n",
       "                        romana            49.780000        nan  49.780000\n",
       "                        scher-khan        83.225000        nan  78.108797\n",
       "                        silapro           15.960000  15.960000  15.960000\n",
       "                        sparta            29.320000  29.320000  29.320000\n",
       "                        spektrsport             nan        nan  39.380000\n",
       "                        starline         167.704063 172.615833 150.565368\n",
       "                        tec                     nan        nan 352.650000\n",
       "                        tomahawk          94.953889  94.210000  94.344348\n",
       "                        torneo            22.650000        nan  22.650000\n",
       "                        tuka              16.730000  16.730000  16.730000\n",
       "                        uralsport         47.620000  47.620000  47.620000\n",
       "accessories.anti_freeze adel              27.062000        nan  28.253782\n",
       "                        alexrojo                nan        nan  38.610000\n",
       "                        alvitek           19.626250  18.095333  19.165357\n",
       "                        barokko           11.963235  11.842500  11.871785\n",
       "                        bartek            60.490000  60.490000  60.490000\n",
       "                        belezza                 nan        nan  19.168400\n",
       "                        biomecanics       35.780000        nan  35.474667\n",
       "                        boarteks          28.920000        nan  28.339630\n",
       "                        bugaboo                 nan        nan 141.550000\n",
       "                        butterfly               nan        nan  27.844667\n",
       "                        casaconforte            nan        nan  17.778974\n",
       "                        ekonomia                nan        nan  18.440000\n",
       "                        elegant           20.956667  18.210000  16.895138\n",
       "                        garvalin          40.755000  38.870000  38.536843\n",
       "                        intex                   nan        nan  34.750000\n",
       "                        kroskaa                 nan        nan  22.847308\n",
       "                        lealelo                 nan        nan  52.770000\n",
       "                        merry             30.120000  30.120000  26.351071\n",
       "                        minimen                 nan        nan  43.009667\n",
       "                        neposeda          25.230000  25.230000  25.231342\n",
       "                        pablosky          58.690000        nan  46.578626\n",
       "                        perina                  nan        nan  16.610000\n",
       "                        sherlock          20.540000  20.350000  20.247627\n",
       "                        stolicatekstila   32.861333  30.910000  31.049762\n",
       "                        tekstilnaalavka         nan        nan  21.270000"
      ]
     },
     "execution_count": 29,
     "metadata": {},
     "output_type": "execute_result"
    }
   ],
   "source": [
    "#Is the average price of products of different brands significantly different? \n",
    "\n",
    "table3 = pd.pivot_table(df, values='price', index=['subcategory','brand'],\n",
    "\n",
    "                    columns=['event_type'], aggfunc='mean')\n",
    "table3[:50]\n"
   ]
  },
  {
   "cell_type": "markdown",
   "metadata": {},
   "source": [
    "##  [RQ7] The Pareto principle states that for many outcomes roughly 80% of consequences come from 20% of the causes. Also known as 80/20 rule, in e-commerce simply means that most of your business, around 80%, likely comes from about 20% of your customers.\n",
    "\n",
    "    Prove that the pareto principle applies to your store.\n"
   ]
  },
  {
   "cell_type": "code",
   "execution_count": 30,
   "metadata": {},
   "outputs": [
    {
     "data": {
      "text/plain": [
       "user_id\n",
       "553431815   412666.920000\n",
       "569333570   280578.410000\n",
       "513901034   252290.040000\n",
       "568782581   223156.520000\n",
       "549109608   173208.450000\n",
       "                 ...     \n",
       "568192019        0.860000\n",
       "514423158        0.860000\n",
       "523315414        0.850000\n",
       "560501168        0.830000\n",
       "571120707        0.770000\n",
       "Name: price, Length: 500997, dtype: float64"
      ]
     },
     "execution_count": 30,
     "metadata": {},
     "output_type": "execute_result"
    }
   ],
   "source": [
    "group_purchase_by_user=df[df['event_type']=='purchase'].groupby(['user_id'])['price'].sum()\n",
    "sorted_group_purchase_by_user = group_purchase_by_user.dropna().sort_values(ascending=False)\n",
    "sorted_group_purchase_by_user\n",
    "#Group by user and sort all purchases by descending order"
   ]
  },
  {
   "cell_type": "code",
   "execution_count": 31,
   "metadata": {},
   "outputs": [
    {
     "data": {
      "text/plain": [
       "344176829.14"
      ]
     },
     "execution_count": 31,
     "metadata": {},
     "output_type": "execute_result"
    }
   ],
   "source": [
    "group_purchase_by_product=df[df['event_type']=='purchase']['price'].sum()\n",
    "group_purchase_by_product\n",
    "#get all the revenue that was made in this month"
   ]
  },
  {
   "cell_type": "code",
   "execution_count": 32,
   "metadata": {},
   "outputs": [
    {
     "name": "stdout",
     "output_type": "stream",
     "text": [
      "Percent of money 20 % of customers gave out of total 344176829.14: 71.76245784388279%\n"
     ]
    },
    {
     "data": {
      "image/png": "[encoded data removed]",
      "text/plain": [
       "<Figure size 1152x648 with 1 Axes>"
      ]
     },
     "metadata": {
      "needs_background": "light"
     },
     "output_type": "display_data"
    }
   ],
   "source": [
    "plt.figure(figsize =(16, 9)) \n",
    "amount_of_20percent_customers = len(sorted_group_purchase_by_user) * 0.2\n",
    "#Count % of money that 20% of top customers gave\n",
    "index_user = [str(i) for i in sorted_group_purchase_by_user.index]\n",
    "plt.bar(index_user[:20],sorted_group_purchase_by_user[:20])\n",
    "print('Percent of money 20 % of customers gave out of total {}: {}%'.format(group_purchase_by_product,sum(sorted_group_purchase_by_user[:int(amount_of_20percent_customers)]) /(group_purchase_by_product/100) ))"
   ]
  }
 ],
 "metadata": {
  "kernelspec": {
   "display_name": "Python 3",
   "language": "python",
   "name": "python3"
  },
  "language_info": {
   "codemirror_mode": {
    "name": "ipython",
    "version": 3
   },
   "file_extension": ".py",
   "mimetype": "text/x-python",
   "name": "python",
   "nbconvert_exporter": "python",
   "pygments_lexer": "ipython3",
   "version": "3.6.9"
  }
 },
 "nbformat": 4,
 "nbformat_minor": 2
}
