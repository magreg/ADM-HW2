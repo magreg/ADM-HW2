{
 "cells": [
  {
   "cell_type": "markdown",
   "metadata": {},
   "source": [
    "# ADM HW 2. Questions 1,2,4,7"
   ]
  },
  {
   "cell_type": "code",
   "execution_count": 1,
   "metadata": {},
   "outputs": [
    {
     "data": {
      "text/html": [
       "<div>\n",
       "<style scoped>\n",
       "    .dataframe tbody tr th:only-of-type {\n",
       "        vertical-align: middle;\n",
       "    }\n",
       "\n",
       "    .dataframe tbody tr th {\n",
       "        vertical-align: top;\n",
       "    }\n",
       "\n",
       "    .dataframe thead th {\n",
       "        text-align: right;\n",
       "    }\n",
       "</style>\n",
       "<table border=\"1\" class=\"dataframe\">\n",
       "  <thead>\n",
       "    <tr style=\"text-align: right;\">\n",
       "      <th></th>\n",
       "      <th>event_time</th>\n",
       "      <th>event_type</th>\n",
       "      <th>product_id</th>\n",
       "      <th>category_id</th>\n",
       "      <th>category_code</th>\n",
       "      <th>brand</th>\n",
       "      <th>price</th>\n",
       "      <th>user_id</th>\n",
       "      <th>user_session</th>\n",
       "    </tr>\n",
       "  </thead>\n",
       "  <tbody>\n",
       "    <tr>\n",
       "      <th>0</th>\n",
       "      <td>2020-03-01 00:00:00 UTC</td>\n",
       "      <td>view</td>\n",
       "      <td>10900348</td>\n",
       "      <td>2232732105912091273</td>\n",
       "      <td>appliances.kitchen.mixer</td>\n",
       "      <td>kitfort</td>\n",
       "      <td>117.63</td>\n",
       "      <td>550295099</td>\n",
       "      <td>23f5ab9e-7774-416d-900b-f2725da671aa</td>\n",
       "    </tr>\n",
       "    <tr>\n",
       "      <th>1</th>\n",
       "      <td>2020-03-01 00:00:01 UTC</td>\n",
       "      <td>view</td>\n",
       "      <td>14300020</td>\n",
       "      <td>2232732107967300275</td>\n",
       "      <td>apparel.underwear</td>\n",
       "      <td>casio</td>\n",
       "      <td>264.37</td>\n",
       "      <td>622070532</td>\n",
       "      <td>edf19213-f0dd-46e1-ae18-28968dbddd6e</td>\n",
       "    </tr>\n",
       "    <tr>\n",
       "      <th>2</th>\n",
       "      <td>2020-03-01 00:00:03 UTC</td>\n",
       "      <td>view</td>\n",
       "      <td>13200063</td>\n",
       "      <td>2232732061804790604</td>\n",
       "      <td>furniture.bedroom.bed</td>\n",
       "      <td>NaN</td>\n",
       "      <td>126.10</td>\n",
       "      <td>552832344</td>\n",
       "      <td>608087d8-6b69-21db-50a3-2b91ba015532</td>\n",
       "    </tr>\n",
       "    <tr>\n",
       "      <th>3</th>\n",
       "      <td>2020-03-01 00:00:03 UTC</td>\n",
       "      <td>view</td>\n",
       "      <td>100077498</td>\n",
       "      <td>2232732085846540487</td>\n",
       "      <td>construction.tools.generator</td>\n",
       "      <td>tamina</td>\n",
       "      <td>424.72</td>\n",
       "      <td>613391860</td>\n",
       "      <td>5ab6c3d5-edd7-4e15-8b0a-75b467a37fd0</td>\n",
       "    </tr>\n",
       "    <tr>\n",
       "      <th>4</th>\n",
       "      <td>2020-03-01 00:00:04 UTC</td>\n",
       "      <td>view</td>\n",
       "      <td>1005014</td>\n",
       "      <td>2232732093077520756</td>\n",
       "      <td>construction.tools.light</td>\n",
       "      <td>samsung</td>\n",
       "      <td>482.73</td>\n",
       "      <td>517021211</td>\n",
       "      <td>0c34308d-c455-40bb-9992-3e44920bc2b9</td>\n",
       "    </tr>\n",
       "  </tbody>\n",
       "</table>\n",
       "</div>"
      ],
      "text/plain": [
       "                event_time event_type  product_id          category_id  \\\n",
       "0  2020-03-01 00:00:00 UTC       view    10900348  2232732105912091273   \n",
       "1  2020-03-01 00:00:01 UTC       view    14300020  2232732107967300275   \n",
       "2  2020-03-01 00:00:03 UTC       view    13200063  2232732061804790604   \n",
       "3  2020-03-01 00:00:03 UTC       view   100077498  2232732085846540487   \n",
       "4  2020-03-01 00:00:04 UTC       view     1005014  2232732093077520756   \n",
       "\n",
       "                  category_code    brand   price    user_id  \\\n",
       "0      appliances.kitchen.mixer  kitfort  117.63  550295099   \n",
       "1             apparel.underwear    casio  264.37  622070532   \n",
       "2         furniture.bedroom.bed      NaN  126.10  552832344   \n",
       "3  construction.tools.generator   tamina  424.72  613391860   \n",
       "4      construction.tools.light  samsung  482.73  517021211   \n",
       "\n",
       "                           user_session  \n",
       "0  23f5ab9e-7774-416d-900b-f2725da671aa  \n",
       "1  edf19213-f0dd-46e1-ae18-28968dbddd6e  \n",
       "2  608087d8-6b69-21db-50a3-2b91ba015532  \n",
       "3  5ab6c3d5-edd7-4e15-8b0a-75b467a37fd0  \n",
       "4  0c34308d-c455-40bb-9992-3e44920bc2b9  "
      ]
     },
     "execution_count": 1,
     "metadata": {},
     "output_type": "execute_result"
    }
   ],
   "source": [
    "#Loading datasets\n",
    "import pandas as pd\n",
    "import numpy as np\n",
    "import matplotlib.pyplot as plt\n",
    "df=pd.read_csv('/home/dias/Desktop/HW/2020-Mar.csv')\n",
    "name ='March'\n",
    "df.head()"
   ]
  },
  {
   "cell_type": "code",
   "execution_count": 2,
   "metadata": {},
   "outputs": [],
   "source": [
    "#Setting numbers to show in float \n",
    "pd.set_option('float_format', '{:f}'.format)"
   ]
  },
  {
   "cell_type": "code",
   "execution_count": 3,
   "metadata": {},
   "outputs": [
    {
     "name": "stdout",
     "output_type": "stream",
     "text": [
      "<class 'pandas.core.frame.DataFrame'>\n",
      "RangeIndex: 56341241 entries, 0 to 56341240\n",
      "Data columns (total 9 columns):\n",
      " #   Column         Dtype  \n",
      "---  ------         -----  \n",
      " 0   event_time     object \n",
      " 1   event_type     object \n",
      " 2   product_id     int64  \n",
      " 3   category_id    int64  \n",
      " 4   category_code  object \n",
      " 5   brand          object \n",
      " 6   price          float64\n",
      " 7   user_id        int64  \n",
      " 8   user_session   object \n",
      "dtypes: float64(1), int64(3), object(5)\n",
      "memory usage: 3.8+ GB\n"
     ]
    }
   ],
   "source": [
    "#Getting information about dataset\n",
    "df.info()"
   ]
  },
  {
   "cell_type": "code",
   "execution_count": 4,
   "metadata": {},
   "outputs": [
    {
     "data": {
      "text/html": [
       "<div>\n",
       "<style scoped>\n",
       "    .dataframe tbody tr th:only-of-type {\n",
       "        vertical-align: middle;\n",
       "    }\n",
       "\n",
       "    .dataframe tbody tr th {\n",
       "        vertical-align: top;\n",
       "    }\n",
       "\n",
       "    .dataframe thead th {\n",
       "        text-align: right;\n",
       "    }\n",
       "</style>\n",
       "<table border=\"1\" class=\"dataframe\">\n",
       "  <thead>\n",
       "    <tr style=\"text-align: right;\">\n",
       "      <th></th>\n",
       "      <th>product_id</th>\n",
       "      <th>category_id</th>\n",
       "      <th>price</th>\n",
       "      <th>user_id</th>\n",
       "    </tr>\n",
       "  </thead>\n",
       "  <tbody>\n",
       "    <tr>\n",
       "      <th>count</th>\n",
       "      <td>56341241.000000</td>\n",
       "      <td>56341241.000000</td>\n",
       "      <td>56341241.000000</td>\n",
       "      <td>56341241.000000</td>\n",
       "    </tr>\n",
       "    <tr>\n",
       "      <th>mean</th>\n",
       "      <td>30878997.586006</td>\n",
       "      <td>2182505965089136896.000000</td>\n",
       "      <td>292.726110</td>\n",
       "      <td>569913893.060966</td>\n",
       "    </tr>\n",
       "    <tr>\n",
       "      <th>std</th>\n",
       "      <td>39480770.803740</td>\n",
       "      <td>80537835194082928.000000</td>\n",
       "      <td>363.079839</td>\n",
       "      <td>42695669.049472</td>\n",
       "    </tr>\n",
       "    <tr>\n",
       "      <th>min</th>\n",
       "      <td>1000978.000000</td>\n",
       "      <td>2053013551857008896.000000</td>\n",
       "      <td>0.000000</td>\n",
       "      <td>12511517.000000</td>\n",
       "    </tr>\n",
       "    <tr>\n",
       "      <th>25%</th>\n",
       "      <td>1801966.000000</td>\n",
       "      <td>2053013563550728960.000000</td>\n",
       "      <td>62.290000</td>\n",
       "      <td>525258746.000000</td>\n",
       "    </tr>\n",
       "    <tr>\n",
       "      <th>50%</th>\n",
       "      <td>11400268.000000</td>\n",
       "      <td>2232732093077520640.000000</td>\n",
       "      <td>168.130000</td>\n",
       "      <td>569570268.000000</td>\n",
       "    </tr>\n",
       "    <tr>\n",
       "      <th>75%</th>\n",
       "      <td>42200005.000000</td>\n",
       "      <td>2232732098228126208.000000</td>\n",
       "      <td>361.400000</td>\n",
       "      <td>612463287.000000</td>\n",
       "    </tr>\n",
       "    <tr>\n",
       "      <th>max</th>\n",
       "      <td>100184736.000000</td>\n",
       "      <td>2261590998150807808.000000</td>\n",
       "      <td>2574.070000</td>\n",
       "      <td>635166340.000000</td>\n",
       "    </tr>\n",
       "  </tbody>\n",
       "</table>\n",
       "</div>"
      ],
      "text/plain": [
       "            product_id                category_id           price  \\\n",
       "count  56341241.000000            56341241.000000 56341241.000000   \n",
       "mean   30878997.586006 2182505965089136896.000000      292.726110   \n",
       "std    39480770.803740   80537835194082928.000000      363.079839   \n",
       "min     1000978.000000 2053013551857008896.000000        0.000000   \n",
       "25%     1801966.000000 2053013563550728960.000000       62.290000   \n",
       "50%    11400268.000000 2232732093077520640.000000      168.130000   \n",
       "75%    42200005.000000 2232732098228126208.000000      361.400000   \n",
       "max   100184736.000000 2261590998150807808.000000     2574.070000   \n",
       "\n",
       "               user_id  \n",
       "count  56341241.000000  \n",
       "mean  569913893.060966  \n",
       "std    42695669.049472  \n",
       "min    12511517.000000  \n",
       "25%   525258746.000000  \n",
       "50%   569570268.000000  \n",
       "75%   612463287.000000  \n",
       "max   635166340.000000  "
      ]
     },
     "execution_count": 4,
     "metadata": {},
     "output_type": "execute_result"
    }
   ],
   "source": [
    "df.describe()"
   ]
  },
  {
   "cell_type": "code",
   "execution_count": 5,
   "metadata": {},
   "outputs": [
    {
     "data": {
      "text/plain": [
       "event_time        object\n",
       "event_type        object\n",
       "product_id         int64\n",
       "category_id        int64\n",
       "category_code     object\n",
       "brand             object\n",
       "price            float64\n",
       "user_id            int64\n",
       "user_session      object\n",
       "dtype: object"
      ]
     },
     "execution_count": 5,
     "metadata": {},
     "output_type": "execute_result"
    }
   ],
   "source": [
    "df.dtypes"
   ]
  },
  {
   "cell_type": "markdown",
   "metadata": {},
   "source": [
    "## [RQ1] A marketing funnel describes your customer’s journey with your e-commerce. It may involve different stages, beginning when someone learns about your business, when he/she visits your website for the first time, to the purchasing stage, marketing funnels map routes to conversion and beyond. Suppose your funnel involves just three simple steps: 1) view, 2) cart, 3) purchase. Which is the rate of complete funnels? "
   ]
  },
  {
   "cell_type": "code",
   "execution_count": 6,
   "metadata": {},
   "outputs": [
    {
     "data": {
      "text/plain": [
       "array(['view', 'purchase', 'cart'], dtype=object)"
      ]
     },
     "execution_count": 6,
     "metadata": {},
     "output_type": "execute_result"
    }
   ],
   "source": [
    "df.event_type.unique()"
   ]
  },
  {
   "cell_type": "code",
   "execution_count": 7,
   "metadata": {},
   "outputs": [
    {
     "name": "stdout",
     "output_type": "stream",
     "text": [
      "Rate of complete funnels in March = 0.034756532576700666\n"
     ]
    }
   ],
   "source": [
    "#Here I group all event_time values by product_id and user_id \n",
    "table1 = pd.pivot_table(df, values='event_time', index=['product_id','user_id'],\n",
    "                    columns=['event_type'], aggfunc=len)\n",
    "a=table1.dropna()\n",
    "complete_funnels = a.min(axis=1).sum()\n",
    "#I drop rows where at least one of them wasn't made, count sum and divide by total length\n",
    "print('Rate of complete funnels in {} = {}'.format(name,complete_funnels/len(table1)))"
   ]
  },
  {
   "cell_type": "markdown",
   "metadata": {},
   "source": [
    "### What’s the operation users repeat more on average within a session? Produce a plot that shows the average number of times users perform each operation (view/removefromchart etc etc)."
   ]
  },
  {
   "cell_type": "code",
   "execution_count": 8,
   "metadata": {
    "scrolled": true
   },
   "outputs": [
    {
     "data": {
      "text/plain": [
       "[4.150489686428316, 1.2070230891888518, 1.8114670663433126]"
      ]
     },
     "execution_count": 8,
     "metadata": {},
     "output_type": "execute_result"
    }
   ],
   "source": [
    "#Here I grouped by session and took all average numbers of events in event_type\n",
    "mean=[]\n",
    "for i in df.event_type.unique():\n",
    "    mean.append(df[df.event_type == i].groupby(['user_session']).event_type.count())\n",
    "for i in range(len(mean)):\n",
    "    mean[i]=mean[i].mean()\n",
    "mean"
   ]
  },
  {
   "cell_type": "code",
   "execution_count": 9,
   "metadata": {
    "scrolled": true
   },
   "outputs": [
    {
     "name": "stdout",
     "output_type": "stream",
     "text": [
      "The operation users repeat more on average within a session in March: \n"
     ]
    },
    {
     "data": {
      "image/png": "[encoded data removed]",
      "text/plain": [
       "<Figure size 432x288 with 1 Axes>"
      ]
     },
     "metadata": {
      "needs_background": "light"
     },
     "output_type": "display_data"
    }
   ],
   "source": [
    "#and then plot a bar, and took tha name of event with highest number\n",
    "plt.bar(df.event_type.unique(),mean);\n",
    "print('The operation users repeat more on average within a session in {}: '.format(name, df.event_type.unique()[0]))"
   ]
  },
  {
   "cell_type": "markdown",
   "metadata": {},
   "source": [
    "### How many times, on average, a user views a product before adding it to the cart?"
   ]
  },
  {
   "cell_type": "code",
   "execution_count": null,
   "metadata": {
    "scrolled": true
   },
   "outputs": [],
   "source": [
    "#I made a pivot table of the times of first events that users made\n",
    "table = pd.pivot_table(df, values='event_time', index=['product_id','user_id'],\n",
    "                    columns=['event_type'], aggfunc=min)\n",
    "table"
   ]
  },
  {
   "cell_type": "code",
   "execution_count": null,
   "metadata": {},
   "outputs": [],
   "source": [
    "#and then counted probability of user to view a product before buying\n",
    "answer = len(table[table['view']<table['cart']])/len(table)\n",
    "answer"
   ]
  },
  {
   "cell_type": "markdown",
   "metadata": {},
   "source": [
    "### What’s the probability that products added once to the cart are effectively bought?"
   ]
  },
  {
   "cell_type": "code",
   "execution_count": null,
   "metadata": {},
   "outputs": [],
   "source": [
    "# the same pivot from above, counting all rows with time of 'cart' before the 'purchase' and divide by total length\n",
    "answer = len(table[table['cart']<table['purchase']])/len(table['cart'].dropna())\n",
    "answer"
   ]
  },
  {
   "cell_type": "markdown",
   "metadata": {},
   "source": [
    "## [RQ2] What are the categories of the most trending products overall? For each month visualize this information through a plot showing the number of sold products per category. "
   ]
  },
  {
   "cell_type": "code",
   "execution_count": 10,
   "metadata": {},
   "outputs": [],
   "source": [
    "import seaborn as sns\n",
    "#split category_code into 'category' and 'subcategory' columns\n",
    "df[['category', 'subcategory']] = df['category_code'].str.split('.', 1, expand=True)\n",
    "#count number of purchases of products and sort in descending order\n",
    "group_purchase_by_cat=df[df['event_type']=='purchase'].groupby(['product_id','category']).count()"
   ]
  },
  {
   "cell_type": "code",
   "execution_count": 11,
   "metadata": {},
   "outputs": [
    {
     "data": {
      "text/plain": [
       "product_id  category    \n",
       "1005100     construction    24134\n",
       "1005115     construction    23996\n",
       "1004767     construction    19938\n",
       "1005212     construction    19567\n",
       "4804056     sport           19183\n",
       "1002544     construction    18778\n",
       "100068488   construction    18622\n",
       "1004856     construction    12922\n",
       "1005160     construction    12824\n",
       "1005105     construction     9713\n",
       "Name: user_id, dtype: int64"
      ]
     },
     "execution_count": 11,
     "metadata": {},
     "output_type": "execute_result"
    }
   ],
   "source": [
    "group_purchase_by_cat['user_id'].sort_values(ascending=False).head(10)\n",
    "#As you can see the category of most trending products is electronics"
   ]
  },
  {
   "cell_type": "code",
   "execution_count": 12,
   "metadata": {},
   "outputs": [
    {
     "name": "stderr",
     "output_type": "stream",
     "text": [
      "/home/dias/TTS/lib/python3.6/site-packages/seaborn/_decorators.py:43: FutureWarning: Pass the following variables as keyword args: x, y. From version 0.12, the only valid positional argument will be `data`, and passing other arguments without an explicit keyword will result in an error or misinterpretation.\n",
      "  FutureWarning\n"
     ]
    },
    {
     "data": {
      "text/plain": [
       "Text(0, 0.5, 'Number of purchases')"
      ]
     },
     "execution_count": 12,
     "metadata": {},
     "output_type": "execute_result"
    },
    {
     "data": {
      "image/png": "[encoded data removed]",
      "text/plain": [
       "<Figure size 1152x864 with 1 Axes>"
      ]
     },
     "metadata": {
      "needs_background": "light"
     },
     "output_type": "display_data"
    }
   ],
   "source": [
    "group_purchase_by_cat=df[df['event_type']=='purchase'].groupby(['category'])['price'].count()\n",
    "sorted_group_purchase_by_cat = group_purchase_by_cat.dropna().sort_values(ascending=False)\n",
    "plt.figure(figsize =(16, 12)) \n",
    "index_category = [str(i) for i in sorted_group_purchase_by_cat.index]\n",
    "ax= sns.barplot(index_category,sorted_group_purchase_by_cat)\n",
    "for p in ax.patches:\n",
    "    ax.annotate(format(p.get_height(),',.0f'), (p.get_x() , p.get_height()),)\n",
    "plt.title('Total number of purchases by category in {}'.format(name))\n",
    "plt.xlabel('Category')\n",
    "plt.ylabel('Number of purchases')"
   ]
  },
  {
   "cell_type": "markdown",
   "metadata": {},
   "source": [
    "### Plot the most visited subcategories."
   ]
  },
  {
   "cell_type": "code",
   "execution_count": 13,
   "metadata": {},
   "outputs": [
    {
     "name": "stderr",
     "output_type": "stream",
     "text": [
      "/home/dias/TTS/lib/python3.6/site-packages/seaborn/_decorators.py:43: FutureWarning: Pass the following variables as keyword args: x, y. From version 0.12, the only valid positional argument will be `data`, and passing other arguments without an explicit keyword will result in an error or misinterpretation.\n",
      "  FutureWarning\n"
     ]
    },
    {
     "data": {
      "text/plain": [
       "Text(0, 0.5, 'Number of views')"
      ]
     },
     "execution_count": 13,
     "metadata": {},
     "output_type": "execute_result"
    },
    {
     "data": {
      "image/png": "[encoded data removed]",
      "text/plain": [
       "<Figure size 1152x864 with 1 Axes>"
      ]
     },
     "metadata": {
      "needs_background": "light"
     },
     "output_type": "display_data"
    }
   ],
   "source": [
    "group_view_by_subcat=df[df['event_type']=='view'].groupby(['subcategory'])['price'].count()\n",
    "sorted_group_view_by_subcat = group_view_by_subcat.dropna().sort_values(ascending=False)\n",
    "plt.figure(figsize =(16, 12)) \n",
    "index_category = [str(i) for i in sorted_group_view_by_subcat.index]\n",
    "ax= sns.barplot(index_category[:10],sorted_group_view_by_subcat[:10])\n",
    "for p in ax.patches:\n",
    "    ax.annotate(format(p.get_height(),',.0f'), (p.get_x() , p.get_height()),)\n",
    "plt.title('10 most visited subcategories in {}'.format(name))\n",
    "plt.xlabel('Subcategory')\n",
    "plt.ylabel('Number of views')"
   ]
  },
  {
   "cell_type": "markdown",
   "metadata": {},
   "source": [
    "### What are the 10 most sold products per category?"
   ]
  },
  {
   "cell_type": "code",
   "execution_count": 14,
   "metadata": {},
   "outputs": [
    {
     "name": "stdout",
     "output_type": "stream",
     "text": [
      "category    product_id\n",
      "appliances  1801690      2579.000000\n",
      "            1801766      1926.000000\n",
      "            1801881      1651.000000\n",
      "            3700926      1598.000000\n",
      "            3600661      1233.000000\n",
      "            1801940      1153.000000\n",
      "            3601405      1139.000000\n",
      "            26300078     1041.000000\n",
      "            1801636       946.000000\n",
      "Name: purchase, dtype: float64\n",
      "category  product_id\n",
      "apparel   5100816      6435.000000\n",
      "          4100126      1451.000000\n",
      "          100058915    1378.000000\n",
      "          5100503      1130.000000\n",
      "          16500007      833.000000\n",
      "          1201465       813.000000\n",
      "          4100346       703.000000\n",
      "          1200947       657.000000\n",
      "          1201504       619.000000\n",
      "Name: purchase, dtype: float64\n",
      "category   product_id\n",
      "furniture  2900958      1240.000000\n",
      "           3801134       602.000000\n",
      "           2900561       552.000000\n",
      "           11400666      366.000000\n",
      "           100157019     364.000000\n",
      "           11400317      354.000000\n",
      "           15200181      312.000000\n",
      "           3801272       305.000000\n",
      "           7600562       302.000000\n",
      "Name: purchase, dtype: float64\n",
      "category      product_id\n",
      "construction  1005100      24134.000000\n",
      "              1005115      23996.000000\n",
      "              1004767      19938.000000\n",
      "              1005212      19567.000000\n",
      "              1002544      18778.000000\n",
      "              100068488    18622.000000\n",
      "              1004856      12922.000000\n",
      "              1005160      12824.000000\n",
      "              1005105       9713.000000\n",
      "Name: purchase, dtype: float64\n",
      "category     product_id\n",
      "electronics  1307545      2588.000000\n",
      "             5100337      1696.000000\n",
      "             5100855      1665.000000\n",
      "             100023514    1371.000000\n",
      "             5100852      1275.000000\n",
      "             5100562      1213.000000\n",
      "             100011103    1180.000000\n",
      "             100104755    1099.000000\n",
      "             100022253    1044.000000\n",
      "Name: purchase, dtype: float64\n",
      "category  product_id\n",
      "sport     4804056      19183.000000\n",
      "          4804055       5490.000000\n",
      "          4804718       3695.000000\n",
      "          4804660       3415.000000\n",
      "          4803977       2494.000000\n",
      "          4804295       2069.000000\n",
      "          100117907      703.000000\n",
      "          4803976        513.000000\n",
      "          4801876        429.000000\n",
      "Name: purchase, dtype: float64\n",
      "category   product_id\n",
      "computers  3300349      818.000000\n",
      "           26400299     791.000000\n",
      "           26401410     350.000000\n",
      "           26400295     317.000000\n",
      "           26400266     299.000000\n",
      "           26400629     284.000000\n",
      "           26400277     233.000000\n",
      "           26400193     215.000000\n",
      "           100127538    212.000000\n",
      "Name: purchase, dtype: float64\n",
      "category     product_id\n",
      "accessories  4700478      259.000000\n",
      "             16000974     173.000000\n",
      "             4700630      149.000000\n",
      "             4700738      108.000000\n",
      "             4700419       77.000000\n",
      "             16200000      64.000000\n",
      "             16000973      56.000000\n",
      "             16000004      53.000000\n",
      "             16200284      46.000000\n",
      "Name: purchase, dtype: float64\n",
      "No purchases in nan\n",
      "category  product_id\n",
      "kids      22300003     444.000000\n",
      "          11200364     436.000000\n",
      "          1500258      326.000000\n",
      "          26500318     182.000000\n",
      "          7004322      169.000000\n",
      "          7005237      149.000000\n",
      "          9002788      142.000000\n",
      "          100148883    138.000000\n",
      "          7006403      134.000000\n",
      "Name: purchase, dtype: float64\n",
      "category  product_id\n",
      "auto      22400036     146.000000\n",
      "          27900034     139.000000\n",
      "          27900037     132.000000\n",
      "          100017174    101.000000\n",
      "          27900026      92.000000\n",
      "          100015894     85.000000\n",
      "          100017134     79.000000\n",
      "          27900038      71.000000\n",
      "          100038541     71.000000\n",
      "Name: purchase, dtype: float64\n",
      "category  product_id\n",
      "medicine  29501042     75.000000\n",
      "          29502182     36.000000\n",
      "          29501031     35.000000\n",
      "          100009497    19.000000\n",
      "          29501859     15.000000\n",
      "          100029314    15.000000\n",
      "          100008185    13.000000\n",
      "          29501016     10.000000\n",
      "          29502177      8.000000\n",
      "Name: purchase, dtype: float64\n",
      "category      product_id\n",
      "country_yard  21700002     131.000000\n",
      "              40500104     115.000000\n",
      "              100092508     67.000000\n",
      "              40500183      67.000000\n",
      "              21700004      62.000000\n",
      "              40500103      60.000000\n",
      "              21700003      55.000000\n",
      "              100092477     45.000000\n",
      "              100092494     44.000000\n",
      "Name: purchase, dtype: float64\n",
      "category    product_id\n",
      "stationery  100009997    12.000000\n",
      "            100010196    10.000000\n",
      "            12901426      8.000000\n",
      "            12900142      7.000000\n",
      "            12900363      6.000000\n",
      "            12900192      6.000000\n",
      "            12900361      6.000000\n",
      "            12900083      6.000000\n",
      "            100010207     6.000000\n",
      "Name: purchase, dtype: float64\n"
     ]
    }
   ],
   "source": [
    "#Delete nan in order to avoid error\n",
    "bf = df['category'].unique()\n",
    "for i in bf:\n",
    "    try:\n",
    "        #make pivot table for each category, and sort values in descending order\n",
    "        table4 = pd.pivot_table(df[df['category']==i], values='event_time', index=['category','product_id'],\n",
    "                        columns=['event_type'], aggfunc=len)\n",
    "        print(table4['purchase'].dropna().sort_values(ascending =False)[:9])\n",
    "    except:\n",
    "        print('No purchases in {}'.format(i))"
   ]
  },
  {
   "cell_type": "markdown",
   "metadata": {},
   "source": [
    "## [RQ4] How much does each brand earn per month? "
   ]
  },
  {
   "cell_type": "code",
   "execution_count": 15,
   "metadata": {},
   "outputs": [
    {
     "data": {
      "text/html": [
       "<div>\n",
       "<style scoped>\n",
       "    .dataframe tbody tr th:only-of-type {\n",
       "        vertical-align: middle;\n",
       "    }\n",
       "\n",
       "    .dataframe tbody tr th {\n",
       "        vertical-align: top;\n",
       "    }\n",
       "\n",
       "    .dataframe thead th {\n",
       "        text-align: right;\n",
       "    }\n",
       "</style>\n",
       "<table border=\"1\" class=\"dataframe\">\n",
       "  <thead>\n",
       "    <tr style=\"text-align: right;\">\n",
       "      <th>event_type</th>\n",
       "      <th>cart</th>\n",
       "      <th>purchase</th>\n",
       "      <th>view</th>\n",
       "    </tr>\n",
       "    <tr>\n",
       "      <th>brand</th>\n",
       "      <th></th>\n",
       "      <th></th>\n",
       "      <th></th>\n",
       "    </tr>\n",
       "  </thead>\n",
       "  <tbody>\n",
       "    <tr>\n",
       "      <th>a-case</th>\n",
       "      <td>6716.200000</td>\n",
       "      <td>1735.710000</td>\n",
       "      <td>226728.900000</td>\n",
       "    </tr>\n",
       "    <tr>\n",
       "      <th>a-derma</th>\n",
       "      <td>387.090000</td>\n",
       "      <td>96.850000</td>\n",
       "      <td>9022.080000</td>\n",
       "    </tr>\n",
       "    <tr>\n",
       "      <th>a-elita</th>\n",
       "      <td>8.490000</td>\n",
       "      <td>nan</td>\n",
       "      <td>975.030000</td>\n",
       "    </tr>\n",
       "    <tr>\n",
       "      <th>a-mega</th>\n",
       "      <td>2044.020000</td>\n",
       "      <td>769.660000</td>\n",
       "      <td>28351.830000</td>\n",
       "    </tr>\n",
       "    <tr>\n",
       "      <th>a-toys</th>\n",
       "      <td>nan</td>\n",
       "      <td>nan</td>\n",
       "      <td>523.340000</td>\n",
       "    </tr>\n",
       "    <tr>\n",
       "      <th>...</th>\n",
       "      <td>...</td>\n",
       "      <td>...</td>\n",
       "      <td>...</td>\n",
       "    </tr>\n",
       "    <tr>\n",
       "      <th>zvezda</th>\n",
       "      <td>nan</td>\n",
       "      <td>nan</td>\n",
       "      <td>103.050000</td>\n",
       "    </tr>\n",
       "    <tr>\n",
       "      <th>zwerg</th>\n",
       "      <td>nan</td>\n",
       "      <td>nan</td>\n",
       "      <td>79.930000</td>\n",
       "    </tr>\n",
       "    <tr>\n",
       "      <th>zwilling</th>\n",
       "      <td>nan</td>\n",
       "      <td>nan</td>\n",
       "      <td>123357.400000</td>\n",
       "    </tr>\n",
       "    <tr>\n",
       "      <th>zx</th>\n",
       "      <td>nan</td>\n",
       "      <td>nan</td>\n",
       "      <td>364.650000</td>\n",
       "    </tr>\n",
       "    <tr>\n",
       "      <th>zyxel</th>\n",
       "      <td>183.080000</td>\n",
       "      <td>41.160000</td>\n",
       "      <td>96639.140000</td>\n",
       "    </tr>\n",
       "  </tbody>\n",
       "</table>\n",
       "<p>4653 rows × 3 columns</p>\n",
       "</div>"
      ],
      "text/plain": [
       "event_type        cart    purchase          view\n",
       "brand                                           \n",
       "a-case     6716.200000 1735.710000 226728.900000\n",
       "a-derma     387.090000   96.850000   9022.080000\n",
       "a-elita       8.490000         nan    975.030000\n",
       "a-mega     2044.020000  769.660000  28351.830000\n",
       "a-toys             nan         nan    523.340000\n",
       "...                ...         ...           ...\n",
       "zvezda             nan         nan    103.050000\n",
       "zwerg              nan         nan     79.930000\n",
       "zwilling           nan         nan 123357.400000\n",
       "zx                 nan         nan    364.650000\n",
       "zyxel       183.080000   41.160000  96639.140000\n",
       "\n",
       "[4653 rows x 3 columns]"
      ]
     },
     "execution_count": 15,
     "metadata": {},
     "output_type": "execute_result"
    }
   ],
   "source": [
    "#made a pivot table to sum the selling price per each brand\n",
    "brand_sum = pd.pivot_table(df, values='price', index=['brand'],\n",
    "                    columns=['event_type'], aggfunc=sum)\n",
    "brand_sum"
   ]
  },
  {
   "cell_type": "code",
   "execution_count": 16,
   "metadata": {},
   "outputs": [
    {
     "data": {
      "text/plain": [
       "brand\n",
       "apple      141315339.780029\n",
       "samsung     65440260.339983\n",
       "xiaomi      12560349.739998\n",
       "acer         6432710.560000\n",
       "huawei       5866907.370000\n",
       "                 ...       \n",
       "zuru                    nan\n",
       "zvezda                  nan\n",
       "zwerg                   nan\n",
       "zwilling                nan\n",
       "zx                      nan\n",
       "Name: purchase, Length: 4653, dtype: float64"
      ]
     },
     "execution_count": 16,
     "metadata": {},
     "output_type": "execute_result"
    }
   ],
   "source": [
    "#How much does each brand earn per month?\n",
    "brand_revenue = brand_sum['purchase'].sort_values(ascending=False)\n",
    "brand_revenue"
   ]
  },
  {
   "cell_type": "markdown",
   "metadata": {},
   "source": [
    "### Write a function that given the name of a brand in input returns, for each month, its profit."
   ]
  },
  {
   "cell_type": "code",
   "execution_count": 17,
   "metadata": {},
   "outputs": [],
   "source": [
    "# Function that given the name of a brand in input returns, for each month, its profit. \n",
    "def profit_of_brand(brand_name,month):\n",
    "    return month['purchase'][brand_name]\n",
    "\n",
    "def profit_of_brand_for_each_month(brand_name,list_of_months):\n",
    "    return [i['purchase'][brand_name] for i  in list_of_months]"
   ]
  },
  {
   "cell_type": "markdown",
   "metadata": {},
   "source": [
    "### Is the average price of products of different brands significantly different? "
   ]
  },
  {
   "cell_type": "code",
   "execution_count": 18,
   "metadata": {
    "scrolled": true
   },
   "outputs": [
    {
     "data": {
      "text/html": [
       "<div>\n",
       "<style scoped>\n",
       "    .dataframe tbody tr th:only-of-type {\n",
       "        vertical-align: middle;\n",
       "    }\n",
       "\n",
       "    .dataframe tbody tr th {\n",
       "        vertical-align: top;\n",
       "    }\n",
       "\n",
       "    .dataframe thead th {\n",
       "        text-align: right;\n",
       "    }\n",
       "</style>\n",
       "<table border=\"1\" class=\"dataframe\">\n",
       "  <thead>\n",
       "    <tr style=\"text-align: right;\">\n",
       "      <th></th>\n",
       "      <th>event_type</th>\n",
       "      <th>cart</th>\n",
       "      <th>purchase</th>\n",
       "      <th>view</th>\n",
       "    </tr>\n",
       "    <tr>\n",
       "      <th>subcategory</th>\n",
       "      <th>brand</th>\n",
       "      <th></th>\n",
       "      <th></th>\n",
       "      <th></th>\n",
       "    </tr>\n",
       "  </thead>\n",
       "  <tbody>\n",
       "    <tr>\n",
       "      <th rowspan=\"26\" valign=\"top\">accessories.alarm</th>\n",
       "      <th>absolutechampion</th>\n",
       "      <td>nan</td>\n",
       "      <td>nan</td>\n",
       "      <td>10.300000</td>\n",
       "    </tr>\n",
       "    <tr>\n",
       "      <th>appollo</th>\n",
       "      <td>nan</td>\n",
       "      <td>nan</td>\n",
       "      <td>54.060000</td>\n",
       "    </tr>\n",
       "    <tr>\n",
       "      <th>autoline</th>\n",
       "      <td>nan</td>\n",
       "      <td>nan</td>\n",
       "      <td>352.905000</td>\n",
       "    </tr>\n",
       "    <tr>\n",
       "      <th>avis</th>\n",
       "      <td>43.756667</td>\n",
       "      <td>18.020000</td>\n",
       "      <td>53.477845</td>\n",
       "    </tr>\n",
       "    <tr>\n",
       "      <th>body-solid</th>\n",
       "      <td>nan</td>\n",
       "      <td>nan</td>\n",
       "      <td>341.320000</td>\n",
       "    </tr>\n",
       "    <tr>\n",
       "      <th>centurion</th>\n",
       "      <td>nan</td>\n",
       "      <td>nan</td>\n",
       "      <td>33.460000</td>\n",
       "    </tr>\n",
       "    <tr>\n",
       "      <th>dds</th>\n",
       "      <td>360.110000</td>\n",
       "      <td>360.110000</td>\n",
       "      <td>360.110000</td>\n",
       "    </tr>\n",
       "    <tr>\n",
       "      <th>domyos</th>\n",
       "      <td>25.742000</td>\n",
       "      <td>nan</td>\n",
       "      <td>27.780753</td>\n",
       "    </tr>\n",
       "    <tr>\n",
       "      <th>dsk</th>\n",
       "      <td>nan</td>\n",
       "      <td>nan</td>\n",
       "      <td>66.916449</td>\n",
       "    </tr>\n",
       "    <tr>\n",
       "      <th>ersport</th>\n",
       "      <td>26.127000</td>\n",
       "      <td>26.062500</td>\n",
       "      <td>26.462400</td>\n",
       "    </tr>\n",
       "    <tr>\n",
       "      <th>farcar</th>\n",
       "      <td>18.020000</td>\n",
       "      <td>18.020000</td>\n",
       "      <td>18.020000</td>\n",
       "    </tr>\n",
       "    <tr>\n",
       "      <th>incar</th>\n",
       "      <td>50.190000</td>\n",
       "      <td>50.190000</td>\n",
       "      <td>36.663656</td>\n",
       "    </tr>\n",
       "    <tr>\n",
       "      <th>kgb</th>\n",
       "      <td>nan</td>\n",
       "      <td>nan</td>\n",
       "      <td>84.940000</td>\n",
       "    </tr>\n",
       "    <tr>\n",
       "      <th>mydean</th>\n",
       "      <td>14.728889</td>\n",
       "      <td>12.870000</td>\n",
       "      <td>24.184051</td>\n",
       "    </tr>\n",
       "    <tr>\n",
       "      <th>pandora</th>\n",
       "      <td>nan</td>\n",
       "      <td>nan</td>\n",
       "      <td>221.157778</td>\n",
       "    </tr>\n",
       "    <tr>\n",
       "      <th>phantom</th>\n",
       "      <td>12.870000</td>\n",
       "      <td>nan</td>\n",
       "      <td>12.870000</td>\n",
       "    </tr>\n",
       "    <tr>\n",
       "      <th>pioneer</th>\n",
       "      <td>nan</td>\n",
       "      <td>nan</td>\n",
       "      <td>64.350000</td>\n",
       "    </tr>\n",
       "    <tr>\n",
       "      <th>romana</th>\n",
       "      <td>43.888182</td>\n",
       "      <td>65.506667</td>\n",
       "      <td>82.472653</td>\n",
       "    </tr>\n",
       "    <tr>\n",
       "      <th>scher-khan</th>\n",
       "      <td>nan</td>\n",
       "      <td>nan</td>\n",
       "      <td>77.890000</td>\n",
       "    </tr>\n",
       "    <tr>\n",
       "      <th>silapro</th>\n",
       "      <td>15.960000</td>\n",
       "      <td>15.960000</td>\n",
       "      <td>15.960000</td>\n",
       "    </tr>\n",
       "    <tr>\n",
       "      <th>sparta</th>\n",
       "      <td>29.320000</td>\n",
       "      <td>29.320000</td>\n",
       "      <td>29.320000</td>\n",
       "    </tr>\n",
       "    <tr>\n",
       "      <th>starline</th>\n",
       "      <td>217.250000</td>\n",
       "      <td>217.250000</td>\n",
       "      <td>203.064578</td>\n",
       "    </tr>\n",
       "    <tr>\n",
       "      <th>swat</th>\n",
       "      <td>40.807619</td>\n",
       "      <td>41.108462</td>\n",
       "      <td>41.091316</td>\n",
       "    </tr>\n",
       "    <tr>\n",
       "      <th>tomahawk</th>\n",
       "      <td>nan</td>\n",
       "      <td>nan</td>\n",
       "      <td>86.230000</td>\n",
       "    </tr>\n",
       "    <tr>\n",
       "      <th>torneo</th>\n",
       "      <td>22.650000</td>\n",
       "      <td>22.650000</td>\n",
       "      <td>22.650000</td>\n",
       "    </tr>\n",
       "    <tr>\n",
       "      <th>tuka</th>\n",
       "      <td>16.730000</td>\n",
       "      <td>16.730000</td>\n",
       "      <td>16.730000</td>\n",
       "    </tr>\n",
       "    <tr>\n",
       "      <th rowspan=\"20\" valign=\"top\">accessories.anti_freeze</th>\n",
       "      <th>alexrojo</th>\n",
       "      <td>nan</td>\n",
       "      <td>nan</td>\n",
       "      <td>38.610000</td>\n",
       "    </tr>\n",
       "    <tr>\n",
       "      <th>barokko</th>\n",
       "      <td>nan</td>\n",
       "      <td>nan</td>\n",
       "      <td>12.380000</td>\n",
       "    </tr>\n",
       "    <tr>\n",
       "      <th>bartek</th>\n",
       "      <td>46.080000</td>\n",
       "      <td>46.080000</td>\n",
       "      <td>46.080000</td>\n",
       "    </tr>\n",
       "    <tr>\n",
       "      <th>biomecanics</th>\n",
       "      <td>46.288333</td>\n",
       "      <td>45.882500</td>\n",
       "      <td>39.137886</td>\n",
       "    </tr>\n",
       "    <tr>\n",
       "      <th>boarteks</th>\n",
       "      <td>nan</td>\n",
       "      <td>nan</td>\n",
       "      <td>44.770000</td>\n",
       "    </tr>\n",
       "    <tr>\n",
       "      <th>bugaboo</th>\n",
       "      <td>nan</td>\n",
       "      <td>nan</td>\n",
       "      <td>141.550000</td>\n",
       "    </tr>\n",
       "    <tr>\n",
       "      <th>burton</th>\n",
       "      <td>nan</td>\n",
       "      <td>nan</td>\n",
       "      <td>630.390000</td>\n",
       "    </tr>\n",
       "    <tr>\n",
       "      <th>elegant</th>\n",
       "      <td>nan</td>\n",
       "      <td>nan</td>\n",
       "      <td>11.070000</td>\n",
       "    </tr>\n",
       "    <tr>\n",
       "      <th>garvalin</th>\n",
       "      <td>36.657059</td>\n",
       "      <td>38.696667</td>\n",
       "      <td>43.232548</td>\n",
       "    </tr>\n",
       "    <tr>\n",
       "      <th>intex</th>\n",
       "      <td>nan</td>\n",
       "      <td>nan</td>\n",
       "      <td>69.350000</td>\n",
       "    </tr>\n",
       "    <tr>\n",
       "      <th>marko</th>\n",
       "      <td>nan</td>\n",
       "      <td>nan</td>\n",
       "      <td>43.220000</td>\n",
       "    </tr>\n",
       "    <tr>\n",
       "      <th>minimen</th>\n",
       "      <td>41.510000</td>\n",
       "      <td>nan</td>\n",
       "      <td>40.619343</td>\n",
       "    </tr>\n",
       "    <tr>\n",
       "      <th>minno</th>\n",
       "      <td>38.585000</td>\n",
       "      <td>nan</td>\n",
       "      <td>38.737525</td>\n",
       "    </tr>\n",
       "    <tr>\n",
       "      <th>neposeda</th>\n",
       "      <td>nan</td>\n",
       "      <td>nan</td>\n",
       "      <td>25.230000</td>\n",
       "    </tr>\n",
       "    <tr>\n",
       "      <th>pablosky</th>\n",
       "      <td>55.747143</td>\n",
       "      <td>51.823333</td>\n",
       "      <td>47.573345</td>\n",
       "    </tr>\n",
       "    <tr>\n",
       "      <th>sherlock</th>\n",
       "      <td>nan</td>\n",
       "      <td>nan</td>\n",
       "      <td>16.910000</td>\n",
       "    </tr>\n",
       "    <tr>\n",
       "      <th>stolicatekstila</th>\n",
       "      <td>nan</td>\n",
       "      <td>nan</td>\n",
       "      <td>31.440000</td>\n",
       "    </tr>\n",
       "    <tr>\n",
       "      <th>timson</th>\n",
       "      <td>15.617797</td>\n",
       "      <td>15.744211</td>\n",
       "      <td>16.080048</td>\n",
       "    </tr>\n",
       "    <tr>\n",
       "      <th>verran</th>\n",
       "      <td>nan</td>\n",
       "      <td>nan</td>\n",
       "      <td>30.890000</td>\n",
       "    </tr>\n",
       "    <tr>\n",
       "      <th>vladi</th>\n",
       "      <td>nan</td>\n",
       "      <td>nan</td>\n",
       "      <td>30.718333</td>\n",
       "    </tr>\n",
       "    <tr>\n",
       "      <th rowspan=\"4\" valign=\"top\">accessories.compressor</th>\n",
       "      <th>intex</th>\n",
       "      <td>nan</td>\n",
       "      <td>nan</td>\n",
       "      <td>77.172857</td>\n",
       "    </tr>\n",
       "    <tr>\n",
       "      <th>airline</th>\n",
       "      <td>47.534800</td>\n",
       "      <td>47.574444</td>\n",
       "      <td>47.674091</td>\n",
       "    </tr>\n",
       "    <tr>\n",
       "      <th>alligator</th>\n",
       "      <td>nan</td>\n",
       "      <td>nan</td>\n",
       "      <td>59.980000</td>\n",
       "    </tr>\n",
       "    <tr>\n",
       "      <th>aquamarine</th>\n",
       "      <td>nan</td>\n",
       "      <td>nan</td>\n",
       "      <td>37.320000</td>\n",
       "    </tr>\n",
       "  </tbody>\n",
       "</table>\n",
       "</div>"
      ],
      "text/plain": [
       "event_type                                     cart   purchase       view\n",
       "subcategory             brand                                            \n",
       "accessories.alarm       absolutechampion        nan        nan  10.300000\n",
       "                        appollo                 nan        nan  54.060000\n",
       "                        autoline                nan        nan 352.905000\n",
       "                        avis              43.756667  18.020000  53.477845\n",
       "                        body-solid              nan        nan 341.320000\n",
       "                        centurion               nan        nan  33.460000\n",
       "                        dds              360.110000 360.110000 360.110000\n",
       "                        domyos            25.742000        nan  27.780753\n",
       "                        dsk                     nan        nan  66.916449\n",
       "                        ersport           26.127000  26.062500  26.462400\n",
       "                        farcar            18.020000  18.020000  18.020000\n",
       "                        incar             50.190000  50.190000  36.663656\n",
       "                        kgb                     nan        nan  84.940000\n",
       "                        mydean            14.728889  12.870000  24.184051\n",
       "                        pandora                 nan        nan 221.157778\n",
       "                        phantom           12.870000        nan  12.870000\n",
       "                        pioneer                 nan        nan  64.350000\n",
       "                        romana            43.888182  65.506667  82.472653\n",
       "                        scher-khan              nan        nan  77.890000\n",
       "                        silapro           15.960000  15.960000  15.960000\n",
       "                        sparta            29.320000  29.320000  29.320000\n",
       "                        starline         217.250000 217.250000 203.064578\n",
       "                        swat              40.807619  41.108462  41.091316\n",
       "                        tomahawk                nan        nan  86.230000\n",
       "                        torneo            22.650000  22.650000  22.650000\n",
       "                        tuka              16.730000  16.730000  16.730000\n",
       "accessories.anti_freeze alexrojo                nan        nan  38.610000\n",
       "                        barokko                 nan        nan  12.380000\n",
       "                        bartek            46.080000  46.080000  46.080000\n",
       "                        biomecanics       46.288333  45.882500  39.137886\n",
       "                        boarteks                nan        nan  44.770000\n",
       "                        bugaboo                 nan        nan 141.550000\n",
       "                        burton                  nan        nan 630.390000\n",
       "                        elegant                 nan        nan  11.070000\n",
       "                        garvalin          36.657059  38.696667  43.232548\n",
       "                        intex                   nan        nan  69.350000\n",
       "                        marko                   nan        nan  43.220000\n",
       "                        minimen           41.510000        nan  40.619343\n",
       "                        minno             38.585000        nan  38.737525\n",
       "                        neposeda                nan        nan  25.230000\n",
       "                        pablosky          55.747143  51.823333  47.573345\n",
       "                        sherlock                nan        nan  16.910000\n",
       "                        stolicatekstila         nan        nan  31.440000\n",
       "                        timson            15.617797  15.744211  16.080048\n",
       "                        verran                  nan        nan  30.890000\n",
       "                        vladi                   nan        nan  30.718333\n",
       "accessories.compressor  intex                   nan        nan  77.172857\n",
       "                        airline           47.534800  47.574444  47.674091\n",
       "                        alligator               nan        nan  59.980000\n",
       "                        aquamarine              nan        nan  37.320000"
      ]
     },
     "execution_count": 18,
     "metadata": {},
     "output_type": "execute_result"
    }
   ],
   "source": [
    "#Is the average price of products of different brands significantly different? \n",
    "\n",
    "table3 = pd.pivot_table(df, values='price', index=['subcategory','brand'],\n",
    "\n",
    "                    columns=['event_type'], aggfunc='mean')\n",
    "table3[:50]\n"
   ]
  },
  {
   "cell_type": "markdown",
   "metadata": {},
   "source": [
    "##  [RQ7] The Pareto principle states that for many outcomes roughly 80% of consequences come from 20% of the causes. Also known as 80/20 rule, in e-commerce simply means that most of your business, around 80%, likely comes from about 20% of your customers.\n",
    "\n",
    "    Prove that the pareto principle applies to your store.\n"
   ]
  },
  {
   "cell_type": "code",
   "execution_count": 19,
   "metadata": {},
   "outputs": [
    {
     "data": {
      "text/plain": [
       "user_id\n",
       "595104624   527776.780000\n",
       "610871788   254009.460000\n",
       "624819201   206238.020000\n",
       "542157411   198634.770000\n",
       "626212229   185189.290000\n",
       "                 ...     \n",
       "628229180        0.800000\n",
       "592888725        0.790000\n",
       "512557326        0.790000\n",
       "600094403        0.790000\n",
       "623981352        0.770000\n",
       "Name: price, Length: 453487, dtype: float64"
      ]
     },
     "execution_count": 19,
     "metadata": {},
     "output_type": "execute_result"
    }
   ],
   "source": [
    "group_purchase_by_user=df[df['event_type']=='purchase'].groupby(['user_id'])['price'].sum()\n",
    "sorted_group_purchase_by_user = group_purchase_by_user.dropna().sort_values(ascending=False)\n",
    "sorted_group_purchase_by_user\n",
    "#Group by user and sort all purchases by descending order"
   ]
  },
  {
   "cell_type": "code",
   "execution_count": 20,
   "metadata": {},
   "outputs": [
    {
     "data": {
      "text/plain": [
       "321378408.32000005"
      ]
     },
     "execution_count": 20,
     "metadata": {},
     "output_type": "execute_result"
    }
   ],
   "source": [
    "group_purchase_by_product=df[df['event_type']=='purchase']['price'].sum()\n",
    "group_purchase_by_product\n",
    "#get all the revenue that was made in this month"
   ]
  },
  {
   "cell_type": "code",
   "execution_count": 21,
   "metadata": {},
   "outputs": [
    {
     "name": "stdout",
     "output_type": "stream",
     "text": [
      "Percent of money 20 % of customers gave out of total 321378408.32000005: 70.63901320151875%\n"
     ]
    },
    {
     "data": {
      "image/png": "[encoded data removed]",
      "text/plain": [
       "<Figure size 1152x648 with 1 Axes>"
      ]
     },
     "metadata": {
      "needs_background": "light"
     },
     "output_type": "display_data"
    }
   ],
   "source": [
    "plt.figure(figsize =(16, 9)) \n",
    "amount_of_20percent_customers = len(sorted_group_purchase_by_user) * 0.2\n",
    "#Count % of money that 20% of top customers gave\n",
    "index_user = [str(i) for i in sorted_group_purchase_by_user.index]\n",
    "plt.bar(index_user[:20],sorted_group_purchase_by_user[:20])\n",
    "print('Percent of money 20 % of customers gave out of total {}: {}%'.format(group_purchase_by_product,sum(sorted_group_purchase_by_user[:int(amount_of_20percent_customers)]) /(group_purchase_by_product/100) ))"
   ]
  }
 ],
 "metadata": {
  "kernelspec": {
   "display_name": "Python 3",
   "language": "python",
   "name": "python3"
  },
  "language_info": {
   "codemirror_mode": {
    "name": "ipython",
    "version": 3
   },
   "file_extension": ".py",
   "mimetype": "text/x-python",
   "name": "python",
   "nbconvert_exporter": "python",
   "pygments_lexer": "ipython3",
   "version": "3.6.9"
  }
 },
 "nbformat": 4,
 "nbformat_minor": 2
}
