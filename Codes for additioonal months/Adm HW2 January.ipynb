{
 "cells": [
  {
   "cell_type": "markdown",
   "metadata": {},
   "source": [
    "# ADM HW 2. Questions 1,2,4,7"
   ]
  },
  {
   "cell_type": "code",
   "execution_count": 1,
   "metadata": {},
   "outputs": [
    {
     "data": {
      "text/html": [
       "<div>\n",
       "<style scoped>\n",
       "    .dataframe tbody tr th:only-of-type {\n",
       "        vertical-align: middle;\n",
       "    }\n",
       "\n",
       "    .dataframe tbody tr th {\n",
       "        vertical-align: top;\n",
       "    }\n",
       "\n",
       "    .dataframe thead th {\n",
       "        text-align: right;\n",
       "    }\n",
       "</style>\n",
       "<table border=\"1\" class=\"dataframe\">\n",
       "  <thead>\n",
       "    <tr style=\"text-align: right;\">\n",
       "      <th></th>\n",
       "      <th>event_time</th>\n",
       "      <th>event_type</th>\n",
       "      <th>product_id</th>\n",
       "      <th>category_id</th>\n",
       "      <th>category_code</th>\n",
       "      <th>brand</th>\n",
       "      <th>price</th>\n",
       "      <th>user_id</th>\n",
       "      <th>user_session</th>\n",
       "    </tr>\n",
       "  </thead>\n",
       "  <tbody>\n",
       "    <tr>\n",
       "      <th>0</th>\n",
       "      <td>2020-01-01 00:00:00 UTC</td>\n",
       "      <td>view</td>\n",
       "      <td>1005073</td>\n",
       "      <td>2232732093077520756</td>\n",
       "      <td>construction.tools.light</td>\n",
       "      <td>samsung</td>\n",
       "      <td>1130.02</td>\n",
       "      <td>519698804</td>\n",
       "      <td>69b5d72f-fd6e-4fed-aa23-1286b2ca89a0</td>\n",
       "    </tr>\n",
       "    <tr>\n",
       "      <th>1</th>\n",
       "      <td>2020-01-01 00:00:01 UTC</td>\n",
       "      <td>view</td>\n",
       "      <td>1005192</td>\n",
       "      <td>2232732093077520756</td>\n",
       "      <td>construction.tools.light</td>\n",
       "      <td>meizu</td>\n",
       "      <td>205.67</td>\n",
       "      <td>527767423</td>\n",
       "      <td>7f596032-ccbf-4643-9bad-e36a209512b4</td>\n",
       "    </tr>\n",
       "    <tr>\n",
       "      <th>2</th>\n",
       "      <td>2020-01-01 00:00:01 UTC</td>\n",
       "      <td>view</td>\n",
       "      <td>100063693</td>\n",
       "      <td>2053013552427434207</td>\n",
       "      <td>apparel.shirt</td>\n",
       "      <td>turtle</td>\n",
       "      <td>136.43</td>\n",
       "      <td>519046195</td>\n",
       "      <td>d1e2f343-84bb-49bd-b13d-ca0f1ed9910e</td>\n",
       "    </tr>\n",
       "    <tr>\n",
       "      <th>3</th>\n",
       "      <td>2020-01-01 00:00:01 UTC</td>\n",
       "      <td>view</td>\n",
       "      <td>5100816</td>\n",
       "      <td>2232732103831716449</td>\n",
       "      <td>apparel.shoes</td>\n",
       "      <td>xiaomi</td>\n",
       "      <td>29.95</td>\n",
       "      <td>518269232</td>\n",
       "      <td>0444841c-38ef-410c-b11f-7b35ea4e5991</td>\n",
       "    </tr>\n",
       "    <tr>\n",
       "      <th>4</th>\n",
       "      <td>2020-01-01 00:00:02 UTC</td>\n",
       "      <td>view</td>\n",
       "      <td>100014325</td>\n",
       "      <td>2232732103294845523</td>\n",
       "      <td>apparel.shoes.step_ins</td>\n",
       "      <td>intel</td>\n",
       "      <td>167.20</td>\n",
       "      <td>587748686</td>\n",
       "      <td>31b7d4cf-dfac-4895-9927-90fa3254f860</td>\n",
       "    </tr>\n",
       "  </tbody>\n",
       "</table>\n",
       "</div>"
      ],
      "text/plain": [
       "                event_time event_type  product_id          category_id  \\\n",
       "0  2020-01-01 00:00:00 UTC       view     1005073  2232732093077520756   \n",
       "1  2020-01-01 00:00:01 UTC       view     1005192  2232732093077520756   \n",
       "2  2020-01-01 00:00:01 UTC       view   100063693  2053013552427434207   \n",
       "3  2020-01-01 00:00:01 UTC       view     5100816  2232732103831716449   \n",
       "4  2020-01-01 00:00:02 UTC       view   100014325  2232732103294845523   \n",
       "\n",
       "              category_code    brand    price    user_id  \\\n",
       "0  construction.tools.light  samsung  1130.02  519698804   \n",
       "1  construction.tools.light    meizu   205.67  527767423   \n",
       "2             apparel.shirt   turtle   136.43  519046195   \n",
       "3             apparel.shoes   xiaomi    29.95  518269232   \n",
       "4    apparel.shoes.step_ins    intel   167.20  587748686   \n",
       "\n",
       "                           user_session  \n",
       "0  69b5d72f-fd6e-4fed-aa23-1286b2ca89a0  \n",
       "1  7f596032-ccbf-4643-9bad-e36a209512b4  \n",
       "2  d1e2f343-84bb-49bd-b13d-ca0f1ed9910e  \n",
       "3  0444841c-38ef-410c-b11f-7b35ea4e5991  \n",
       "4  31b7d4cf-dfac-4895-9927-90fa3254f860  "
      ]
     },
     "execution_count": 1,
     "metadata": {},
     "output_type": "execute_result"
    }
   ],
   "source": [
    "#Loading datasets\n",
    "import pandas as pd\n",
    "import numpy as np\n",
    "import matplotlib.pyplot as plt\n",
    "df=pd.read_csv('/home/dias/Desktop/HW/2020-Jan.csv')\n",
    "name ='January'\n",
    "df.head()"
   ]
  },
  {
   "cell_type": "code",
   "execution_count": 2,
   "metadata": {},
   "outputs": [],
   "source": [
    "#Setting numbers to show in float \n",
    "pd.set_option('float_format', '{:f}'.format)"
   ]
  },
  {
   "cell_type": "code",
   "execution_count": 3,
   "metadata": {},
   "outputs": [
    {
     "name": "stdout",
     "output_type": "stream",
     "text": [
      "<class 'pandas.core.frame.DataFrame'>\n",
      "RangeIndex: 55967041 entries, 0 to 55967040\n",
      "Data columns (total 9 columns):\n",
      " #   Column         Dtype  \n",
      "---  ------         -----  \n",
      " 0   event_time     object \n",
      " 1   event_type     object \n",
      " 2   product_id     int64  \n",
      " 3   category_id    int64  \n",
      " 4   category_code  object \n",
      " 5   brand          object \n",
      " 6   price          float64\n",
      " 7   user_id        int64  \n",
      " 8   user_session   object \n",
      "dtypes: float64(1), int64(3), object(5)\n",
      "memory usage: 3.8+ GB\n"
     ]
    }
   ],
   "source": [
    "#Getting information about dataset\n",
    "df.info()"
   ]
  },
  {
   "cell_type": "code",
   "execution_count": 4,
   "metadata": {},
   "outputs": [
    {
     "data": {
      "text/html": [
       "<div>\n",
       "<style scoped>\n",
       "    .dataframe tbody tr th:only-of-type {\n",
       "        vertical-align: middle;\n",
       "    }\n",
       "\n",
       "    .dataframe tbody tr th {\n",
       "        vertical-align: top;\n",
       "    }\n",
       "\n",
       "    .dataframe thead th {\n",
       "        text-align: right;\n",
       "    }\n",
       "</style>\n",
       "<table border=\"1\" class=\"dataframe\">\n",
       "  <thead>\n",
       "    <tr style=\"text-align: right;\">\n",
       "      <th></th>\n",
       "      <th>product_id</th>\n",
       "      <th>category_id</th>\n",
       "      <th>price</th>\n",
       "      <th>user_id</th>\n",
       "    </tr>\n",
       "  </thead>\n",
       "  <tbody>\n",
       "    <tr>\n",
       "      <th>count</th>\n",
       "      <td>55967041.000000</td>\n",
       "      <td>55967041.000000</td>\n",
       "      <td>55967041.000000</td>\n",
       "      <td>55967041.000000</td>\n",
       "    </tr>\n",
       "    <tr>\n",
       "      <th>mean</th>\n",
       "      <td>21511983.785403</td>\n",
       "      <td>2184717820909243648.000000</td>\n",
       "      <td>291.091033</td>\n",
       "      <td>557482102.198503</td>\n",
       "    </tr>\n",
       "    <tr>\n",
       "      <th>std</th>\n",
       "      <td>32203756.237081</td>\n",
       "      <td>79286872914928800.000000</td>\n",
       "      <td>360.219409</td>\n",
       "      <td>33754742.462473</td>\n",
       "    </tr>\n",
       "    <tr>\n",
       "      <th>min</th>\n",
       "      <td>1000544.000000</td>\n",
       "      <td>2053013551857008896.000000</td>\n",
       "      <td>0.000000</td>\n",
       "      <td>22165363.000000</td>\n",
       "    </tr>\n",
       "    <tr>\n",
       "      <th>25%</th>\n",
       "      <td>1005239.000000</td>\n",
       "      <td>2053013563835941632.000000</td>\n",
       "      <td>64.330000</td>\n",
       "      <td>522084631.000000</td>\n",
       "    </tr>\n",
       "    <tr>\n",
       "      <th>50%</th>\n",
       "      <td>5800192.000000</td>\n",
       "      <td>2232732093077520640.000000</td>\n",
       "      <td>166.730000</td>\n",
       "      <td>558259891.000000</td>\n",
       "    </tr>\n",
       "    <tr>\n",
       "      <th>75%</th>\n",
       "      <td>25800005.000000</td>\n",
       "      <td>2232732097993245184.000000</td>\n",
       "      <td>357.540000</td>\n",
       "      <td>591530886.000000</td>\n",
       "    </tr>\n",
       "    <tr>\n",
       "      <th>max</th>\n",
       "      <td>100099553.000000</td>\n",
       "      <td>2236178430586520064.000000</td>\n",
       "      <td>2574.070000</td>\n",
       "      <td>608822162.000000</td>\n",
       "    </tr>\n",
       "  </tbody>\n",
       "</table>\n",
       "</div>"
      ],
      "text/plain": [
       "            product_id                category_id           price  \\\n",
       "count  55967041.000000            55967041.000000 55967041.000000   \n",
       "mean   21511983.785403 2184717820909243648.000000      291.091033   \n",
       "std    32203756.237081   79286872914928800.000000      360.219409   \n",
       "min     1000544.000000 2053013551857008896.000000        0.000000   \n",
       "25%     1005239.000000 2053013563835941632.000000       64.330000   \n",
       "50%     5800192.000000 2232732093077520640.000000      166.730000   \n",
       "75%    25800005.000000 2232732097993245184.000000      357.540000   \n",
       "max   100099553.000000 2236178430586520064.000000     2574.070000   \n",
       "\n",
       "               user_id  \n",
       "count  55967041.000000  \n",
       "mean  557482102.198503  \n",
       "std    33754742.462473  \n",
       "min    22165363.000000  \n",
       "25%   522084631.000000  \n",
       "50%   558259891.000000  \n",
       "75%   591530886.000000  \n",
       "max   608822162.000000  "
      ]
     },
     "execution_count": 4,
     "metadata": {},
     "output_type": "execute_result"
    }
   ],
   "source": [
    "df.describe()"
   ]
  },
  {
   "cell_type": "code",
   "execution_count": 5,
   "metadata": {},
   "outputs": [
    {
     "data": {
      "text/plain": [
       "event_time        object\n",
       "event_type        object\n",
       "product_id         int64\n",
       "category_id        int64\n",
       "category_code     object\n",
       "brand             object\n",
       "price            float64\n",
       "user_id            int64\n",
       "user_session      object\n",
       "dtype: object"
      ]
     },
     "execution_count": 5,
     "metadata": {},
     "output_type": "execute_result"
    }
   ],
   "source": [
    "df.dtypes"
   ]
  },
  {
   "cell_type": "markdown",
   "metadata": {},
   "source": [
    "## [RQ1] A marketing funnel describes your customer’s journey with your e-commerce. It may involve different stages, beginning when someone learns about your business, when he/she visits your website for the first time, to the purchasing stage, marketing funnels map routes to conversion and beyond. Suppose your funnel involves just three simple steps: 1) view, 2) cart, 3) purchase. Which is the rate of complete funnels? "
   ]
  },
  {
   "cell_type": "code",
   "execution_count": 6,
   "metadata": {},
   "outputs": [
    {
     "data": {
      "text/plain": [
       "array(['view', 'cart', 'purchase'], dtype=object)"
      ]
     },
     "execution_count": 6,
     "metadata": {},
     "output_type": "execute_result"
    }
   ],
   "source": [
    "df.event_type.unique()"
   ]
  },
  {
   "cell_type": "code",
   "execution_count": 7,
   "metadata": {},
   "outputs": [
    {
     "name": "stdout",
     "output_type": "stream",
     "text": [
      "Rate of complete funnels in January = 0.027439008924898062\n"
     ]
    }
   ],
   "source": [
    "#Here I group all event_time values by product_id and user_id \n",
    "table1 = pd.pivot_table(df, values='event_time', index=['product_id','user_id'],\n",
    "                    columns=['event_type'], aggfunc=len)\n",
    "a=table1.dropna()\n",
    "complete_funnels = a.min(axis=1).sum()\n",
    "#I drop rows where at least one of them wasn't made, count sum and divide by total length\n",
    "print('Rate of complete funnels in {} = {}'.format(name,complete_funnels/len(table1)))"
   ]
  },
  {
   "cell_type": "markdown",
   "metadata": {},
   "source": [
    "### What’s the operation users repeat more on average within a session? Produce a plot that shows the average number of times users perform each operation (view/removefromchart etc etc)."
   ]
  },
  {
   "cell_type": "code",
   "execution_count": 8,
   "metadata": {
    "scrolled": true
   },
   "outputs": [
    {
     "data": {
      "text/plain": [
       "[3.815561953579211, 1.7112130737992748, 1.208526189339007]"
      ]
     },
     "execution_count": 8,
     "metadata": {},
     "output_type": "execute_result"
    }
   ],
   "source": [
    "#Here I grouped by session and took all average numbers of events in event_type\n",
    "mean=[]\n",
    "for i in df.event_type.unique():\n",
    "    mean.append(df[df.event_type == i].groupby(['user_session']).event_type.count())\n",
    "for i in range(len(mean)):\n",
    "    mean[i]=mean[i].mean()\n",
    "mean"
   ]
  },
  {
   "cell_type": "code",
   "execution_count": 9,
   "metadata": {
    "scrolled": true
   },
   "outputs": [
    {
     "name": "stdout",
     "output_type": "stream",
     "text": [
      "The operation users repeat more on average within a session in January: \n"
     ]
    },
    {
     "data": {
      "image/png": "[encoded data removed]",
      "text/plain": [
       "<Figure size 432x288 with 1 Axes>"
      ]
     },
     "metadata": {
      "needs_background": "light"
     },
     "output_type": "display_data"
    }
   ],
   "source": [
    "#and then plot a bar, and took tha name of event with highest number\n",
    "plt.bar(df.event_type.unique(),mean);\n",
    "print('The operation users repeat more on average within a session in {}: '.format(name, df.event_type.unique()[0]))"
   ]
  },
  {
   "cell_type": "markdown",
   "metadata": {},
   "source": [
    "### How many times, on average, a user views a product before adding it to the cart?"
   ]
  },
  {
   "cell_type": "code",
   "execution_count": 3,
   "metadata": {
    "scrolled": true
   },
   "outputs": [
    {
     "data": {
      "text/html": [
       "<div>\n",
       "<style scoped>\n",
       "    .dataframe tbody tr th:only-of-type {\n",
       "        vertical-align: middle;\n",
       "    }\n",
       "\n",
       "    .dataframe tbody tr th {\n",
       "        vertical-align: top;\n",
       "    }\n",
       "\n",
       "    .dataframe thead th {\n",
       "        text-align: right;\n",
       "    }\n",
       "</style>\n",
       "<table border=\"1\" class=\"dataframe\">\n",
       "  <thead>\n",
       "    <tr style=\"text-align: right;\">\n",
       "      <th></th>\n",
       "      <th>event_type</th>\n",
       "      <th>cart</th>\n",
       "      <th>purchase</th>\n",
       "      <th>view</th>\n",
       "    </tr>\n",
       "    <tr>\n",
       "      <th>product_id</th>\n",
       "      <th>user_id</th>\n",
       "      <th></th>\n",
       "      <th></th>\n",
       "      <th></th>\n",
       "    </tr>\n",
       "  </thead>\n",
       "  <tbody>\n",
       "    <tr>\n",
       "      <th rowspan=\"4\" valign=\"top\">1000544</th>\n",
       "      <th>512584379</th>\n",
       "      <td>NaN</td>\n",
       "      <td>NaN</td>\n",
       "      <td>2020-01-31 01:21:54 UTC</td>\n",
       "    </tr>\n",
       "    <tr>\n",
       "      <th>529613605</th>\n",
       "      <td>NaN</td>\n",
       "      <td>NaN</td>\n",
       "      <td>2020-01-31 18:51:42 UTC</td>\n",
       "    </tr>\n",
       "    <tr>\n",
       "      <th>559187512</th>\n",
       "      <td>NaN</td>\n",
       "      <td>NaN</td>\n",
       "      <td>2020-01-21 15:26:12 UTC</td>\n",
       "    </tr>\n",
       "    <tr>\n",
       "      <th>595676368</th>\n",
       "      <td>NaN</td>\n",
       "      <td>NaN</td>\n",
       "      <td>2020-01-11 11:45:41 UTC</td>\n",
       "    </tr>\n",
       "    <tr>\n",
       "      <th>1000894</th>\n",
       "      <th>470343224</th>\n",
       "      <td>NaN</td>\n",
       "      <td>NaN</td>\n",
       "      <td>2020-01-02 03:02:41 UTC</td>\n",
       "    </tr>\n",
       "    <tr>\n",
       "      <th>...</th>\n",
       "      <th>...</th>\n",
       "      <td>...</td>\n",
       "      <td>...</td>\n",
       "      <td>...</td>\n",
       "    </tr>\n",
       "    <tr>\n",
       "      <th rowspan=\"3\" valign=\"top\">100099540</th>\n",
       "      <th>568874704</th>\n",
       "      <td>NaN</td>\n",
       "      <td>NaN</td>\n",
       "      <td>2020-01-31 17:01:08 UTC</td>\n",
       "    </tr>\n",
       "    <tr>\n",
       "      <th>603169389</th>\n",
       "      <td>NaN</td>\n",
       "      <td>NaN</td>\n",
       "      <td>2020-01-31 17:16:14 UTC</td>\n",
       "    </tr>\n",
       "    <tr>\n",
       "      <th>607514783</th>\n",
       "      <td>NaN</td>\n",
       "      <td>NaN</td>\n",
       "      <td>2020-01-31 17:36:01 UTC</td>\n",
       "    </tr>\n",
       "    <tr>\n",
       "      <th>100099541</th>\n",
       "      <th>608656588</th>\n",
       "      <td>NaN</td>\n",
       "      <td>NaN</td>\n",
       "      <td>2020-01-31 17:07:04 UTC</td>\n",
       "    </tr>\n",
       "    <tr>\n",
       "      <th>100099553</th>\n",
       "      <th>608656588</th>\n",
       "      <td>NaN</td>\n",
       "      <td>NaN</td>\n",
       "      <td>2020-01-31 17:18:41 UTC</td>\n",
       "    </tr>\n",
       "  </tbody>\n",
       "</table>\n",
       "<p>29964712 rows × 3 columns</p>\n",
       "</div>"
      ],
      "text/plain": [
       "event_type           cart purchase                     view\n",
       "product_id user_id                                         \n",
       "1000544    512584379  NaN      NaN  2020-01-31 01:21:54 UTC\n",
       "           529613605  NaN      NaN  2020-01-31 18:51:42 UTC\n",
       "           559187512  NaN      NaN  2020-01-21 15:26:12 UTC\n",
       "           595676368  NaN      NaN  2020-01-11 11:45:41 UTC\n",
       "1000894    470343224  NaN      NaN  2020-01-02 03:02:41 UTC\n",
       "...                   ...      ...                      ...\n",
       "100099540  568874704  NaN      NaN  2020-01-31 17:01:08 UTC\n",
       "           603169389  NaN      NaN  2020-01-31 17:16:14 UTC\n",
       "           607514783  NaN      NaN  2020-01-31 17:36:01 UTC\n",
       "100099541  608656588  NaN      NaN  2020-01-31 17:07:04 UTC\n",
       "100099553  608656588  NaN      NaN  2020-01-31 17:18:41 UTC\n",
       "\n",
       "[29964712 rows x 3 columns]"
      ]
     },
     "execution_count": 3,
     "metadata": {},
     "output_type": "execute_result"
    }
   ],
   "source": [
    "#I made a pivot table of the times of first events that users made\n",
    "table = pd.pivot_table(df, values='event_time', index=['product_id','user_id'],\n",
    "                    columns=['event_type'], aggfunc=min)\n",
    "table"
   ]
  },
  {
   "cell_type": "code",
   "execution_count": 4,
   "metadata": {},
   "outputs": [
    {
     "data": {
      "text/plain": [
       "0.04326809481766419"
      ]
     },
     "execution_count": 4,
     "metadata": {},
     "output_type": "execute_result"
    }
   ],
   "source": [
    "#and then counted probability of user to view a product before buying\n",
    "answer = len(table[table['view']<table['cart']])/len(table)\n",
    "answer"
   ]
  },
  {
   "cell_type": "markdown",
   "metadata": {},
   "source": [
    "### What’s the probability that products added once to the cart are effectively bought?"
   ]
  },
  {
   "cell_type": "code",
   "execution_count": 5,
   "metadata": {},
   "outputs": [
    {
     "data": {
      "text/plain": [
       "0.4388273373147291"
      ]
     },
     "execution_count": 5,
     "metadata": {},
     "output_type": "execute_result"
    }
   ],
   "source": [
    "# the same pivot from above, counting all rows with time of 'cart' before the 'purchase' and divide by total length\n",
    "answer = len(table[table['cart']<table['purchase']])/len(table['cart'].dropna())\n",
    "answer"
   ]
  },
  {
   "cell_type": "markdown",
   "metadata": {},
   "source": [
    "## [RQ2] What are the categories of the most trending products overall? For each month visualize this information through a plot showing the number of sold products per category. "
   ]
  },
  {
   "cell_type": "code",
   "execution_count": 10,
   "metadata": {},
   "outputs": [],
   "source": [
    "import seaborn as sns\n",
    "#split category_code into 'category' and 'subcategory' columns\n",
    "df[['category', 'subcategory']] = df['category_code'].str.split('.', 1, expand=True)\n",
    "#count number of purchases of products and sort in descending order\n",
    "group_purchase_by_cat=df[df['event_type']=='purchase'].groupby(['product_id','category']).count()"
   ]
  },
  {
   "cell_type": "code",
   "execution_count": 11,
   "metadata": {},
   "outputs": [
    {
     "data": {
      "text/plain": [
       "product_id  category    \n",
       "1004767     construction    36854\n",
       "1005100     construction    26997\n",
       "1005115     construction    26401\n",
       "1005212     construction    16553\n",
       "4804056     sport           15442\n",
       "1002544     construction    14992\n",
       "1005160     construction    11894\n",
       "1005105     construction    10629\n",
       "1004873     construction     9795\n",
       "1004856     construction     9008\n",
       "Name: user_id, dtype: int64"
      ]
     },
     "execution_count": 11,
     "metadata": {},
     "output_type": "execute_result"
    }
   ],
   "source": [
    "group_purchase_by_cat['user_id'].sort_values(ascending=False).head(10)\n",
    "#As you can see the category of most trending products is electronics"
   ]
  },
  {
   "cell_type": "code",
   "execution_count": 12,
   "metadata": {},
   "outputs": [
    {
     "name": "stderr",
     "output_type": "stream",
     "text": [
      "/home/dias/TTS/lib/python3.6/site-packages/seaborn/_decorators.py:43: FutureWarning: Pass the following variables as keyword args: x, y. From version 0.12, the only valid positional argument will be `data`, and passing other arguments without an explicit keyword will result in an error or misinterpretation.\n",
      "  FutureWarning\n"
     ]
    },
    {
     "data": {
      "text/plain": [
       "Text(0, 0.5, 'Number of purchases')"
      ]
     },
     "execution_count": 12,
     "metadata": {},
     "output_type": "execute_result"
    },
    {
     "data": {
      "image/png": "[encoded data removed]",
      "text/plain": [
       "<Figure size 1152x864 with 1 Axes>"
      ]
     },
     "metadata": {
      "needs_background": "light"
     },
     "output_type": "display_data"
    }
   ],
   "source": [
    "group_purchase_by_cat=df[df['event_type']=='purchase'].groupby(['category'])['price'].count()\n",
    "sorted_group_purchase_by_cat = group_purchase_by_cat.dropna().sort_values(ascending=False)\n",
    "plt.figure(figsize =(16, 12)) \n",
    "index_category = [str(i) for i in sorted_group_purchase_by_cat.index]\n",
    "ax= sns.barplot(index_category,sorted_group_purchase_by_cat)\n",
    "for p in ax.patches:\n",
    "    ax.annotate(format(p.get_height(),',.0f'), (p.get_x() , p.get_height()),)\n",
    "plt.title('Total number of purchases by category in {}'.format(name))\n",
    "plt.xlabel('Category')\n",
    "plt.ylabel('Number of purchases')"
   ]
  },
  {
   "cell_type": "markdown",
   "metadata": {},
   "source": [
    "### Plot the most visited subcategories."
   ]
  },
  {
   "cell_type": "code",
   "execution_count": 13,
   "metadata": {},
   "outputs": [
    {
     "name": "stderr",
     "output_type": "stream",
     "text": [
      "/home/dias/TTS/lib/python3.6/site-packages/seaborn/_decorators.py:43: FutureWarning: Pass the following variables as keyword args: x, y. From version 0.12, the only valid positional argument will be `data`, and passing other arguments without an explicit keyword will result in an error or misinterpretation.\n",
      "  FutureWarning\n"
     ]
    },
    {
     "data": {
      "text/plain": [
       "Text(0, 0.5, 'Number of views')"
      ]
     },
     "execution_count": 13,
     "metadata": {},
     "output_type": "execute_result"
    },
    {
     "data": {
      "image/png": "[encoded data removed]",
      "text/plain": [
       "<Figure size 1152x864 with 1 Axes>"
      ]
     },
     "metadata": {
      "needs_background": "light"
     },
     "output_type": "display_data"
    }
   ],
   "source": [
    "group_view_by_subcat=df[df['event_type']=='view'].groupby(['subcategory'])['price'].count()\n",
    "sorted_group_view_by_subcat = group_view_by_subcat.dropna().sort_values(ascending=False)\n",
    "plt.figure(figsize =(16, 12)) \n",
    "index_category = [str(i) for i in sorted_group_view_by_subcat.index]\n",
    "ax= sns.barplot(index_category[:10],sorted_group_view_by_subcat[:10])\n",
    "for p in ax.patches:\n",
    "    ax.annotate(format(p.get_height(),',.0f'), (p.get_x() , p.get_height()),)\n",
    "plt.title('10 most visited subcategories in {}'.format(name))\n",
    "plt.xlabel('Subcategory')\n",
    "plt.ylabel('Number of views')"
   ]
  },
  {
   "cell_type": "markdown",
   "metadata": {},
   "source": [
    "### What are the 10 most sold products per category?"
   ]
  },
  {
   "cell_type": "code",
   "execution_count": 14,
   "metadata": {},
   "outputs": [
    {
     "name": "stdout",
     "output_type": "stream",
     "text": [
      "category      product_id\n",
      "construction  1004767      36854.000000\n",
      "              1005100      26997.000000\n",
      "              1005115      26401.000000\n",
      "              1005212      16553.000000\n",
      "              1002544      14992.000000\n",
      "              1005160      11894.000000\n",
      "              1005105      10629.000000\n",
      "              1004873       9795.000000\n",
      "              1004856       9008.000000\n",
      "Name: purchase, dtype: float64\n",
      "category  product_id\n",
      "apparel   5100816      6188.000000\n",
      "          4100346      2587.000000\n",
      "          16500007     1139.000000\n",
      "          1200947       959.000000\n",
      "          4100126       884.000000\n",
      "          1201504       738.000000\n",
      "          100057088     671.000000\n",
      "          5100503       617.000000\n",
      "          4100129       516.000000\n",
      "Name: purchase, dtype: float64\n",
      "category    product_id\n",
      "appliances  1005174      5475.000000\n",
      "            1801690      2614.000000\n",
      "            1801766      1999.000000\n",
      "            3700926      1817.000000\n",
      "            1005186      1728.000000\n",
      "            1801881      1624.000000\n",
      "            3601603      1232.000000\n",
      "            3600661      1224.000000\n",
      "            1801805      1069.000000\n",
      "Name: purchase, dtype: float64\n",
      "category  product_id\n",
      "sport     4804056      15442.000000\n",
      "          4804055       4696.000000\n",
      "          4804718       3386.000000\n",
      "          4804295       2552.000000\n",
      "          4804660       2225.000000\n",
      "          4803977       1732.000000\n",
      "          4803976        510.000000\n",
      "          4804409        442.000000\n",
      "          4803879        435.000000\n",
      "Name: purchase, dtype: float64\n",
      "No purchases in nan\n",
      "category     product_id\n",
      "electronics  5100562      1752.000000\n",
      "             1307545      1690.000000\n",
      "             5100855      1585.000000\n",
      "             1307589      1459.000000\n",
      "             1307188      1020.000000\n",
      "             5100610       840.000000\n",
      "             1307582       693.000000\n",
      "             5100337       689.000000\n",
      "             4804572       679.000000\n",
      "Name: purchase, dtype: float64\n",
      "category   product_id\n",
      "furniture  2900561      527.000000\n",
      "           2900958      446.000000\n",
      "           11400317     438.000000\n",
      "           3801134      379.000000\n",
      "           2900934      370.000000\n",
      "           3800979      280.000000\n",
      "           15200181     250.000000\n",
      "           2900090      226.000000\n",
      "           11400666     211.000000\n",
      "Name: purchase, dtype: float64\n",
      "category  product_id\n",
      "kids      22300003     436.000000\n",
      "          1500440      300.000000\n",
      "          7004492      291.000000\n",
      "          1500258      233.000000\n",
      "          11200532     216.000000\n",
      "          26500136     204.000000\n",
      "          11200192     186.000000\n",
      "          48400005     185.000000\n",
      "          26500139     152.000000\n",
      "Name: purchase, dtype: float64\n",
      "category   product_id\n",
      "computers  3300349      507.000000\n",
      "           26400293     449.000000\n",
      "           100063161    348.000000\n",
      "           26400266     282.000000\n",
      "           26400194     247.000000\n",
      "           26400402     239.000000\n",
      "           1307136      228.000000\n",
      "           26401414     220.000000\n",
      "           26402266     157.000000\n",
      "Name: purchase, dtype: float64\n",
      "category     product_id\n",
      "accessories  4700478      347.000000\n",
      "             4700630      286.000000\n",
      "             16000973     158.000000\n",
      "             4700419      113.000000\n",
      "             4700589       95.000000\n",
      "             4700407       80.000000\n",
      "             4700542       71.000000\n",
      "             4700738       68.000000\n",
      "             100017531     64.000000\n",
      "Name: purchase, dtype: float64\n",
      "category  product_id\n",
      "auto      27900026     165.000000\n",
      "          100023264    153.000000\n",
      "          27900034     141.000000\n",
      "          100016665    116.000000\n",
      "          100019294     92.000000\n",
      "          100017086     83.000000\n",
      "          27900038      76.000000\n",
      "          24400436      71.000000\n",
      "          5701167       69.000000\n",
      "Name: purchase, dtype: float64\n",
      "category    product_id\n",
      "stationery  12900142     10.000000\n",
      "            12900132      9.000000\n",
      "            12900111      8.000000\n",
      "            16600280      8.000000\n",
      "            16600214      7.000000\n",
      "            16600211      6.000000\n",
      "            12900361      6.000000\n",
      "            12900110      6.000000\n",
      "            100010207     6.000000\n",
      "Name: purchase, dtype: float64\n",
      "category      product_id\n",
      "country_yard  26800030     109.000000\n",
      "              21700002      91.000000\n",
      "              40500104      91.000000\n",
      "              26800031      47.000000\n",
      "              29501872      46.000000\n",
      "              40500183      42.000000\n",
      "              21700003      33.000000\n",
      "              21700001      33.000000\n",
      "              40500173      26.000000\n",
      "Name: purchase, dtype: float64\n",
      "category  product_id\n",
      "medicine  29501042     38.000000\n",
      "          29501031     37.000000\n",
      "          29502182     25.000000\n",
      "          29501041     23.000000\n",
      "          29501859     20.000000\n",
      "          29501001     15.000000\n",
      "          29501929     12.000000\n",
      "          100009497    11.000000\n",
      "          29501795      9.000000\n",
      "Name: purchase, dtype: float64\n"
     ]
    }
   ],
   "source": [
    "#Delete nan in order to avoid error\n",
    "bf = df['category'].unique()\n",
    "for i in bf:\n",
    "    try:\n",
    "        #make pivot table for each category, and sort values in descending order\n",
    "        table4 = pd.pivot_table(df[df['category']==i], values='event_time', index=['category','product_id'],\n",
    "                        columns=['event_type'], aggfunc=len)\n",
    "        print(table4['purchase'].dropna().sort_values(ascending =False)[:9])\n",
    "    except:\n",
    "        print('No purchases in {}'.format(i))"
   ]
  },
  {
   "cell_type": "markdown",
   "metadata": {},
   "source": [
    "## [RQ4] How much does each brand earn per month? "
   ]
  },
  {
   "cell_type": "code",
   "execution_count": 15,
   "metadata": {},
   "outputs": [
    {
     "data": {
      "text/html": [
       "<div>\n",
       "<style scoped>\n",
       "    .dataframe tbody tr th:only-of-type {\n",
       "        vertical-align: middle;\n",
       "    }\n",
       "\n",
       "    .dataframe tbody tr th {\n",
       "        vertical-align: top;\n",
       "    }\n",
       "\n",
       "    .dataframe thead th {\n",
       "        text-align: right;\n",
       "    }\n",
       "</style>\n",
       "<table border=\"1\" class=\"dataframe\">\n",
       "  <thead>\n",
       "    <tr style=\"text-align: right;\">\n",
       "      <th>event_type</th>\n",
       "      <th>cart</th>\n",
       "      <th>purchase</th>\n",
       "      <th>view</th>\n",
       "    </tr>\n",
       "    <tr>\n",
       "      <th>brand</th>\n",
       "      <th></th>\n",
       "      <th></th>\n",
       "      <th></th>\n",
       "    </tr>\n",
       "  </thead>\n",
       "  <tbody>\n",
       "    <tr>\n",
       "      <th>a-case</th>\n",
       "      <td>4228.100000</td>\n",
       "      <td>861.960000</td>\n",
       "      <td>222118.360000</td>\n",
       "    </tr>\n",
       "    <tr>\n",
       "      <th>a-derma</th>\n",
       "      <td>420.980000</td>\n",
       "      <td>34.190000</td>\n",
       "      <td>11682.700000</td>\n",
       "    </tr>\n",
       "    <tr>\n",
       "      <th>a-elita</th>\n",
       "      <td>90.260000</td>\n",
       "      <td>nan</td>\n",
       "      <td>8755.720000</td>\n",
       "    </tr>\n",
       "    <tr>\n",
       "      <th>a-mega</th>\n",
       "      <td>626.440000</td>\n",
       "      <td>296.690000</td>\n",
       "      <td>21878.030000</td>\n",
       "    </tr>\n",
       "    <tr>\n",
       "      <th>aardwolf</th>\n",
       "      <td>255.140000</td>\n",
       "      <td>47.500000</td>\n",
       "      <td>10682.710000</td>\n",
       "    </tr>\n",
       "    <tr>\n",
       "      <th>...</th>\n",
       "      <td>...</td>\n",
       "      <td>...</td>\n",
       "      <td>...</td>\n",
       "    </tr>\n",
       "    <tr>\n",
       "      <th>zwerg</th>\n",
       "      <td>nan</td>\n",
       "      <td>nan</td>\n",
       "      <td>511.760000</td>\n",
       "    </tr>\n",
       "    <tr>\n",
       "      <th>zwilling</th>\n",
       "      <td>nan</td>\n",
       "      <td>nan</td>\n",
       "      <td>366376.800000</td>\n",
       "    </tr>\n",
       "    <tr>\n",
       "      <th>zwillingjahenckels</th>\n",
       "      <td>1081.440000</td>\n",
       "      <td>nan</td>\n",
       "      <td>1467693.150000</td>\n",
       "    </tr>\n",
       "    <tr>\n",
       "      <th>zx</th>\n",
       "      <td>nan</td>\n",
       "      <td>nan</td>\n",
       "      <td>2736.830000</td>\n",
       "    </tr>\n",
       "    <tr>\n",
       "      <th>zyxel</th>\n",
       "      <td>782.490000</td>\n",
       "      <td>688.240000</td>\n",
       "      <td>252850.050000</td>\n",
       "    </tr>\n",
       "  </tbody>\n",
       "</table>\n",
       "<p>5083 rows × 3 columns</p>\n",
       "</div>"
      ],
      "text/plain": [
       "event_type                cart   purchase           view\n",
       "brand                                                   \n",
       "a-case             4228.100000 861.960000  222118.360000\n",
       "a-derma             420.980000  34.190000   11682.700000\n",
       "a-elita              90.260000        nan    8755.720000\n",
       "a-mega              626.440000 296.690000   21878.030000\n",
       "aardwolf            255.140000  47.500000   10682.710000\n",
       "...                        ...        ...            ...\n",
       "zwerg                      nan        nan     511.760000\n",
       "zwilling                   nan        nan  366376.800000\n",
       "zwillingjahenckels 1081.440000        nan 1467693.150000\n",
       "zx                         nan        nan    2736.830000\n",
       "zyxel               782.490000 688.240000  252850.050000\n",
       "\n",
       "[5083 rows x 3 columns]"
      ]
     },
     "execution_count": 15,
     "metadata": {},
     "output_type": "execute_result"
    }
   ],
   "source": [
    "#made a pivot table to sum the selling price per each brand\n",
    "brand_sum = pd.pivot_table(df, values='price', index=['brand'],\n",
    "                    columns=['event_type'], aggfunc=sum)\n",
    "brand_sum"
   ]
  },
  {
   "cell_type": "code",
   "execution_count": 16,
   "metadata": {},
   "outputs": [
    {
     "data": {
      "text/plain": [
       "brand\n",
       "apple                125844143.839979\n",
       "samsung               55786627.060015\n",
       "xiaomi                12004205.120002\n",
       "huawei                 5380149.959999\n",
       "lg                     4200411.050000\n",
       "                           ...       \n",
       "zvezda                            nan\n",
       "zwerg                             nan\n",
       "zwilling                          nan\n",
       "zwillingjahenckels                nan\n",
       "zx                                nan\n",
       "Name: purchase, Length: 5083, dtype: float64"
      ]
     },
     "execution_count": 16,
     "metadata": {},
     "output_type": "execute_result"
    }
   ],
   "source": [
    "#How much does each brand earn per month?\n",
    "brand_revenue = brand_sum['purchase'].sort_values(ascending=False)\n",
    "brand_revenue"
   ]
  },
  {
   "cell_type": "markdown",
   "metadata": {},
   "source": [
    "### Write a function that given the name of a brand in input returns, for each month, its profit."
   ]
  },
  {
   "cell_type": "code",
   "execution_count": 17,
   "metadata": {},
   "outputs": [],
   "source": [
    "# Function that given the name of a brand in input returns, for each month, its profit. \n",
    "def profit_of_brand(brand_name,month):\n",
    "    return month['purchase'][brand_name]\n",
    "\n",
    "def profit_of_brand_for_each_month(brand_name,list_of_months):\n",
    "    return [i['purchase'][brand_name] for i  in list_of_months]"
   ]
  },
  {
   "cell_type": "markdown",
   "metadata": {},
   "source": [
    "### Is the average price of products of different brands significantly different? "
   ]
  },
  {
   "cell_type": "code",
   "execution_count": 18,
   "metadata": {
    "scrolled": true
   },
   "outputs": [
    {
     "data": {
      "text/html": [
       "<div>\n",
       "<style scoped>\n",
       "    .dataframe tbody tr th:only-of-type {\n",
       "        vertical-align: middle;\n",
       "    }\n",
       "\n",
       "    .dataframe tbody tr th {\n",
       "        vertical-align: top;\n",
       "    }\n",
       "\n",
       "    .dataframe thead th {\n",
       "        text-align: right;\n",
       "    }\n",
       "</style>\n",
       "<table border=\"1\" class=\"dataframe\">\n",
       "  <thead>\n",
       "    <tr style=\"text-align: right;\">\n",
       "      <th></th>\n",
       "      <th>event_type</th>\n",
       "      <th>cart</th>\n",
       "      <th>purchase</th>\n",
       "      <th>view</th>\n",
       "    </tr>\n",
       "    <tr>\n",
       "      <th>subcategory</th>\n",
       "      <th>brand</th>\n",
       "      <th></th>\n",
       "      <th></th>\n",
       "      <th></th>\n",
       "    </tr>\n",
       "  </thead>\n",
       "  <tbody>\n",
       "    <tr>\n",
       "      <th rowspan=\"27\" valign=\"top\">accessories.alarm</th>\n",
       "      <th>absolutechampion</th>\n",
       "      <td>45.050000</td>\n",
       "      <td>45.050000</td>\n",
       "      <td>45.050000</td>\n",
       "    </tr>\n",
       "    <tr>\n",
       "      <th>appollo</th>\n",
       "      <td>nan</td>\n",
       "      <td>nan</td>\n",
       "      <td>54.060000</td>\n",
       "    </tr>\n",
       "    <tr>\n",
       "      <th>asrock</th>\n",
       "      <td>137.980000</td>\n",
       "      <td>nan</td>\n",
       "      <td>129.521818</td>\n",
       "    </tr>\n",
       "    <tr>\n",
       "      <th>asus</th>\n",
       "      <td>181.110000</td>\n",
       "      <td>nan</td>\n",
       "      <td>181.220976</td>\n",
       "    </tr>\n",
       "    <tr>\n",
       "      <th>autoline</th>\n",
       "      <td>nan</td>\n",
       "      <td>nan</td>\n",
       "      <td>353.557872</td>\n",
       "    </tr>\n",
       "    <tr>\n",
       "      <th>body-solid</th>\n",
       "      <td>nan</td>\n",
       "      <td>nan</td>\n",
       "      <td>341.320000</td>\n",
       "    </tr>\n",
       "    <tr>\n",
       "      <th>cenmax</th>\n",
       "      <td>nan</td>\n",
       "      <td>nan</td>\n",
       "      <td>100.390000</td>\n",
       "    </tr>\n",
       "    <tr>\n",
       "      <th>centurion</th>\n",
       "      <td>38.286250</td>\n",
       "      <td>39.895000</td>\n",
       "      <td>41.302401</td>\n",
       "    </tr>\n",
       "    <tr>\n",
       "      <th>dds</th>\n",
       "      <td>244.845441</td>\n",
       "      <td>244.196000</td>\n",
       "      <td>244.992986</td>\n",
       "    </tr>\n",
       "    <tr>\n",
       "      <th>dsk</th>\n",
       "      <td>nan</td>\n",
       "      <td>nan</td>\n",
       "      <td>72.229184</td>\n",
       "    </tr>\n",
       "    <tr>\n",
       "      <th>kenwood</th>\n",
       "      <td>113.260000</td>\n",
       "      <td>113.260000</td>\n",
       "      <td>113.260000</td>\n",
       "    </tr>\n",
       "    <tr>\n",
       "      <th>kgb</th>\n",
       "      <td>84.940000</td>\n",
       "      <td>84.940000</td>\n",
       "      <td>84.940000</td>\n",
       "    </tr>\n",
       "    <tr>\n",
       "      <th>mydean</th>\n",
       "      <td>128.700000</td>\n",
       "      <td>128.700000</td>\n",
       "      <td>128.700000</td>\n",
       "    </tr>\n",
       "    <tr>\n",
       "      <th>pandora</th>\n",
       "      <td>109.395000</td>\n",
       "      <td>nan</td>\n",
       "      <td>184.578506</td>\n",
       "    </tr>\n",
       "    <tr>\n",
       "      <th>pioneer</th>\n",
       "      <td>nan</td>\n",
       "      <td>nan</td>\n",
       "      <td>64.350000</td>\n",
       "    </tr>\n",
       "    <tr>\n",
       "      <th>romana</th>\n",
       "      <td>nan</td>\n",
       "      <td>nan</td>\n",
       "      <td>68.518923</td>\n",
       "    </tr>\n",
       "    <tr>\n",
       "      <th>scher-khan</th>\n",
       "      <td>72.070000</td>\n",
       "      <td>72.070000</td>\n",
       "      <td>75.776362</td>\n",
       "    </tr>\n",
       "    <tr>\n",
       "      <th>silapro</th>\n",
       "      <td>15.960000</td>\n",
       "      <td>15.960000</td>\n",
       "      <td>15.960000</td>\n",
       "    </tr>\n",
       "    <tr>\n",
       "      <th>sparta</th>\n",
       "      <td>29.320000</td>\n",
       "      <td>29.320000</td>\n",
       "      <td>29.320000</td>\n",
       "    </tr>\n",
       "    <tr>\n",
       "      <th>spektrsport</th>\n",
       "      <td>39.380000</td>\n",
       "      <td>nan</td>\n",
       "      <td>39.380000</td>\n",
       "    </tr>\n",
       "    <tr>\n",
       "      <th>starline</th>\n",
       "      <td>211.973077</td>\n",
       "      <td>214.163000</td>\n",
       "      <td>139.114353</td>\n",
       "    </tr>\n",
       "    <tr>\n",
       "      <th>swat</th>\n",
       "      <td>42.071429</td>\n",
       "      <td>40.673333</td>\n",
       "      <td>42.555847</td>\n",
       "    </tr>\n",
       "    <tr>\n",
       "      <th>tec</th>\n",
       "      <td>352.650000</td>\n",
       "      <td>nan</td>\n",
       "      <td>352.650000</td>\n",
       "    </tr>\n",
       "    <tr>\n",
       "      <th>tomahawk</th>\n",
       "      <td>89.506364</td>\n",
       "      <td>86.230000</td>\n",
       "      <td>92.869683</td>\n",
       "    </tr>\n",
       "    <tr>\n",
       "      <th>torneo</th>\n",
       "      <td>22.650000</td>\n",
       "      <td>22.650000</td>\n",
       "      <td>22.650000</td>\n",
       "    </tr>\n",
       "    <tr>\n",
       "      <th>tuka</th>\n",
       "      <td>16.730000</td>\n",
       "      <td>16.730000</td>\n",
       "      <td>16.730000</td>\n",
       "    </tr>\n",
       "    <tr>\n",
       "      <th>uralsport</th>\n",
       "      <td>47.620000</td>\n",
       "      <td>47.620000</td>\n",
       "      <td>47.620000</td>\n",
       "    </tr>\n",
       "    <tr>\n",
       "      <th rowspan=\"23\" valign=\"top\">accessories.anti_freeze</th>\n",
       "      <th>adel</th>\n",
       "      <td>34.354000</td>\n",
       "      <td>33.400000</td>\n",
       "      <td>28.908511</td>\n",
       "    </tr>\n",
       "    <tr>\n",
       "      <th>alexrojo</th>\n",
       "      <td>46.330000</td>\n",
       "      <td>nan</td>\n",
       "      <td>43.242000</td>\n",
       "    </tr>\n",
       "    <tr>\n",
       "      <th>alvitek</th>\n",
       "      <td>17.286176</td>\n",
       "      <td>16.855714</td>\n",
       "      <td>17.871762</td>\n",
       "    </tr>\n",
       "    <tr>\n",
       "      <th>barokko</th>\n",
       "      <td>12.727000</td>\n",
       "      <td>12.790000</td>\n",
       "      <td>12.318347</td>\n",
       "    </tr>\n",
       "    <tr>\n",
       "      <th>bartek</th>\n",
       "      <td>nan</td>\n",
       "      <td>nan</td>\n",
       "      <td>60.490000</td>\n",
       "    </tr>\n",
       "    <tr>\n",
       "      <th>belezza</th>\n",
       "      <td>nan</td>\n",
       "      <td>nan</td>\n",
       "      <td>17.533846</td>\n",
       "    </tr>\n",
       "    <tr>\n",
       "      <th>biomecanics</th>\n",
       "      <td>35.780000</td>\n",
       "      <td>nan</td>\n",
       "      <td>38.280188</td>\n",
       "    </tr>\n",
       "    <tr>\n",
       "      <th>boarteks</th>\n",
       "      <td>nan</td>\n",
       "      <td>nan</td>\n",
       "      <td>26.351236</td>\n",
       "    </tr>\n",
       "    <tr>\n",
       "      <th>bugaboo</th>\n",
       "      <td>nan</td>\n",
       "      <td>nan</td>\n",
       "      <td>141.550000</td>\n",
       "    </tr>\n",
       "    <tr>\n",
       "      <th>burton</th>\n",
       "      <td>nan</td>\n",
       "      <td>nan</td>\n",
       "      <td>643.260000</td>\n",
       "    </tr>\n",
       "    <tr>\n",
       "      <th>butterfly</th>\n",
       "      <td>33.130000</td>\n",
       "      <td>nan</td>\n",
       "      <td>29.604118</td>\n",
       "    </tr>\n",
       "    <tr>\n",
       "      <th>casaconforte</th>\n",
       "      <td>nan</td>\n",
       "      <td>nan</td>\n",
       "      <td>15.833462</td>\n",
       "    </tr>\n",
       "    <tr>\n",
       "      <th>ekonomia</th>\n",
       "      <td>nan</td>\n",
       "      <td>nan</td>\n",
       "      <td>25.980000</td>\n",
       "    </tr>\n",
       "    <tr>\n",
       "      <th>elegant</th>\n",
       "      <td>14.410000</td>\n",
       "      <td>nan</td>\n",
       "      <td>14.404260</td>\n",
       "    </tr>\n",
       "    <tr>\n",
       "      <th>garvalin</th>\n",
       "      <td>37.903333</td>\n",
       "      <td>41.440000</td>\n",
       "      <td>37.399758</td>\n",
       "    </tr>\n",
       "    <tr>\n",
       "      <th>intex</th>\n",
       "      <td>37.680603</td>\n",
       "      <td>37.210469</td>\n",
       "      <td>39.031532</td>\n",
       "    </tr>\n",
       "    <tr>\n",
       "      <th>kroskaa</th>\n",
       "      <td>nan</td>\n",
       "      <td>nan</td>\n",
       "      <td>25.809697</td>\n",
       "    </tr>\n",
       "    <tr>\n",
       "      <th>lealelo</th>\n",
       "      <td>nan</td>\n",
       "      <td>nan</td>\n",
       "      <td>52.770000</td>\n",
       "    </tr>\n",
       "    <tr>\n",
       "      <th>merry</th>\n",
       "      <td>nan</td>\n",
       "      <td>nan</td>\n",
       "      <td>25.680000</td>\n",
       "    </tr>\n",
       "    <tr>\n",
       "      <th>minimen</th>\n",
       "      <td>41.482857</td>\n",
       "      <td>nan</td>\n",
       "      <td>41.915055</td>\n",
       "    </tr>\n",
       "    <tr>\n",
       "      <th>neposeda</th>\n",
       "      <td>25.230000</td>\n",
       "      <td>25.230000</td>\n",
       "      <td>25.230000</td>\n",
       "    </tr>\n",
       "    <tr>\n",
       "      <th>pablosky</th>\n",
       "      <td>47.397143</td>\n",
       "      <td>53.540000</td>\n",
       "      <td>46.205507</td>\n",
       "    </tr>\n",
       "    <tr>\n",
       "      <th>perina</th>\n",
       "      <td>nan</td>\n",
       "      <td>nan</td>\n",
       "      <td>16.610000</td>\n",
       "    </tr>\n",
       "  </tbody>\n",
       "</table>\n",
       "</div>"
      ],
      "text/plain": [
       "event_type                                     cart   purchase       view\n",
       "subcategory             brand                                            \n",
       "accessories.alarm       absolutechampion  45.050000  45.050000  45.050000\n",
       "                        appollo                 nan        nan  54.060000\n",
       "                        asrock           137.980000        nan 129.521818\n",
       "                        asus             181.110000        nan 181.220976\n",
       "                        autoline                nan        nan 353.557872\n",
       "                        body-solid              nan        nan 341.320000\n",
       "                        cenmax                  nan        nan 100.390000\n",
       "                        centurion         38.286250  39.895000  41.302401\n",
       "                        dds              244.845441 244.196000 244.992986\n",
       "                        dsk                     nan        nan  72.229184\n",
       "                        kenwood          113.260000 113.260000 113.260000\n",
       "                        kgb               84.940000  84.940000  84.940000\n",
       "                        mydean           128.700000 128.700000 128.700000\n",
       "                        pandora          109.395000        nan 184.578506\n",
       "                        pioneer                 nan        nan  64.350000\n",
       "                        romana                  nan        nan  68.518923\n",
       "                        scher-khan        72.070000  72.070000  75.776362\n",
       "                        silapro           15.960000  15.960000  15.960000\n",
       "                        sparta            29.320000  29.320000  29.320000\n",
       "                        spektrsport       39.380000        nan  39.380000\n",
       "                        starline         211.973077 214.163000 139.114353\n",
       "                        swat              42.071429  40.673333  42.555847\n",
       "                        tec              352.650000        nan 352.650000\n",
       "                        tomahawk          89.506364  86.230000  92.869683\n",
       "                        torneo            22.650000  22.650000  22.650000\n",
       "                        tuka              16.730000  16.730000  16.730000\n",
       "                        uralsport         47.620000  47.620000  47.620000\n",
       "accessories.anti_freeze adel              34.354000  33.400000  28.908511\n",
       "                        alexrojo          46.330000        nan  43.242000\n",
       "                        alvitek           17.286176  16.855714  17.871762\n",
       "                        barokko           12.727000  12.790000  12.318347\n",
       "                        bartek                  nan        nan  60.490000\n",
       "                        belezza                 nan        nan  17.533846\n",
       "                        biomecanics       35.780000        nan  38.280188\n",
       "                        boarteks                nan        nan  26.351236\n",
       "                        bugaboo                 nan        nan 141.550000\n",
       "                        burton                  nan        nan 643.260000\n",
       "                        butterfly         33.130000        nan  29.604118\n",
       "                        casaconforte            nan        nan  15.833462\n",
       "                        ekonomia                nan        nan  25.980000\n",
       "                        elegant           14.410000        nan  14.404260\n",
       "                        garvalin          37.903333  41.440000  37.399758\n",
       "                        intex             37.680603  37.210469  39.031532\n",
       "                        kroskaa                 nan        nan  25.809697\n",
       "                        lealelo                 nan        nan  52.770000\n",
       "                        merry                   nan        nan  25.680000\n",
       "                        minimen           41.482857        nan  41.915055\n",
       "                        neposeda          25.230000  25.230000  25.230000\n",
       "                        pablosky          47.397143  53.540000  46.205507\n",
       "                        perina                  nan        nan  16.610000"
      ]
     },
     "execution_count": 18,
     "metadata": {},
     "output_type": "execute_result"
    }
   ],
   "source": [
    "#Is the average price of products of different brands significantly different? \n",
    "\n",
    "table3 = pd.pivot_table(df, values='price', index=['subcategory','brand'],\n",
    "\n",
    "                    columns=['event_type'], aggfunc='mean')\n",
    "table3[:50]\n"
   ]
  },
  {
   "cell_type": "markdown",
   "metadata": {},
   "source": [
    "##  [RQ7] The Pareto principle states that for many outcomes roughly 80% of consequences come from 20% of the causes. Also known as 80/20 rule, in e-commerce simply means that most of your business, around 80%, likely comes from about 20% of your customers.\n",
    "\n",
    "    Prove that the pareto principle applies to your store.\n"
   ]
  },
  {
   "cell_type": "code",
   "execution_count": 19,
   "metadata": {},
   "outputs": [
    {
     "data": {
      "text/plain": [
       "user_id\n",
       "562104312   294910.730000\n",
       "515428951   218647.800000\n",
       "563599039   210609.420000\n",
       "549109608   166872.390000\n",
       "538216048   158411.290000\n",
       "                 ...     \n",
       "601775709        0.830000\n",
       "543614784        0.830000\n",
       "597613355        0.830000\n",
       "604621030        0.830000\n",
       "603798830        0.800000\n",
       "Name: price, Length: 359105, dtype: float64"
      ]
     },
     "execution_count": 19,
     "metadata": {},
     "output_type": "execute_result"
    }
   ],
   "source": [
    "group_purchase_by_user=df[df['event_type']=='purchase'].groupby(['user_id'])['price'].sum()\n",
    "sorted_group_purchase_by_user = group_purchase_by_user.dropna().sort_values(ascending=False)\n",
    "sorted_group_purchase_by_user\n",
    "#Group by user and sort all purchases by descending order"
   ]
  },
  {
   "cell_type": "code",
   "execution_count": 20,
   "metadata": {},
   "outputs": [
    {
     "data": {
      "text/plain": [
       "261034870.10000002"
      ]
     },
     "execution_count": 20,
     "metadata": {},
     "output_type": "execute_result"
    }
   ],
   "source": [
    "group_purchase_by_product=df[df['event_type']=='purchase']['price'].sum()\n",
    "group_purchase_by_product\n",
    "#get all the revenue that was made in this month"
   ]
  },
  {
   "cell_type": "code",
   "execution_count": 21,
   "metadata": {},
   "outputs": [
    {
     "name": "stdout",
     "output_type": "stream",
     "text": [
      "Percent of money 20 % of customers gave out of total 261034870.10000002: 71.30879300864461%\n"
     ]
    },
    {
     "data": {
      "image/png": "[encoded data removed]",
      "text/plain": [
       "<Figure size 1152x648 with 1 Axes>"
      ]
     },
     "metadata": {
      "needs_background": "light"
     },
     "output_type": "display_data"
    }
   ],
   "source": [
    "plt.figure(figsize =(16, 9)) \n",
    "amount_of_20percent_customers = len(sorted_group_purchase_by_user) * 0.2\n",
    "#Count % of money that 20% of top customers gave\n",
    "index_user = [str(i) for i in sorted_group_purchase_by_user.index]\n",
    "plt.bar(index_user[:20],sorted_group_purchase_by_user[:20])\n",
    "print('Percent of money 20 % of customers gave out of total {}: {}%'.format(group_purchase_by_product,sum(sorted_group_purchase_by_user[:int(amount_of_20percent_customers)]) /(group_purchase_by_product/100) ))"
   ]
  },
  {
   "cell_type": "code",
   "execution_count": null,
   "metadata": {},
   "outputs": [],
   "source": []
  }
 ],
 "metadata": {
  "kernelspec": {
   "display_name": "Python 3",
   "language": "python",
   "name": "python3"
  },
  "language_info": {
   "codemirror_mode": {
    "name": "ipython",
    "version": 3
   },
   "file_extension": ".py",
   "mimetype": "text/x-python",
   "name": "python",
   "nbconvert_exporter": "python",
   "pygments_lexer": "ipython3",
   "version": "3.6.9"
  }
 },
 "nbformat": 4,
 "nbformat_minor": 2
}
